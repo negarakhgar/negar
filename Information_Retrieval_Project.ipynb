{
  "cells": [
    {
      "cell_type": "code",
      "execution_count": null,
      "metadata": {
        "id": "W9gg8XnXCLxw"
      },
      "outputs": [],
      "source": [
        "!python -m spacy download en_core_web_lg"
      ]
    },
    {
      "cell_type": "code",
      "execution_count": null,
      "metadata": {
        "id": "LXt6z7qnrAyv",
        "colab": {
          "base_uri": "https://localhost:8080/"
        },
        "outputId": "1630e6b2-8292-4364-c9cb-808274fdfc1f"
      },
      "outputs": [
        {
          "output_type": "stream",
          "name": "stdout",
          "text": [
            "[nltk_data] Downloading package wordnet to /root/nltk_data...\n",
            "[nltk_data]   Unzipping corpora/wordnet.zip.\n",
            "[nltk_data] Downloading package stopwords to /root/nltk_data...\n",
            "[nltk_data]   Unzipping corpora/stopwords.zip.\n",
            "[nltk_data] Downloading package punkt to /root/nltk_data...\n",
            "[nltk_data]   Unzipping tokenizers/punkt.zip.\n"
          ]
        }
      ],
      "source": [
        "import pandas as pd\n",
        "from pandas.plotting import parallel_coordinates\n",
        "import numpy as np\n",
        "import matplotlib.pyplot as plt\n",
        "import seaborn as sns\n",
        "from collections import defaultdict\n",
        "from tqdm.notebook import tqdm\n",
        "import spacy\n",
        "\n",
        "import nltk\n",
        "from nltk import word_tokenize\n",
        "from nltk.corpus import stopwords\n",
        "from nltk.corpus import wordnet as wn\n",
        "from nltk.stem import WordNetLemmatizer\n",
        "from nltk.stem import PorterStemmer\n",
        "from sklearn.naive_bayes import GaussianNB\n",
        "from sklearn.tree import DecisionTreeClassifier\n",
        "from sklearn.neural_network import MLPClassifier\n",
        "from sklearn.ensemble import AdaBoostClassifier\n",
        "\n",
        "from string import punctuation\n",
        "import seaborn as sns\n",
        "\n",
        "from sklearn.metrics.pairwise import cosine_similarity\n",
        "from sklearn import svm\n",
        "\n",
        "import random\n",
        "import pickle\n",
        "\n",
        "#---------------downloading ---------------------\n",
        "spacy = spacy.load(\"en_core_web_lg\")\n",
        "nltk.download('wordnet')\n",
        "nltk.download('stopwords')\n",
        "nltk.download('punkt')\n",
        "stopWords = stopwords.words('english')"
      ]
    },
    {
      "cell_type": "code",
      "execution_count": null,
      "metadata": {
        "id": "u6K8cC3XsB6r"
      },
      "outputs": [],
      "source": [
        "#SNI dataset:\n",
        "train_raw_sni = pd.read_json(\"./drive/MyDrive/ColabData/snli_1.0_train.jsonl\",lines = True)\n",
        "train_raw_sni = train_raw_sni[train_raw_sni.gold_label!='-'][:6633]\n",
        "\n",
        "#MNLI dataset:\n",
        "train_raw_mnli = pd.read_json(\"./drive/MyDrive/ColabData/mnli_train.jsonl\",lines = True)\n",
        "train_raw_mnli = train_raw_mnli[train_raw_mnli.gold_label!='-'][:10000]\n",
        "\n",
        "\n",
        "#RTE dataset\n",
        "train_raw_rte3_train = pd.read_xml(\"./drive/MyDrive/ColabData/rte3_dev.xml\")# 800 sample data\n",
        "train_raw_rte3_train.drop(columns=(\"length\"),inplace = True)\n",
        "train_raw_rte2_train = pd.read_xml(\"./drive/MyDrive/ColabData/rte2_dev.xml\")# 400 sample data\n",
        "train_raw_rte2_test = pd.read_xml(\"./drive/MyDrive/ColabData/rte2_test.xml\")# 800 sample data\n",
        "train_raw_rte1_train = pd.read_xml(\"./drive/MyDrive/ColabData/rte1_dev.xml\")# 567 sample data\n",
        "train_raw_rte1_test = pd.read_xml(\"./drive/MyDrive/ColabData/rte1_test.xml\")# 800 sample data\n",
        "train_raw_rte1_train.rename(columns = {\"value\":\"entailment\"},inplace = True)\n",
        "train_raw_rte1_test.rename(columns = {\"value\":\"entailment\"},inplace = True)\n",
        "\n",
        "\n",
        "train_raw = train_raw_rte3_train.append(train_raw_rte2_train,ignore_index=True)\n",
        "train_raw = train_raw.append(train_raw_rte2_test,ignore_index=True)\n",
        "train_raw = train_raw.append(train_raw_rte1_train,ignore_index=True)\n",
        "train_raw = train_raw.append(train_raw_rte1_test,ignore_index=True)\n",
        "\n",
        "\n",
        "\n",
        "\n",
        "train_raw.loc[ train_raw[\"entailment\"] == \"YES\",   \"entailment\" ] = \"entailment\"\n",
        "train_raw.loc[ train_raw[\"entailment\"] == True,  \"entailment\" ] = \"entailment\"\n",
        "train_raw.loc[ train_raw[\"entailment\"] == \"NO\",    \"entailment\" ] = \"other\"\n",
        "train_raw.loc[ train_raw[\"entailment\"] == False, \"entailment\" ] = \"other\"\n",
        "\n",
        "train_raw.rename(columns = {\"t\":\"sentence1\",\"h\":\"sentence2\",\"entailment\":\"gold_label\"},inplace = True)\n",
        "train_raw = train_raw.append(train_raw_sni,ignore_index = True)\n",
        "train_raw = train_raw.append(train_raw_mnli,ignore_index = True)\n",
        "\n",
        "\n",
        "\n",
        "#test RTE dataset\n",
        "test_raw_rte3 = pd.read_xml(\"./drive/MyDrive/ColabData/rte3_test.xml\")\n",
        "test_raw_sni = pd.read_json(\"./drive/MyDrive/ColabData/snli_1.0_test.jsonl\",lines = True)\n",
        "test_raw_sni = train_raw_sni[train_raw_sni.gold_label!='-'][:2200]\n",
        "\n",
        "test_raw_rte3.loc[test_raw_rte3[\"entailment\"]==\"YES\",\"entailment\"] = \"entailment\"\n",
        "test_raw_rte3.loc[test_raw_rte3[\"entailment\"]==\"NO\",\"entailment\"] = \"other\"\n",
        "test_raw_rte3.rename(columns = {\"t\":\"sentence1\",\"h\":\"sentence2\",\"entailment\":\"gold_label\"},inplace = True)\n",
        "\n",
        "test_raw = test_raw_rte3.append(test_raw_sni,ignore_index = True)\n",
        "\n"
      ]
    },
    {
      "cell_type": "code",
      "execution_count": null,
      "metadata": {
        "colab": {
          "base_uri": "https://localhost:8080/"
        },
        "id": "a54gEA_5sMke",
        "outputId": "6d5ef6bb-fd9d-4db2-ad8c-bcb3376cf2e3"
      },
      "outputs": [
        {
          "output_type": "stream",
          "name": "stdout",
          "text": [
            "len test: 3000 len train: 20000\n"
          ]
        }
      ],
      "source": [
        "train = train_raw\n",
        "train.drop(columns=[\"id\",\"task\",\"annotator_labels\",\"captionID\",\"pairID\",\"sentence1_binary_parse\",\"sentence1_parse\",\"sentence2_binary_parse\",\"sentence2_parse\",\"genre\",\"promptID\"],inplace = True)\n",
        "train.replace(\"neutral\",\"other\", inplace = True)\n",
        "train.replace(\"contradiction\",\"other\", inplace = True)\n",
        "train = train.reset_index()\n",
        "\n",
        "test = test_raw\n",
        "test.replace(\"neutral\",\"other\", inplace = True)\n",
        "test.replace(\"contradiction\",\"other\", inplace = True)\n",
        "\n",
        "print(\"len test:\",len(test),\"len train:\",len(train))"
      ]
    },
    {
      "cell_type": "code",
      "execution_count": null,
      "metadata": {
        "colab": {
          "base_uri": "https://localhost:8080/",
          "height": 424
        },
        "id": "eIuHqx52hE51",
        "outputId": "36badaaf-ed75-4a15-c97c-4bdf53cffc5b"
      },
      "outputs": [
        {
          "output_type": "execute_result",
          "data": {
            "text/plain": [
              "       index  gold_label                                          sentence1  \\\n",
              "0          0  entailment  The sale was made to pay Yukos' US$ 27.5 billi...   \n",
              "1          1       other  The sale was made to pay Yukos' US$ 27.5 billi...   \n",
              "2          2       other  Loraine besides participating in Broadway's Dr...   \n",
              "3          3  entailment  \"The Extra Girl\" (1923) is a story of a small-...   \n",
              "4          4  entailment  A bus collision with a truck in Uganda has res...   \n",
              "...      ...         ...                                                ...   \n",
              "19995  19995       other  Because, despite its monopoly power, Microsoft...   \n",
              "19996  19996       other                                'Right,' I mumbled.   \n",
              "19997  19997       other                                        Thanks dad.   \n",
              "19998  19998       other                                      which is good   \n",
              "19999  19999       other  Their breath came in clouds in the cool night ...   \n",
              "\n",
              "                                               sentence2  \n",
              "0                 Baikalfinansgroup was sold to Rosneft.  \n",
              "1                 Yuganskneftegaz cost US$ 27.5 billion.  \n",
              "2      \"Does A Tiger Have A Necktie\" was produced in ...  \n",
              "3              \"The Extra Girl\" was produced by Sennett.  \n",
              "4                   30 die in a bus collision in Uganda.  \n",
              "...                                                  ...  \n",
              "19995  Microsoft owns 60 percent of all computer-rela...  \n",
              "19996                                  'Wrong', I said.   \n",
              "19997                                     Thanks Obama.   \n",
              "19998                         I don't think that's great  \n",
              "19999         Their breath was invisible in the hot air.  \n",
              "\n",
              "[20000 rows x 4 columns]"
            ],
            "text/html": [
              "\n",
              "  <div id=\"df-41686121-c814-49a9-8cb2-e853b4574bd8\">\n",
              "    <div class=\"colab-df-container\">\n",
              "      <div>\n",
              "<style scoped>\n",
              "    .dataframe tbody tr th:only-of-type {\n",
              "        vertical-align: middle;\n",
              "    }\n",
              "\n",
              "    .dataframe tbody tr th {\n",
              "        vertical-align: top;\n",
              "    }\n",
              "\n",
              "    .dataframe thead th {\n",
              "        text-align: right;\n",
              "    }\n",
              "</style>\n",
              "<table border=\"1\" class=\"dataframe\">\n",
              "  <thead>\n",
              "    <tr style=\"text-align: right;\">\n",
              "      <th></th>\n",
              "      <th>index</th>\n",
              "      <th>gold_label</th>\n",
              "      <th>sentence1</th>\n",
              "      <th>sentence2</th>\n",
              "    </tr>\n",
              "  </thead>\n",
              "  <tbody>\n",
              "    <tr>\n",
              "      <th>0</th>\n",
              "      <td>0</td>\n",
              "      <td>entailment</td>\n",
              "      <td>The sale was made to pay Yukos' US$ 27.5 billi...</td>\n",
              "      <td>Baikalfinansgroup was sold to Rosneft.</td>\n",
              "    </tr>\n",
              "    <tr>\n",
              "      <th>1</th>\n",
              "      <td>1</td>\n",
              "      <td>other</td>\n",
              "      <td>The sale was made to pay Yukos' US$ 27.5 billi...</td>\n",
              "      <td>Yuganskneftegaz cost US$ 27.5 billion.</td>\n",
              "    </tr>\n",
              "    <tr>\n",
              "      <th>2</th>\n",
              "      <td>2</td>\n",
              "      <td>other</td>\n",
              "      <td>Loraine besides participating in Broadway's Dr...</td>\n",
              "      <td>\"Does A Tiger Have A Necktie\" was produced in ...</td>\n",
              "    </tr>\n",
              "    <tr>\n",
              "      <th>3</th>\n",
              "      <td>3</td>\n",
              "      <td>entailment</td>\n",
              "      <td>\"The Extra Girl\" (1923) is a story of a small-...</td>\n",
              "      <td>\"The Extra Girl\" was produced by Sennett.</td>\n",
              "    </tr>\n",
              "    <tr>\n",
              "      <th>4</th>\n",
              "      <td>4</td>\n",
              "      <td>entailment</td>\n",
              "      <td>A bus collision with a truck in Uganda has res...</td>\n",
              "      <td>30 die in a bus collision in Uganda.</td>\n",
              "    </tr>\n",
              "    <tr>\n",
              "      <th>...</th>\n",
              "      <td>...</td>\n",
              "      <td>...</td>\n",
              "      <td>...</td>\n",
              "      <td>...</td>\n",
              "    </tr>\n",
              "    <tr>\n",
              "      <th>19995</th>\n",
              "      <td>19995</td>\n",
              "      <td>other</td>\n",
              "      <td>Because, despite its monopoly power, Microsoft...</td>\n",
              "      <td>Microsoft owns 60 percent of all computer-rela...</td>\n",
              "    </tr>\n",
              "    <tr>\n",
              "      <th>19996</th>\n",
              "      <td>19996</td>\n",
              "      <td>other</td>\n",
              "      <td>'Right,' I mumbled.</td>\n",
              "      <td>'Wrong', I said.</td>\n",
              "    </tr>\n",
              "    <tr>\n",
              "      <th>19997</th>\n",
              "      <td>19997</td>\n",
              "      <td>other</td>\n",
              "      <td>Thanks dad.</td>\n",
              "      <td>Thanks Obama.</td>\n",
              "    </tr>\n",
              "    <tr>\n",
              "      <th>19998</th>\n",
              "      <td>19998</td>\n",
              "      <td>other</td>\n",
              "      <td>which is good</td>\n",
              "      <td>I don't think that's great</td>\n",
              "    </tr>\n",
              "    <tr>\n",
              "      <th>19999</th>\n",
              "      <td>19999</td>\n",
              "      <td>other</td>\n",
              "      <td>Their breath came in clouds in the cool night ...</td>\n",
              "      <td>Their breath was invisible in the hot air.</td>\n",
              "    </tr>\n",
              "  </tbody>\n",
              "</table>\n",
              "<p>20000 rows × 4 columns</p>\n",
              "</div>\n",
              "      <button class=\"colab-df-convert\" onclick=\"convertToInteractive('df-41686121-c814-49a9-8cb2-e853b4574bd8')\"\n",
              "              title=\"Convert this dataframe to an interactive table.\"\n",
              "              style=\"display:none;\">\n",
              "        \n",
              "  <svg xmlns=\"http://www.w3.org/2000/svg\" height=\"24px\"viewBox=\"0 0 24 24\"\n",
              "       width=\"24px\">\n",
              "    <path d=\"M0 0h24v24H0V0z\" fill=\"none\"/>\n",
              "    <path d=\"M18.56 5.44l.94 2.06.94-2.06 2.06-.94-2.06-.94-.94-2.06-.94 2.06-2.06.94zm-11 1L8.5 8.5l.94-2.06 2.06-.94-2.06-.94L8.5 2.5l-.94 2.06-2.06.94zm10 10l.94 2.06.94-2.06 2.06-.94-2.06-.94-.94-2.06-.94 2.06-2.06.94z\"/><path d=\"M17.41 7.96l-1.37-1.37c-.4-.4-.92-.59-1.43-.59-.52 0-1.04.2-1.43.59L10.3 9.45l-7.72 7.72c-.78.78-.78 2.05 0 2.83L4 21.41c.39.39.9.59 1.41.59.51 0 1.02-.2 1.41-.59l7.78-7.78 2.81-2.81c.8-.78.8-2.07 0-2.86zM5.41 20L4 18.59l7.72-7.72 1.47 1.35L5.41 20z\"/>\n",
              "  </svg>\n",
              "      </button>\n",
              "      \n",
              "  <style>\n",
              "    .colab-df-container {\n",
              "      display:flex;\n",
              "      flex-wrap:wrap;\n",
              "      gap: 12px;\n",
              "    }\n",
              "\n",
              "    .colab-df-convert {\n",
              "      background-color: #E8F0FE;\n",
              "      border: none;\n",
              "      border-radius: 50%;\n",
              "      cursor: pointer;\n",
              "      display: none;\n",
              "      fill: #1967D2;\n",
              "      height: 32px;\n",
              "      padding: 0 0 0 0;\n",
              "      width: 32px;\n",
              "    }\n",
              "\n",
              "    .colab-df-convert:hover {\n",
              "      background-color: #E2EBFA;\n",
              "      box-shadow: 0px 1px 2px rgba(60, 64, 67, 0.3), 0px 1px 3px 1px rgba(60, 64, 67, 0.15);\n",
              "      fill: #174EA6;\n",
              "    }\n",
              "\n",
              "    [theme=dark] .colab-df-convert {\n",
              "      background-color: #3B4455;\n",
              "      fill: #D2E3FC;\n",
              "    }\n",
              "\n",
              "    [theme=dark] .colab-df-convert:hover {\n",
              "      background-color: #434B5C;\n",
              "      box-shadow: 0px 1px 3px 1px rgba(0, 0, 0, 0.15);\n",
              "      filter: drop-shadow(0px 1px 2px rgba(0, 0, 0, 0.3));\n",
              "      fill: #FFFFFF;\n",
              "    }\n",
              "  </style>\n",
              "\n",
              "      <script>\n",
              "        const buttonEl =\n",
              "          document.querySelector('#df-41686121-c814-49a9-8cb2-e853b4574bd8 button.colab-df-convert');\n",
              "        buttonEl.style.display =\n",
              "          google.colab.kernel.accessAllowed ? 'block' : 'none';\n",
              "\n",
              "        async function convertToInteractive(key) {\n",
              "          const element = document.querySelector('#df-41686121-c814-49a9-8cb2-e853b4574bd8');\n",
              "          const dataTable =\n",
              "            await google.colab.kernel.invokeFunction('convertToInteractive',\n",
              "                                                     [key], {});\n",
              "          if (!dataTable) return;\n",
              "\n",
              "          const docLinkHtml = 'Like what you see? Visit the ' +\n",
              "            '<a target=\"_blank\" href=https://colab.research.google.com/notebooks/data_table.ipynb>data table notebook</a>'\n",
              "            + ' to learn more about interactive tables.';\n",
              "          element.innerHTML = '';\n",
              "          dataTable['output_type'] = 'display_data';\n",
              "          await google.colab.output.renderOutput(dataTable, element);\n",
              "          const docLink = document.createElement('div');\n",
              "          docLink.innerHTML = docLinkHtml;\n",
              "          element.appendChild(docLink);\n",
              "        }\n",
              "      </script>\n",
              "    </div>\n",
              "  </div>\n",
              "  "
            ]
          },
          "metadata": {},
          "execution_count": 5
        }
      ],
      "source": [
        "train"
      ]
    },
    {
      "cell_type": "code",
      "execution_count": null,
      "metadata": {
        "id": "1QttBPKXlJiT"
      },
      "outputs": [],
      "source": [
        "def normalizedTokenizer(text):\n",
        "   wnl = WordNetLemmatizer()\n",
        "   ps = PorterStemmer()\n",
        "   return [ps.stem(wnl.lemmatize(x)) for x in word_tokenize(text.lower()) if x not in punctuation and x not in stopWords]"
      ]
    },
    {
      "cell_type": "markdown",
      "metadata": {
        "id": "7psnrMTBPD6_"
      },
      "source": [
        "# First approach, cosine-similarity"
      ]
    },
    {
      "cell_type": "code",
      "execution_count": null,
      "metadata": {
        "id": "WvDbeekWbFBL"
      },
      "outputs": [],
      "source": [
        "def generateBagOfWord(sentences):\n",
        "  BOW = defaultdict(lambda: defaultdict(lambda: 0))\n",
        "  corpus = list(enumerate(sentences))\n",
        "  for i, document in corpus:\n",
        "    tokens = normalizedTokenizer(document)\n",
        "    for token in tokens:\n",
        "        BOW[i][token] += 1\n",
        "  return BOW"
      ]
    },
    {
      "cell_type": "code",
      "execution_count": null,
      "metadata": {
        "id": "QI8q19WQARcA"
      },
      "outputs": [],
      "source": [
        "def predict(T,H,threshold):\n",
        "  bow = generateBagOfWord([T,H])\n",
        "  data = (pd.DataFrame(bow).fillna(0, inplace=False).T).values\n",
        "  similarity = cosine_similarity(data[0].reshape(1, -1),data[1].reshape(1, -1))\n",
        "  if similarity > threshold:\n",
        "    return \"entailment\"\n",
        "  else:\n",
        "    return \"other\""
      ]
    },
    {
      "cell_type": "code",
      "execution_count": null,
      "metadata": {
        "id": "0RI_qcjqPDWZ"
      },
      "outputs": [],
      "source": [
        "def evaluation(threshold):\n",
        "  tp = fp = fn = tn = 0\n",
        "  for index in range(len(test)):\n",
        "    prediction = predict(test.sentence1[index],test.sentence2[index],threshold)\n",
        "    actualLable = test.gold_label[index]\n",
        "    if actualLable == \"entailment\":\n",
        "      if prediction == \"entailment\":\n",
        "        tp +=1\n",
        "      else:\n",
        "        fn +=1\n",
        "    else:\n",
        "        if prediction == \"other\":\n",
        "          tn+=1\n",
        "        else:\n",
        "            fp+=1\n",
        "  return {\"Accuracy\":round( (tp+tn) / (tp+tn+fp+fn),2),\"Percision\":round(tp/(tp+fp),2),\"Recall\":round(tp/(tp+fn),2)}"
      ]
    },
    {
      "cell_type": "code",
      "execution_count": null,
      "metadata": {
        "colab": {
          "base_uri": "https://localhost:8080/"
        },
        "id": "6EABaZVij0m5",
        "outputId": "b8ffb1e4-65e9-4cd8-888f-4a12fb7e12d7"
      },
      "outputs": [
        {
          "output_type": "execute_result",
          "data": {
            "text/plain": [
              "{'Accuracy': 0.66, 'Percision': 0.56, 'Recall': 0.53}"
            ]
          },
          "metadata": {},
          "execution_count": 9
        }
      ],
      "source": [
        "threshold = 0.45\n",
        "evaluation(threshold)"
      ]
    },
    {
      "cell_type": "code",
      "execution_count": null,
      "metadata": {
        "colab": {
          "base_uri": "https://localhost:8080/",
          "height": 502,
          "referenced_widgets": [
            "50346688f9b041ad90785c195c7ab0a4",
            "f4718858371b4bb0ba607b19c40b0e5c",
            "6fbbbff2e167470499623d4dbf6c3fee",
            "4fbd180eb90b44ff84d44fc77b62fb57",
            "559e3ed9b14d4208b8051f428c6a55c2",
            "18fd884b8dd84a41a5047491eb872c97",
            "36848f4cc260431291ae11e43dd7c716",
            "3d9b5e0e330d47bb8464567fbce74eb0",
            "611c49de445e40e3b92c6894162075db",
            "b9bffe0618ad44a696525e41462b93c2",
            "ca20a2be2e0b46079ef1d2e044040a54"
          ]
        },
        "id": "X0afn0X_QH41",
        "outputId": "981de09e-72e6-468e-e3c4-28b20bc3c149"
      },
      "outputs": [
        {
          "output_type": "display_data",
          "data": {
            "text/plain": [
              "  0%|          | 0/100 [00:00<?, ?it/s]"
            ],
            "application/vnd.jupyter.widget-view+json": {
              "version_major": 2,
              "version_minor": 0,
              "model_id": "50346688f9b041ad90785c195c7ab0a4"
            }
          },
          "metadata": {}
        },
        {
          "output_type": "display_data",
          "data": {
            "text/plain": [
              "<Figure size 1050x560 with 1 Axes>"
            ],
            "image/png": "[encoded data removed]"
          },
          "metadata": {
            "needs_background": "light"
          }
        }
      ],
      "source": [
        "values = {\"threshold\":[],\"Accuracy\":[],\"Percision\":[],\"Recall\":[]}\n",
        "for thresh in tqdm(np.arange(0,1,0.01)):\n",
        "  measurement = evaluation(thresh)\n",
        "  values[\"threshold\"].append(thresh)\n",
        "  values[\"Recall\"].append(measurement[\"Recall\"])\n",
        "  values[\"Percision\"].append(measurement[\"Percision\"])\n",
        "  values[\"Accuracy\"].append(measurement[\"Accuracy\"])\n",
        "\n",
        "plt.figure(figsize =(15,8),dpi = 70)\n",
        "\n",
        "plt.plot(values[\"threshold\"],values[\"Accuracy\"])\n",
        "plt.plot(values[\"threshold\"],values[\"Percision\"])\n",
        "plt.plot(values[\"threshold\"],values[\"Recall\"])\n",
        "plt.legend([\"Accuracy\",\"Precision\",\"Recall\"])\n",
        "plt.grid()\n",
        "plt.show()"
      ]
    },
    {
      "cell_type": "code",
      "execution_count": null,
      "metadata": {
        "colab": {
          "base_uri": "https://localhost:8080/"
        },
        "id": "jVEBfsFahMoW",
        "outputId": "bf87a1e4-7ba6-4cbf-a2eb-e88b9fa284ec"
      },
      "outputs": [
        {
          "output_type": "stream",
          "name": "stdout",
          "text": [
            " T->H entailment correct:entrailment\n",
            " T->H1 entailment correct:entrailment\n",
            " T->H2 entailment correct:entrailment\n",
            " T->H3 other correct:other\n",
            " T->H4 other correct:entrailment\n",
            "\n",
            " T->H other correct:entrailment\n",
            " T->H1 entailment correct:entrailment\n",
            " T->H2 other correct:other\n",
            "\n",
            " T->H entailment correct:entrailment\n",
            " T->H1 other correct:other\n",
            " T->H2 entailment correct:other\n",
            "\n"
          ]
        }
      ],
      "source": [
        "T = \"Tim managed to stop the car\"\n",
        "H = \"Tim stopped the car\"\n",
        "H1 = \"Tim tried to stop the car\"\n",
        "H2 = \"Tim did something to the car\"\n",
        "H3 = \"the color of the cor is blue\"\n",
        "H4 = \"car is not moving any more\"\n",
        "print(\" T->H\",predict (T,H,threshold),\"correct:entrailment\\n\",\"T->H1\",predict (T,H1,threshold),\"correct:entrailment\\n\",\"T->H2\",predict (T,H2,threshold),\"correct:entrailment\\n\",\n",
        "      \"T->H3\",predict (T,H3,threshold),\"correct:other\\n\",\"T->H4\",predict (T,H4,threshold),\"correct:entrailment\\n\",)\n",
        "\n",
        "\n",
        "T = \"Tim has bought fish tonight\"\n",
        "H = \"Tim has spent some money\"\n",
        "H1 = \"Tim has bought something\"\n",
        "H2 = \"Tim Is relaxed and happy!\"\n",
        "print(\" T->H\",predict (T,H,threshold),\"correct:entrailment\\n\",\"T->H1\",predict (T,H1,threshold),\"correct:entrailment\\n\",\"T->H2\",predict (T,H2,threshold),\"correct:other\\n\",)\n",
        "\n",
        "\n",
        "T = \"A girl playing a violin along with a group of people\"\n",
        "H = \"A girl is playing an instrument.\"\n",
        "H1 = \"A girl is playing outdoor alone\"\n",
        "H2 = \"A girl is playing volleyball with other groups of people\"\n",
        "print(\" T->H\",predict (T,H,threshold),\"correct:entrailment\\n\",\"T->H1\",predict (T,H1,threshold),\"correct:other\\n\",\"T->H2\",predict (T,H2,threshold),\"correct:other\\n\",)"
      ]
    },
    {
      "cell_type": "markdown",
      "metadata": {
        "id": "Vlv7lMymF_RI"
      },
      "source": [
        "# Second approach: Cosine Directional Similarity"
      ]
    },
    {
      "cell_type": "code",
      "execution_count": null,
      "metadata": {
        "id": "K6Bul87bXJRz"
      },
      "outputs": [],
      "source": [
        "def predict(T,H,threshold):\n",
        "  threshold_one = threshold[0]\n",
        "  threshold_two = threshold[1]\n",
        "  threshold_three = threshold[2]\n",
        "  sentence_one = normalizedTokenizer(T)\n",
        "  sentence_two = normalizedTokenizer(H)\n",
        "  c = len([x for x in sentence_one if x in sentence_two])\n",
        "  cos_T = np.sqrt(c/len(sentence_one))\n",
        "  cos_H = np.sqrt(c/len(sentence_two))\n",
        "  cos_HT = np.sqrt( (4*np.power(c,2)) / ( (len(sentence_two)+c) * (len(sentence_one)+c) ) )\n",
        "  if (cos_HT - cos_T) <= threshold_one and (cos_H - cos_HT) <= threshold_two and max(cos_H,cos_T,cos_HT) >=threshold_three:\n",
        "    return \"entailment\"\n",
        "  else:\n",
        "    return \"other\""
      ]
    },
    {
      "cell_type": "code",
      "execution_count": null,
      "metadata": {
        "id": "0VuupP6FeFoi"
      },
      "outputs": [],
      "source": [
        "def evaluation(threshold):\n",
        "  tp = fp = fn = tn = 0\n",
        "  for index in range(len(test)):\n",
        "    prediction = predict(test.sentence1[index],test.sentence2[index],threshold)\n",
        "    actualLable = test.gold_label[index]\n",
        "    if actualLable == \"entailment\":\n",
        "      if prediction == \"entailment\":\n",
        "        tp +=1\n",
        "      else:\n",
        "        fn +=1\n",
        "    else:\n",
        "        if prediction == \"other\":\n",
        "          tn+=1\n",
        "        else:\n",
        "            fp+=1\n",
        "  return {\"Accuracy\":round( (tp+tn) / (tp+tn+fp+fn),2),\"Percision\":round(tp/(tp+fp),2),\"Recall\":round(tp/(tp+fn),2)}"
      ]
    },
    {
      "cell_type": "code",
      "execution_count": null,
      "metadata": {
        "colab": {
          "base_uri": "https://localhost:8080/"
        },
        "id": "qwNI8Ahpv5pS",
        "outputId": "2faef3f7-5648-4ec1-8dfd-c625fec22485"
      },
      "outputs": [
        {
          "output_type": "execute_result",
          "data": {
            "text/plain": [
              "{'Accuracy': 0.6, 'Percision': 0.49, 'Recall': 0.84}"
            ]
          },
          "metadata": {},
          "execution_count": 14
        }
      ],
      "source": [
        "threshold = [0.5,0.7,0.7]\n",
        "#{'Accuracy': 0.6, 'Percision': 0.49, 'Recall': 0.84}\n",
        "evaluation(threshold)"
      ]
    },
    {
      "cell_type": "code",
      "execution_count": null,
      "metadata": {
        "colab": {
          "base_uri": "https://localhost:8080/"
        },
        "id": "65uxjsr3HNFz",
        "outputId": "6b270f32-4750-4cc8-efaa-d69be074df7c"
      },
      "outputs": [
        {
          "output_type": "stream",
          "name": "stdout",
          "text": [
            " T->H entailment correct:entrailment\n",
            " T->H1 entailment correct:entrailment\n",
            " T->H2 entailment correct:entrailment\n",
            " T->H3 other correct:other\n",
            " T->H4 entailment correct:entrailment\n",
            "\n",
            " T->H other correct:entrailment\n",
            " T->H1 entailment correct:entrailment\n",
            " T->H2 other correct:other\n",
            "\n",
            " T->H entailment correct:entrailment\n",
            " T->H1 entailment correct:other\n",
            " T->H2 entailment correct:other\n",
            "\n"
          ]
        }
      ],
      "source": [
        "T = \"Tim managed to stop the car\"\n",
        "H = \"Tim stopped the car\"\n",
        "H1 = \"Tim tried to stop the car\"\n",
        "H2 = \"Tim did something to the car\"\n",
        "H3 = \"the color of the cor is blue\"\n",
        "H4 = \"car is not moving any more\"\n",
        "print(\" T->H\",predict (T,H,threshold),\"correct:entrailment\\n\",\"T->H1\",predict (T,H1,threshold),\"correct:entrailment\\n\",\"T->H2\",predict (T,H2,threshold),\"correct:entrailment\\n\",\n",
        "      \"T->H3\",predict (T,H3,threshold),\"correct:other\\n\",\"T->H4\",predict (T,H4,threshold),\"correct:entrailment\\n\",)\n",
        "\n",
        "\n",
        "T = \"Tim has bought fish tonight\"\n",
        "H = \"Tim has spent money\"\n",
        "H1 = \"Tim has bought something\"\n",
        "H2 = \"Tim Is relaxed and happy!\"\n",
        "print(\" T->H\",predict (T,H,threshold),\"correct:entrailment\\n\",\"T->H1\",predict (T,H1,threshold),\"correct:entrailment\\n\",\"T->H2\",predict (T,H2,threshold),\"correct:other\\n\",)\n",
        "\n",
        "\n",
        "T = \"A girl playing a violin along with a group of people\"\n",
        "H = \"A girl is playing an instrument.\"\n",
        "H1 = \"A girl is playing outdoor alone\"\n",
        "H2 = \"A girl is playing volleyball with other groups of people\"\n",
        "print(\" T->H\",predict (T,H,threshold),\"correct:entrailment\\n\",\"T->H1\",predict (T,H1,threshold),\"correct:other\\n\",\"T->H2\",predict (T,H2,threshold),\"correct:other\\n\",)"
      ]
    },
    {
      "cell_type": "markdown",
      "metadata": {
        "id": "6CoU2Yqq73i9"
      },
      "source": [
        "# Third Approach, Modified Lev. Distance"
      ]
    },
    {
      "cell_type": "code",
      "execution_count": null,
      "metadata": {
        "id": "MfpSAXQ0L0db"
      },
      "outputs": [],
      "source": [
        "def editDistance(a,b):\n",
        "  remove_cost = 3\n",
        "  insert_cost = 3\n",
        "  swap_cost = 2\n",
        "  substitude_cost = 5\n",
        "  cost = 0\n",
        "  if len(b) < len(a):\n",
        "    difference = (len(a) - len(b))\n",
        "    cost += (remove_cost * difference)\n",
        "    a = a[:-difference]\n",
        "  elif len(b) > len(a):\n",
        "    difference = (len(b) - len(a))\n",
        "    cost += (insert_cost * difference)\n",
        "    a = a + b[-difference:]\n",
        "  for index in range(len(b)):\n",
        "    if a[index] != b[index]:\n",
        "      if index != len(b)-1 and index != 0:\n",
        "         if a[index + 1] == b[index]:\n",
        "           cost += swap_cost\n",
        "           a = a[:index]+a[index+1]+a[index]+a[index+2:]\n",
        "         elif a[index - 1] == b[index]:\n",
        "           cost += swap_cost\n",
        "           a = a[:index-1]+a[index-1]+a[index]+a[index+1:]\n",
        "      else:\n",
        "        cost += substitude_cost\n",
        "        a = a[:index]+b[index]+a[index+1:]\n",
        "  return cost\n",
        "\n",
        "\n",
        "def predict(T,H):\n",
        "  sentence_one = \"\".join(normalizedTokenizer(T))\n",
        "  sentence_two = \"\".join(normalizedTokenizer(H))\n",
        "  ed_TH = editDistance(sentence_one,sentence_two)\n",
        "  ed_HT = editDistance(sentence_two,sentence_one)\n",
        "  if ed_TH < ed_HT:\n",
        "    return \"entailment\"\n",
        "  else:\n",
        "    return \"other\""
      ]
    },
    {
      "cell_type": "code",
      "execution_count": null,
      "metadata": {
        "id": "ngfQJRJ5QKsz"
      },
      "outputs": [],
      "source": [
        "def evaluation():\n",
        "  tp = fp = fn = tn = 0\n",
        "  for index in range(len(test)):\n",
        "    prediction = predict(test.sentence1[index],test.sentence2[index])\n",
        "    actualLable = test.gold_label[index]\n",
        "    if actualLable == \"entailment\":\n",
        "      if prediction == \"entailment\":\n",
        "        tp +=1\n",
        "      else:\n",
        "        fn +=1\n",
        "    else:\n",
        "        if prediction == \"other\":\n",
        "          tn+=1\n",
        "        else:\n",
        "            fp+=1\n",
        "  return {\"Accuracy\":round( (tp+tn) / (tp+tn+fp+fn),2),\"Percision\":round(tp/(tp+fp),2),\"Recall\":round(tp/(tp+fn),2)}"
      ]
    },
    {
      "cell_type": "code",
      "execution_count": null,
      "metadata": {
        "colab": {
          "base_uri": "https://localhost:8080/"
        },
        "id": "3k65Jb3GcAPL",
        "outputId": "ae7f94e3-80ad-4fb7-bcac-d6feaf60407e"
      },
      "outputs": [
        {
          "output_type": "execute_result",
          "data": {
            "text/plain": [
              "{'Accuracy': 0.57, 'Percision': 0.21, 'Recall': 0.05}"
            ]
          },
          "metadata": {},
          "execution_count": 18
        }
      ],
      "source": [
        "#{'Accuracy': 0.57, 'Percision': 0.21, 'Recall': 0.05}\n",
        "evaluation()"
      ]
    },
    {
      "cell_type": "code",
      "execution_count": null,
      "metadata": {
        "colab": {
          "base_uri": "https://localhost:8080/"
        },
        "id": "1Bh4ZnA2jxqx",
        "outputId": "48af98b9-44c1-4a0e-96b9-05a4c1e44237"
      },
      "outputs": [
        {
          "output_type": "stream",
          "name": "stdout",
          "text": [
            " T->H other correct:entrailment\n",
            " T->H1 other correct:entrailment\n",
            " T->H2 other correct:entrailment\n",
            " T->H3 other correct:other\n",
            " T->H4 other correct:entrailment\n",
            "\n",
            " T->H other correct:entrailment\n",
            " T->H1 other correct:entrailment\n",
            " T->H2 other correct:other\n",
            "\n",
            " T->H other correct:entrailment\n",
            " T->H1 entailment correct:other\n",
            " T->H2 other correct:other\n",
            "\n"
          ]
        }
      ],
      "source": [
        "T = \"Tim managed to stop the car\"\n",
        "H = \"Tim stopped the car\"\n",
        "H1 = \"Tim tried to stop the car\"\n",
        "H2 = \"Tim did something to the car\"\n",
        "H3 = \"the color of the cor is blue\"\n",
        "H4 = \"car is not moving any more\"\n",
        "print(\" T->H\",predict (T,H),\"correct:entrailment\\n\",\"T->H1\",predict (T,H1),\"correct:entrailment\\n\",\"T->H2\",predict (T,H2),\"correct:entrailment\\n\",\n",
        "      \"T->H3\",predict (T,H3),\"correct:other\\n\",\"T->H4\",predict (T,H4),\"correct:entrailment\\n\",)\n",
        "\n",
        "\n",
        "T = \"Tim has bought fish tonight\"\n",
        "H = \"Tim has spent money\"\n",
        "H1 = \"Tim has bought something\"\n",
        "H2 = \"Tim Is relaxed and happy!\"\n",
        "print(\" T->H\",predict (T,H),\"correct:entrailment\\n\",\"T->H1\",predict (T,H1),\"correct:entrailment\\n\",\"T->H2\",predict (T,H2),\"correct:other\\n\",)\n",
        "\n",
        "\n",
        "T = \"A girl playing a violin along with a group of people\"\n",
        "H = \"A girl is playing an instrument.\"\n",
        "H1 = \"A girl is playing outdoor alone\"\n",
        "H2 = \"A girl is playing volleyball with other groups of people\"\n",
        "print(\" T->H\",predict (T,H),\"correct:entrailment\\n\",\"T->H1\",predict (T,H1),\"correct:other\\n\",\"T->H2\",predict (T,H2),\"correct:other\\n\",)"
      ]
    },
    {
      "cell_type": "markdown",
      "metadata": {
        "id": "a86lFNF-LBM5"
      },
      "source": [
        "# Fourth Approach, SVM and GaussianNB"
      ]
    },
    {
      "cell_type": "code",
      "execution_count": null,
      "metadata": {
        "id": "Q3v3D9YhEY9G"
      },
      "outputs": [],
      "source": [
        "def tagsDifference(T,H):\n",
        "  counter = 0\n",
        "  sentence_one = spacy(T)\n",
        "  sentence_two = spacy(H)\n",
        "  tags_T = []\n",
        "  tags_H = []\n",
        "  for token in sentence_one:\n",
        "    tags_T.append(token.tag_)\n",
        "  for token in sentence_two:\n",
        "    tags_H.append(token.tag_)  \n",
        "  for tag in tags_H:\n",
        "    if tag in tags_T:\n",
        "      tags_T.remove(tag)\n",
        "      counter +=1\n",
        "  return counter / len(tags_H)\n",
        "\n",
        "\n",
        "\n",
        "def tagsSimilarity(T,H):\n",
        "  \n",
        "  sentence_one = spacy(T)\n",
        "  sentence_two = spacy(H)\n",
        "  tags_T = []\n",
        "  tags_H = []\n",
        "  for token in sentence_one:\n",
        "    tags_T.append(token.tag_)\n",
        "  for token in sentence_two:\n",
        "    tags_H.append(token.tag_)  \n",
        "\n",
        "  tags_T = list(filter(lambda x: x != \"_SP\",tags_T))\n",
        "  tags_H = list(filter(lambda x: x != \"_SP\",tags_H))\n",
        "\n",
        "  bow = generateBagOfWord([\" \".join(tags_T),\" \".join(tags_H)])\n",
        "  data = (pd.DataFrame(bow).fillna(0, inplace=False).T).values\n",
        "  similarity = cosine_similarity(data[0].reshape(1, -1),data[1].reshape(1, -1)).flatten()[0]\n",
        "  return similarity"
      ]
    },
    {
      "cell_type": "code",
      "source": [
        "def expand(sentence):\n",
        "  words = [x.text for x in spacy(sentence)]\n",
        "  result = sentence\n",
        "  for word in words:\n",
        "    for syn in wn.synsets(word):\n",
        "      result +=\" \"\n",
        "      result += syn.definition()\n",
        "      for example in syn.examples():\n",
        "        result += example\n",
        "  return result"
      ],
      "metadata": {
        "id": "68qHtrXBglsu"
      },
      "execution_count": null,
      "outputs": []
    },
    {
      "cell_type": "code",
      "execution_count": null,
      "metadata": {
        "id": "fIU9aUOAcube"
      },
      "outputs": [],
      "source": [
        "def generateData(T,H):\n",
        "  vector = []\n",
        "  bow = generateBagOfWord([T,H])\n",
        "  data = (pd.DataFrame(bow).fillna(0, inplace=False).T).values\n",
        "  similarity = cosine_similarity(data[0].reshape(1, -1),data[1].reshape(1, -1)).flatten()[0]\n",
        "\n",
        "  sentence_one = normalizedTokenizer(T)\n",
        "  sentence_two = normalizedTokenizer(H)\n",
        "  c = len([x for x in sentence_one if x in sentence_two])\n",
        "  cos_T = np.sqrt(c/len(sentence_one))\n",
        "  cos_H = np.sqrt(c/len(sentence_two))\n",
        "  cos_HT = np.sqrt( (4*np.power(c,2)) / ( (len(sentence_two)+c) * (len(sentence_one)+c) ) )\n",
        "\n",
        "  sentence_one = \"\".join(normalizedTokenizer(T))\n",
        "  sentence_two = \"\".join(normalizedTokenizer(H))\n",
        "  ed_TH = editDistance(sentence_one,sentence_two)\n",
        "  ed_HT = editDistance(sentence_two,sentence_one)\n",
        "\n",
        "  vector.append(similarity)\n",
        "  vector.append(cos_T)\n",
        "  vector.append(cos_H)\n",
        "  vector.append(cos_HT)\n",
        "  vector.append(ed_HT - ed_TH)\n",
        "  vector.append(tagsDifference(T,H))\n",
        "  vector.append(tagsSimilarity(T,H))\n",
        "  vector.append(np.sqrt(tagsSimilarity(T,H)))\n",
        "  return vector\n",
        "\n",
        "\n",
        "def getX_Y(dataset):\n",
        "  x = []\n",
        "  y = []\n",
        "  for index in tqdm(range(len(dataset))):\n",
        "    try:\n",
        "      x.append(generateData(dataset.sentence1[index], dataset.sentence2[index]))\n",
        "      if dataset.gold_label[index] == \"entailment\":\n",
        "        y.append(1)\n",
        "      else:\n",
        "        y.append(0)\n",
        "    except:\n",
        "      pass\n",
        "  return x,y\n",
        "\n",
        "\n",
        "def getX_Y_expanded(dataset):\n",
        "  x = []\n",
        "  y = []\n",
        "  for index in tqdm(range(len(dataset))):\n",
        "    try:\n",
        "      x.append(generateData(expand(dataset.sentence1[index]), expand(dataset.sentence2[index])))\n",
        "      if dataset.gold_label[index] == \"entailment\":\n",
        "        y.append(1)\n",
        "      else:\n",
        "        y.append(0)\n",
        "    except:\n",
        "      pass\n",
        "  return x,y"
      ]
    },
    {
      "cell_type": "code",
      "execution_count": null,
      "metadata": {
        "colab": {
          "base_uri": "https://localhost:8080/",
          "height": 81,
          "referenced_widgets": [
            "b167a81a400c42b689dbba97a0741732",
            "0aaf96e93b404147a70d7607a4bffbdb",
            "7c474e98e1a74338831d988aa79fc204",
            "2905c7b0329e409ca1607d554d0cf190",
            "44acd3d543e84950ba3ea7ac0c2fb760",
            "ee5a0b4286b94b78967f6cb138f83481",
            "6c5426c357704a538d527bc65d40a323",
            "aeef17cf9bde45bdad8af28347c5cd60",
            "469345e8d1c54f93b2eef1135c17e487",
            "d5697e379f6243d7b48c65fd6d4f4bea",
            "f10fc4f1c0f04cf4b2b5a73491a80f5d",
            "97d12b30a8d04699b800beb8e625178b",
            "5bb99944bd344e91b7067990786b99c1",
            "ab81fec010364e51966868bcb342beb6",
            "554005528eec461c8b99963a52a18846",
            "8863e657722340adbb23174118c2a678",
            "aaeef74ce8fa4ce0a144b8af092e5000",
            "eb58d430fae44f638aa4557f2ed919b1",
            "77bbd98bfee94c1f925cdeba2f83f1aa",
            "e78b263a7f164fa48f8016ad7e4ffb95",
            "eefe04ae0fa54719a521dcc278dbb02e",
            "4037b56f5e454afcb7989f0c4c8498f1"
          ]
        },
        "id": "pATMrKn1ArJt",
        "outputId": "57370615-a4f8-421a-de36-666380dbf5f8"
      },
      "outputs": [
        {
          "output_type": "display_data",
          "data": {
            "text/plain": [
              "  0%|          | 0/1000 [00:00<?, ?it/s]"
            ],
            "application/vnd.jupyter.widget-view+json": {
              "version_major": 2,
              "version_minor": 0,
              "model_id": "b167a81a400c42b689dbba97a0741732"
            }
          },
          "metadata": {}
        },
        {
          "output_type": "display_data",
          "data": {
            "text/plain": [
              "  0%|          | 0/100 [00:00<?, ?it/s]"
            ],
            "application/vnd.jupyter.widget-view+json": {
              "version_major": 2,
              "version_minor": 0,
              "model_id": "97d12b30a8d04699b800beb8e625178b"
            }
          },
          "metadata": {}
        }
      ],
      "source": [
        "# X,Y = getX_Y(train)\n",
        "# X_test,Y_test = getX_Y(test)"
      ]
    },
    {
      "cell_type": "code",
      "execution_count": null,
      "metadata": {
        "id": "Xvm8Rjo9SRe5"
      },
      "outputs": [],
      "source": [
        "#---------------------Store prepared Data--------------------------------\n",
        "# with open('./drive/MyDrive/ColabData/X_train.data', 'wb') as f:\n",
        "#         pickle.dump(X, f)\n",
        "\n",
        "# with open('./drive/MyDrive/ColabData/Y_train.data', 'wb') as f:\n",
        "#         pickle.dump(Y, f)\n",
        "\n",
        "# with open('./drive/MyDrive/ColabData/X_test.data', 'wb') as f:\n",
        "#         pickle.dump(X_test, f)\n",
        "\n",
        "# with open('./drive/MyDrive/ColabData/Y_test.data', 'wb') as f:\n",
        "#         pickle.dump(Y_test, f)"
      ]
    },
    {
      "cell_type": "code",
      "source": [
        "# X_test_expanded,Y_test_expanded = getX_Y_expanded(test)\n",
        "\n",
        "# #---------------------Store prepared Data--------------------------------\n",
        "# with open('./drive/MyDrive/ColabData/X_test_expanded.data', 'wb') as f:\n",
        "#         pickle.dump(X_test_expanded, f)\n",
        "\n",
        "# with open('./drive/MyDrive/ColabData/Y_test_expanded.data', 'wb') as f:\n",
        "#         pickle.dump(Y_test_expanded, f)"
      ],
      "metadata": {
        "colab": {
          "base_uri": "https://localhost:8080/",
          "height": 49,
          "referenced_widgets": [
            "b7de603a3b564b35ac2f542b854f02c2",
            "6997a578c79c44b5a77f69f74e2126e4",
            "877f02135a394947b0a13f72751a853b",
            "efa586d4caf74eee9d74b036aff10ae4",
            "9214c1aeccdd4fa6b0dfd2dba46cf07b",
            "4517e383fd4847598dec5f9e6aeb2cf1",
            "f85c79ad258548cf93126750c1700325",
            "c799c75d3e564cc8900e706c57f8fda2",
            "5a2bfe9cfe9848ad81867e95b95f0999",
            "5fb269bd5608457abf93f1d8184d1da8",
            "9f07f4459cec4748b96e1b08aa48faa6"
          ]
        },
        "id": "7akB6RgSg9Q8",
        "outputId": "7a9801ae-e633-4a33-b6a9-3dfc0da5ab44"
      },
      "execution_count": null,
      "outputs": [
        {
          "output_type": "display_data",
          "data": {
            "text/plain": [
              "  0%|          | 0/3000 [00:00<?, ?it/s]"
            ],
            "application/vnd.jupyter.widget-view+json": {
              "version_major": 2,
              "version_minor": 0,
              "model_id": "b7de603a3b564b35ac2f542b854f02c2"
            }
          },
          "metadata": {}
        }
      ]
    },
    {
      "cell_type": "code",
      "execution_count": null,
      "metadata": {
        "id": "lViTtrkASciC"
      },
      "outputs": [],
      "source": [
        "    #---------------------Load prepared Data--------------------------------\n",
        "with open('./drive/MyDrive/ColabData/X_train.data', 'rb') as f:\n",
        "        X = pickle.load(f)\n",
        "\n",
        "with open('./drive/MyDrive/ColabData/Y_train.data', 'rb') as f:\n",
        "        Y = pickle.load(f)\n",
        "\n",
        "with open('./drive/MyDrive/ColabData/X_test.data', 'rb') as f:\n",
        "        X_test = pickle.load(f)\n",
        "\n",
        "with open('./drive/MyDrive/ColabData/Y_test.data', 'rb') as f:\n",
        "        Y_test = pickle.load(f)"
      ]
    },
    {
      "cell_type": "markdown",
      "metadata": {
        "id": "cGU3TMB5CLzq"
      },
      "source": [
        "**SVM**"
      ]
    },
    {
      "cell_type": "code",
      "execution_count": null,
      "metadata": {
        "id": "3V9kI8Wde62i"
      },
      "outputs": [],
      "source": [
        "def clf_model():\n",
        "  clf = svm.SVC(kernel = 'rbf', C = 200, gamma = 200)\n",
        "  clf.fit(X,Y)\n",
        "  return clf\n",
        "\n",
        "model_SVM = clf_model()"
      ]
    },
    {
      "cell_type": "code",
      "execution_count": null,
      "metadata": {
        "id": "JQQOzC7io1G5"
      },
      "outputs": [],
      "source": [
        "def predict(T,H):\n",
        "  test = [generateData(T,H)]\n",
        "  if model_SVM.predict(test)[0] == 1:\n",
        "      return \"entailment\"\n",
        "  else:\n",
        "      return \"other\"\n",
        "\n",
        "def evaluate():\n",
        "  tp = fp = fn = tn = 0\n",
        "  for index in tqdm(range(len(test))):\n",
        "\n",
        "    prediction =model_SVM.predict( [X_test[index]] )[0]\n",
        "    actualLable = Y_test[index]\n",
        "    if actualLable == 1:\n",
        "      if prediction == 1:\n",
        "        tp +=1\n",
        "      else:\n",
        "        fn +=1\n",
        "    else:\n",
        "        if prediction == 0:\n",
        "          tn+=1\n",
        "        else:\n",
        "            fp+=1\n",
        "  return {\"Accuracy\":round( (tp+tn) / (tp+tn+fp+fn),2),\"Percision\":round(tp/(tp+fp),2),\"Recall\":round(tp/(tp+fn),2)}"
      ]
    },
    {
      "cell_type": "code",
      "execution_count": null,
      "metadata": {
        "colab": {
          "base_uri": "https://localhost:8080/",
          "height": 67,
          "referenced_widgets": [
            "d513f47e735e465299e6518b998c0d39",
            "d208885a2b1444b6a91916d6e891506b",
            "0cc16d20774945f59d48a7bd63e0c01d",
            "510b22bfe87b45c3bbbb7ec81c35f8f2",
            "f140af04721549afb2d6e62d3b01b569",
            "b57658445025404da0db76f136d75ba2",
            "641c79a545784ccfb427a9ff08964046",
            "5ddc684409ad4fa18ef2f8ace22cef32",
            "5bba7d28d3ce40d1b2c3e56b966f55ea",
            "f064951370ab44d6b956459440e26772",
            "966dde9705c04a858acbf99da881eb80"
          ]
        },
        "id": "2F8VH9DYSqK0",
        "outputId": "c75a6a57-4069-4e11-f781-ad077587df5d"
      },
      "outputs": [
        {
          "output_type": "display_data",
          "data": {
            "text/plain": [
              "  0%|          | 0/3000 [00:00<?, ?it/s]"
            ],
            "application/vnd.jupyter.widget-view+json": {
              "version_major": 2,
              "version_minor": 0,
              "model_id": "d513f47e735e465299e6518b998c0d39"
            }
          },
          "metadata": {}
        },
        {
          "output_type": "execute_result",
          "data": {
            "text/plain": [
              "{'Accuracy': 0.83, 'Percision': 0.8, 'Recall': 0.75}"
            ]
          },
          "metadata": {},
          "execution_count": 33
        }
      ],
      "source": [
        "evaluate()"
      ]
    },
    {
      "cell_type": "code",
      "execution_count": null,
      "metadata": {
        "colab": {
          "base_uri": "https://localhost:8080/"
        },
        "id": "eYY480YKSyPU",
        "outputId": "caee5f4c-b417-4cf9-ef95-4d87a3577544"
      },
      "outputs": [
        {
          "output_type": "stream",
          "name": "stdout",
          "text": [
            " T->H entailment correct:entrailment\n",
            " T->H1 other correct:entrailment\n",
            " T->H2 entailment correct:entrailment\n",
            " T->H3 other correct:other\n",
            " T->H4 other correct:entrailment\n",
            "\n",
            " T->H other correct:entrailment\n",
            " T->H1 other correct:entrailment\n",
            " T->H2 other correct:entrailment\n",
            " T->H3 other correct:other\n",
            " T->H4 other correct:entrailment\n",
            "\n"
          ]
        }
      ],
      "source": [
        "T = \"Tim managed to stop the car\"\n",
        "H = \"Tim stopped the car\"\n",
        "H1 = \"Tim tried to stop the car\"\n",
        "H2 = \"Tim did something to the car\"\n",
        "H3 = \"the color of the cor is blue\"\n",
        "H4 = \"car is not moving any more\"\n",
        "print(\" T->H\",predict (T,H),\"correct:entrailment\\n\",\"T->H1\",predict (T,H1),\"correct:entrailment\\n\",\"T->H2\",predict (T,H2),\"correct:entrailment\\n\",\n",
        "      \"T->H3\",predict (T,H3),\"correct:other\\n\",\"T->H4\",predict (T,H4),\"correct:entrailment\\n\",)\n",
        "\n",
        "\n",
        "\n",
        "T = \"Tim managed to stop the car\"\n",
        "H = \"Tim stopped the car\"\n",
        "H1 = \"Tim tried to stop the car\"\n",
        "H2 = \"Tim did something to the car\"\n",
        "H3 = \"the color of the cor is blue\"\n",
        "H4 = \"car is not moving any more\"\n",
        "print(\" T->H\",predict (expand(T),expand(H)),\"correct:entrailment\\n\",\"T->H1\",predict (expand(T),expand(H1)),\"correct:entrailment\\n\",\"T->H2\",predict (expand(T),expand(H2)),\"correct:entrailment\\n\",\n",
        "      \"T->H3\",predict (expand(T),expand(H3)),\"correct:other\\n\",\"T->H4\",predict (expand(T),expand(H4)),\"correct:entrailment\\n\",)"
      ]
    },
    {
      "cell_type": "markdown",
      "metadata": {
        "id": "o5hfqGdjoiqC"
      },
      "source": [
        "**GaussianNB Classifier**"
      ]
    },
    {
      "cell_type": "code",
      "execution_count": null,
      "metadata": {
        "id": "OHLjuCqjB5fz"
      },
      "outputs": [],
      "source": [
        "def clf_model():\n",
        "  clf = GaussianNB(var_smoothing= 1e-3)\n",
        "  clf.fit(X,Y)\n",
        "  return clf\n",
        "\n",
        "model_NB = clf_model()"
      ]
    },
    {
      "cell_type": "code",
      "execution_count": null,
      "metadata": {
        "id": "rOh13SBNCCmi"
      },
      "outputs": [],
      "source": [
        "def predict(T,H):\n",
        "  test = [generateData(T,H)]\n",
        "  if model_NB.predict(test)[0] == 1:\n",
        "      return \"entailment\"\n",
        "  else:\n",
        "      return \"other\"\n",
        "\n",
        "def evaluate():\n",
        "  tp = fp = fn = tn = 0\n",
        "  for index in tqdm(range(len(test))):\n",
        "    prediction = model_NB.predict( [X_test[index]] )[0]\n",
        "    actualLable = Y_test[index]\n",
        "    if actualLable == 1:\n",
        "      if prediction == 1:\n",
        "        tp +=1\n",
        "      else:\n",
        "        fn +=1\n",
        "    else:\n",
        "        if prediction == 0:\n",
        "          tn+=1\n",
        "        else:\n",
        "            fp+=1\n",
        "  return {\"Accuracy\":round( (tp+tn) / (tp+tn+fp+fn),2),\"Percision\":round(tp/(tp+fp),2),\"Recall\":round(tp/(tp+fn),2)}"
      ]
    },
    {
      "cell_type": "code",
      "execution_count": null,
      "metadata": {
        "colab": {
          "base_uri": "https://localhost:8080/",
          "height": 67,
          "referenced_widgets": [
            "eb8babf53707450fba369799f9333ea6",
            "41dfcdba3c9d4e3eac939ca85e3f941f",
            "68b9ee3a3b1d4f1690edfc1e0119054f",
            "77e3c7a82e2045cd829d110ba2bcb186",
            "cc291897234e4c24b06d49e4f6817c72",
            "02f2676e335244e68d1d25d3af480aef",
            "a276c04fa9e948ca8894838500b57ccc",
            "ad93ca3fce5d4e72909cd5a79baa69bc",
            "9f57bd0a72344e739930acba0408cabe",
            "f623787ebf164b9ca2aa278f77876abb",
            "c86c7f0f4eb84371b2cf130a885d8f50"
          ]
        },
        "id": "JbuVbJZsCPlr",
        "outputId": "f999f89c-3858-47cf-a284-51491e7ede61"
      },
      "outputs": [
        {
          "output_type": "display_data",
          "data": {
            "text/plain": [
              "  0%|          | 0/3000 [00:00<?, ?it/s]"
            ],
            "application/vnd.jupyter.widget-view+json": {
              "version_major": 2,
              "version_minor": 0,
              "model_id": "eb8babf53707450fba369799f9333ea6"
            }
          },
          "metadata": {}
        },
        {
          "output_type": "execute_result",
          "data": {
            "text/plain": [
              "{'Accuracy': 0.66, 'Percision': 0.54, 'Recall': 0.64}"
            ]
          },
          "metadata": {},
          "execution_count": 38
        }
      ],
      "source": [
        "evaluate()"
      ]
    },
    {
      "cell_type": "code",
      "execution_count": null,
      "metadata": {
        "colab": {
          "base_uri": "https://localhost:8080/"
        },
        "id": "bJagg_t-CZGM",
        "outputId": "2d6028f6-3521-433c-b21e-caa68ea31e2d"
      },
      "outputs": [
        {
          "output_type": "stream",
          "name": "stdout",
          "text": [
            " T->H entailment correct:entrailment\n",
            " T->H1 entailment correct:entrailment\n",
            " T->H2 entailment correct:entrailment\n",
            " T->H3 other correct:other\n",
            " T->H4 other correct:entrailment\n",
            "\n",
            " T->H entailment correct:entrailment\n",
            " T->H1 entailment correct:entrailment\n",
            " T->H2 other correct:entrailment\n",
            " T->H3 other correct:other\n",
            " T->H4 other correct:entrailment\n",
            "\n"
          ]
        }
      ],
      "source": [
        "T = \"Tim managed to stop the car\"\n",
        "H = \"Tim stopped the car\"\n",
        "H1 = \"Tim tried to stop the car\"\n",
        "H2 = \"Tim did something to the car\"\n",
        "H3 = \"the color of the cor is blue\"\n",
        "H4 = \"car is not moving any more\"\n",
        "print(\" T->H\",predict (T,H),\"correct:entrailment\\n\",\"T->H1\",predict (T,H1),\"correct:entrailment\\n\",\"T->H2\",predict (T,H2),\"correct:entrailment\\n\",\n",
        "      \"T->H3\",predict (T,H3),\"correct:other\\n\",\"T->H4\",predict (T,H4),\"correct:entrailment\\n\",)\n",
        "\n",
        "\n",
        "\n",
        "T = \"Tim managed to stop the car\"\n",
        "H = \"Tim stopped the car\"\n",
        "H1 = \"Tim tried to stop the car\"\n",
        "H2 = \"Tim did something to the car\"\n",
        "H3 = \"the color of the cor is blue\"\n",
        "H4 = \"car is not moving any more\"\n",
        "print(\" T->H\",predict (expand(T),expand(H)),\"correct:entrailment\\n\",\"T->H1\",predict (expand(T),expand(H1)),\"correct:entrailment\\n\",\"T->H2\",predict (expand(T),expand(H2)),\"correct:entrailment\\n\",\n",
        "      \"T->H3\",predict (expand(T),expand(H3)),\"correct:other\\n\",\"T->H4\",predict (expand(T),expand(H4)),\"correct:entrailment\\n\",)"
      ]
    },
    {
      "cell_type": "markdown",
      "metadata": {
        "id": "v-QAEPt4v_zK"
      },
      "source": [
        "**Decision Tree classifier**"
      ]
    },
    {
      "cell_type": "code",
      "execution_count": null,
      "metadata": {
        "id": "-9kFoD_zwLFB"
      },
      "outputs": [],
      "source": [
        "def clf_model():\n",
        "  clf = DecisionTreeClassifier()\n",
        "  clf.fit(X,Y)\n",
        "  return clf\n",
        "\n",
        "model_DTC = clf_model()"
      ]
    },
    {
      "cell_type": "code",
      "execution_count": null,
      "metadata": {
        "id": "kbY8qv7Ew76i"
      },
      "outputs": [],
      "source": [
        "def predict(T,H):\n",
        "  test = [generateData(T,H)]\n",
        "  if model_DTC.predict(test)[0] == 1:\n",
        "      return \"entailment\"\n",
        "  else:\n",
        "      return \"other\"\n",
        "\n",
        "\n",
        "def evaluate():\n",
        "  tp = fp = fn = tn = 0\n",
        "  for index in tqdm(range(len(test))):\n",
        "    prediction = model_DTC.predict( [X_test[index]] )[0]\n",
        "    actualLable = Y_test[index]\n",
        "    if actualLable == 1:\n",
        "      if prediction == 1:\n",
        "        tp +=1\n",
        "      else:\n",
        "        fn +=1\n",
        "    else:\n",
        "        if prediction == 0:\n",
        "          tn+=1\n",
        "        else:\n",
        "            fp+=1\n",
        "  return {\"Accuracy\":round( (tp+tn) / (tp+tn+fp+fn),2),\"Percision\":round(tp/(tp+fp),2),\"Recall\":round(tp/(tp+fn),2)}"
      ]
    },
    {
      "cell_type": "code",
      "execution_count": null,
      "metadata": {
        "colab": {
          "base_uri": "https://localhost:8080/",
          "height": 67,
          "referenced_widgets": [
            "2db27ce9f669485f80c38191d0a74cc7",
            "91019676f5bc4352a0bbf27653a4569d",
            "d5da76c168c246d9a38b3dec936cfb92",
            "03ca33c00b3d449ea6ef999c58671c81",
            "e91fb43409444d3f9c84f56d3b6d9c50",
            "66451d2ad7bf4f62b2139c61b7ee3e9c",
            "d0c2db5da01441c4bbed30f9f0015682",
            "3f78670ea87c49b5b69eb4ff7c4ff192",
            "7ee6577834b748f5b64da20eaf70f1a4",
            "d1bc0f91e15949e9a8a4fd42fc6473c2",
            "ba6afb53fb294731ac1955352b8fb1df"
          ]
        },
        "id": "u_fl6Rh7xHIy",
        "outputId": "7d0c385e-07b9-4deb-d2f2-dde10d60df19"
      },
      "outputs": [
        {
          "output_type": "display_data",
          "data": {
            "text/plain": [
              "  0%|          | 0/3000 [00:00<?, ?it/s]"
            ],
            "application/vnd.jupyter.widget-view+json": {
              "version_major": 2,
              "version_minor": 0,
              "model_id": "2db27ce9f669485f80c38191d0a74cc7"
            }
          },
          "metadata": {}
        },
        {
          "output_type": "execute_result",
          "data": {
            "text/plain": [
              "{'Accuracy': 0.87, 'Percision': 0.85, 'Recall': 0.81}"
            ]
          },
          "metadata": {},
          "execution_count": 42
        }
      ],
      "source": [
        "evaluate() "
      ]
    },
    {
      "cell_type": "code",
      "execution_count": null,
      "metadata": {
        "colab": {
          "base_uri": "https://localhost:8080/"
        },
        "id": "VQGho_rKxKZH",
        "outputId": "5d0c2d27-696b-459a-82ad-3ffa7b89f73b"
      },
      "outputs": [
        {
          "output_type": "stream",
          "name": "stdout",
          "text": [
            " T->H entailment correct:entrailment\n",
            " T->H1 other correct:entrailment\n",
            " T->H2 entailment correct:entrailment\n",
            " T->H3 entailment correct:other\n",
            " T->H4 other correct:entrailment\n",
            "\n",
            " T->H entailment correct:entrailment\n",
            " T->H1 other correct:entrailment\n",
            " T->H2 other correct:entrailment\n",
            " T->H3 other correct:other\n",
            " T->H4 other correct:entrailment\n",
            "\n"
          ]
        }
      ],
      "source": [
        "T = \"Tim managed to stop the car\"\n",
        "H = \"Tim stopped the car\"\n",
        "H1 = \"Tim tried to stop the car\"\n",
        "H2 = \"Tim did something to the car\"\n",
        "H3 = \"the color of the cor is blue\"\n",
        "H4 = \"car is not moving any more\"\n",
        "print(\" T->H\",predict (T,H),\"correct:entrailment\\n\",\"T->H1\",predict (T,H1),\"correct:entrailment\\n\",\"T->H2\",predict (T,H2),\"correct:entrailment\\n\",\n",
        "      \"T->H3\",predict (T,H3),\"correct:other\\n\",\"T->H4\",predict (T,H4),\"correct:entrailment\\n\",)\n",
        "\n",
        "\n",
        "\n",
        "T = \"Tim managed to stop the car\"\n",
        "H = \"Tim stopped the car\"\n",
        "H1 = \"Tim tried to stop the car\"\n",
        "H2 = \"Tim did something to the car\"\n",
        "H3 = \"the color of the cor is blue\"\n",
        "H4 = \"car is not moving any more\"\n",
        "print(\" T->H\",predict (expand(T),expand(H)),\"correct:entrailment\\n\",\"T->H1\",predict (expand(T),expand(H1)),\"correct:entrailment\\n\",\"T->H2\",predict (expand(T),expand(H2)),\"correct:entrailment\\n\",\n",
        "      \"T->H3\",predict (expand(T),expand(H3)),\"correct:other\\n\",\"T->H4\",predict (expand(T),expand(H4)),\"correct:entrailment\\n\",)"
      ]
    },
    {
      "cell_type": "markdown",
      "metadata": {
        "id": "ZtmHq9nPy4Vc"
      },
      "source": [
        "**AdaBoost Classifier**"
      ]
    },
    {
      "cell_type": "code",
      "execution_count": null,
      "metadata": {
        "id": "jzhCmMjmy9xB"
      },
      "outputs": [],
      "source": [
        "def clf_model():\n",
        "  clf = AdaBoostClassifier(n_estimators=10)\n",
        "  clf.fit(X,Y)\n",
        "  return clf\n",
        "\n",
        "model_Ada = clf_model()"
      ]
    },
    {
      "cell_type": "code",
      "execution_count": null,
      "metadata": {
        "id": "vXwjpVYpzCSW"
      },
      "outputs": [],
      "source": [
        "def predict(T,H):\n",
        "  test = [generateData(T,H)]\n",
        "  if model_Ada.predict(test)[0] == 1:\n",
        "      return \"entailment\"\n",
        "  else:\n",
        "      return \"other\"\n",
        "\n",
        "def evaluate():\n",
        "  tp = fp = fn = tn = 0\n",
        "  for index in tqdm(range(len(test))):\n",
        "    prediction = model_Ada.predict( [X_test[index]] )[0]\n",
        "    actualLable = Y_test[index]\n",
        "    if actualLable == 1:\n",
        "      if prediction == 1:\n",
        "        tp +=1\n",
        "      else:\n",
        "        fn +=1\n",
        "    else:\n",
        "        if prediction == 0:\n",
        "          tn+=1\n",
        "        else:\n",
        "            fp+=1\n",
        "  return {\"Accuracy\":round( (tp+tn) / (tp+tn+fp+fn),2),\"Percision\":round(tp/(tp+fp),2),\"Recall\":round(tp/(tp+fn),2)}"
      ]
    },
    {
      "cell_type": "code",
      "execution_count": null,
      "metadata": {
        "colab": {
          "base_uri": "https://localhost:8080/",
          "height": 67,
          "referenced_widgets": [
            "13aba403f6a9427a90b357a2ee930a57",
            "8bce8827f8064c0d9342e55e53a3a51d",
            "7776c4abf9bf4c1db75a6cdf838b8d45",
            "da5e572c0a304cd6b971c6c216a3b3b4",
            "7f6532bf677c4430aee7537447505d03",
            "2b660e77a2184ce2975bdb4c81ab3ce5",
            "dc67ac10c062498dbb37914609dc289a",
            "96e712b04ac445c884e49c7e2bc89ad5",
            "a948dd35d81f46cb8972edb12f700a24",
            "728b544f008347698a97b80608f0b6ee",
            "db81a4c61f464e17be1ce47463511614"
          ]
        },
        "id": "4mz0uikPzJBa",
        "outputId": "2472c371-0fe6-491d-fcf1-55687811bce5"
      },
      "outputs": [
        {
          "output_type": "display_data",
          "data": {
            "text/plain": [
              "  0%|          | 0/3000 [00:00<?, ?it/s]"
            ],
            "application/vnd.jupyter.widget-view+json": {
              "version_major": 2,
              "version_minor": 0,
              "model_id": "13aba403f6a9427a90b357a2ee930a57"
            }
          },
          "metadata": {}
        },
        {
          "output_type": "execute_result",
          "data": {
            "text/plain": [
              "{'Accuracy': 0.71, 'Percision': 0.67, 'Recall': 0.45}"
            ]
          },
          "metadata": {},
          "execution_count": 47
        }
      ],
      "source": [
        "evaluate() "
      ]
    },
    {
      "cell_type": "code",
      "execution_count": null,
      "metadata": {
        "colab": {
          "base_uri": "https://localhost:8080/"
        },
        "id": "egl69U13zJRO",
        "outputId": "33f7fad9-b5da-45c4-e371-b421cf63a88f"
      },
      "outputs": [
        {
          "output_type": "stream",
          "name": "stdout",
          "text": [
            " T->H entailment correct:entrailment\n",
            " T->H1 entailment correct:entrailment\n",
            " T->H2 other correct:entrailment\n",
            " T->H3 other correct:other\n",
            " T->H4 other correct:entrailment\n",
            "\n",
            " T->H entailment correct:entrailment\n",
            " T->H1 entailment correct:entrailment\n",
            " T->H2 other correct:entrailment\n",
            " T->H3 other correct:other\n",
            " T->H4 other correct:entrailment\n",
            "\n"
          ]
        }
      ],
      "source": [
        "T = \"Tim managed to stop the car\"\n",
        "H = \"Tim stopped the car\"\n",
        "H1 = \"Tim tried to stop the car\"\n",
        "H2 = \"Tim did something to the car\"\n",
        "H3 = \"the color of the cor is blue\"\n",
        "H4 = \"car is not moving any more\"\n",
        "print(\" T->H\",predict (T,H),\"correct:entrailment\\n\",\"T->H1\",predict (T,H1),\"correct:entrailment\\n\",\"T->H2\",predict (T,H2),\"correct:entrailment\\n\",\n",
        "      \"T->H3\",predict (T,H3),\"correct:other\\n\",\"T->H4\",predict (T,H4),\"correct:entrailment\\n\",)\n",
        "\n",
        "\n",
        "\n",
        "T = \"Tim managed to stop the car\"\n",
        "H = \"Tim stopped the car\"\n",
        "H1 = \"Tim tried to stop the car\"\n",
        "H2 = \"Tim did something to the car\"\n",
        "H3 = \"the color of the cor is blue\"\n",
        "H4 = \"car is not moving any more\"\n",
        "print(\" T->H\",predict (expand(T),expand(H)),\"correct:entrailment\\n\",\"T->H1\",predict (expand(T),expand(H1)),\"correct:entrailment\\n\",\"T->H2\",predict (expand(T),expand(H2)),\"correct:entrailment\\n\",\n",
        "      \"T->H3\",predict (expand(T),expand(H3)),\"correct:other\\n\",\"T->H4\",predict (expand(T),expand(H4)),\"correct:entrailment\\n\",)"
      ]
    },
    {
      "cell_type": "markdown",
      "metadata": {
        "id": "Vk1odILy0IHH"
      },
      "source": [
        "**MLP Classifier**"
      ]
    },
    {
      "cell_type": "code",
      "execution_count": null,
      "metadata": {
        "id": "WXF44B9A0REL"
      },
      "outputs": [],
      "source": [
        "def clf_model():\n",
        "  clf = MLPClassifier(random_state=50)\n",
        "  clf.fit(X,Y)\n",
        "  return clf\n",
        "\n",
        "model_MLP = clf_model()"
      ]
    },
    {
      "cell_type": "code",
      "execution_count": null,
      "metadata": {
        "id": "j7kPKi7N0T6n"
      },
      "outputs": [],
      "source": [
        "def predict(T,H):\n",
        "  test = [generateData(T,H)]\n",
        "  if model_MLP.predict(test)[0] == 1:\n",
        "      return \"entailment\"\n",
        "  else:\n",
        "      return \"other\"\n",
        "\n",
        "def evaluate():\n",
        "  tp = fp = fn = tn = 0\n",
        "  for index in tqdm(range(len(test))):\n",
        "    prediction = model_MLP.predict( [X_test[index]] )[0]\n",
        "    actualLable = Y_test[index]\n",
        "    if actualLable == 1:\n",
        "      if prediction == 1:\n",
        "        tp +=1\n",
        "      else:\n",
        "        fn +=1\n",
        "    else:\n",
        "        if prediction == 0:\n",
        "          tn+=1\n",
        "        else:\n",
        "            fp+=1\n",
        "  return {\"Accuracy\":round( (tp+tn) / (tp+tn+fp+fn),2),\"Percision\":round(tp/(tp+fp),2),\"Recall\":round(tp/(tp+fn),2)}"
      ]
    },
    {
      "cell_type": "code",
      "execution_count": null,
      "metadata": {
        "colab": {
          "base_uri": "https://localhost:8080/",
          "height": 67,
          "referenced_widgets": [
            "0ca0690f3b334f4d9dc4250b64590db2",
            "1c106f9a0c664ef38ba886efde171ea2",
            "b850f49c139941bb99e02e74dc2881df",
            "19839bd1b0d44da1b3277914721e0d98",
            "7fb27db94aad4f73b9219119e307aa4c",
            "45d3975ef4704d3980b3cb5620fce384",
            "3d04b6728b6a441f872dcd7b04fb7cad",
            "c9fe22dca93549f4b6236f3b8594d5f7",
            "c07e09d382d6425c81e509622513c61f",
            "68bd2cb11f1f404f921b8258b812f206",
            "0ffd3f4b3e1043f2a8fe0dd5345fc3ac"
          ]
        },
        "id": "VyiiaU-00WMW",
        "outputId": "21733584-9852-4383-f76c-9d9ae220e8ff"
      },
      "outputs": [
        {
          "output_type": "display_data",
          "data": {
            "text/plain": [
              "  0%|          | 0/3000 [00:00<?, ?it/s]"
            ],
            "application/vnd.jupyter.widget-view+json": {
              "version_major": 2,
              "version_minor": 0,
              "model_id": "0ca0690f3b334f4d9dc4250b64590db2"
            }
          },
          "metadata": {}
        },
        {
          "output_type": "execute_result",
          "data": {
            "text/plain": [
              "{'Accuracy': 0.71, 'Percision': 0.68, 'Recall': 0.43}"
            ]
          },
          "metadata": {},
          "execution_count": 51
        }
      ],
      "source": [
        "evaluate()"
      ]
    },
    {
      "cell_type": "code",
      "execution_count": null,
      "metadata": {
        "colab": {
          "base_uri": "https://localhost:8080/"
        },
        "id": "L-XxPHHs0ZLH",
        "outputId": "6f0e0e33-9e0c-47ea-baf6-770859f8ac7f"
      },
      "outputs": [
        {
          "output_type": "stream",
          "name": "stdout",
          "text": [
            " T->H entailment correct:entrailment\n",
            " T->H1 entailment correct:entrailment\n",
            " T->H2 other correct:entrailment\n",
            " T->H3 other correct:other\n",
            " T->H4 other correct:entrailment\n",
            "\n",
            " T->H entailment correct:entrailment\n",
            " T->H1 entailment correct:entrailment\n",
            " T->H2 other correct:entrailment\n",
            " T->H3 other correct:other\n",
            " T->H4 other correct:entrailment\n",
            "\n"
          ]
        }
      ],
      "source": [
        "T = \"Tim managed to stop the car\"\n",
        "H = \"Tim stopped the car\"\n",
        "H1 = \"Tim tried to stop the car\"\n",
        "H2 = \"Tim did something to the car\"\n",
        "H3 = \"the color of the cor is blue\"\n",
        "H4 = \"car is not moving any more\"\n",
        "print(\" T->H\",predict (T,H),\"correct:entrailment\\n\",\"T->H1\",predict (T,H1),\"correct:entrailment\\n\",\"T->H2\",predict (T,H2),\"correct:entrailment\\n\",\n",
        "      \"T->H3\",predict (T,H3),\"correct:other\\n\",\"T->H4\",predict (T,H4),\"correct:entrailment\\n\",)\n",
        "\n",
        "\n",
        "\n",
        "T = \"Tim managed to stop the car\"\n",
        "H = \"Tim stopped the car\"\n",
        "H1 = \"Tim tried to stop the car\"\n",
        "H2 = \"Tim did something to the car\"\n",
        "H3 = \"the color of the cor is blue\"\n",
        "H4 = \"car is not moving any more\"\n",
        "print(\" T->H\",predict (expand(T),expand(H)),\"correct:entrailment\\n\",\"T->H1\",predict (expand(T),expand(H1)),\"correct:entrailment\\n\",\"T->H2\",predict (expand(T),expand(H2)),\"correct:entrailment\\n\",\n",
        "      \"T->H3\",predict (expand(T),expand(H3)),\"correct:other\\n\",\"T->H4\",predict (expand(T),expand(H4)),\"correct:entrailment\\n\",)"
      ]
    },
    {
      "cell_type": "markdown",
      "metadata": {
        "id": "MDN38n46Irts"
      },
      "source": [
        "**Combine**"
      ]
    },
    {
      "cell_type": "code",
      "execution_count": null,
      "metadata": {
        "id": "PejT2CYYE1zs"
      },
      "outputs": [],
      "source": [
        "def predict(T,H):\n",
        "  test = [generateData(T,H)]\n",
        "  prediction = []\n",
        "  models = [model_SVM, model_MLP, model_Ada, model_DTC, model_NB]\n",
        "  for model in models:\n",
        "    prediction.append(model.predict(test)[0])\n",
        "    if model is model_DTC:\n",
        "         prediction.append(model.predict(test)[0])\n",
        "         if model.predict(test)[0] == 1:\n",
        "          prediction.append(model.predict(test)[0])\n",
        "          prediction.append(model.predict(test)[0])\n",
        "          prediction.append(model.predict(test)[0])\n",
        "  number_of_entailments = len(list(filter(lambda x: x==1,prediction)))\n",
        "  number_of_other = len(list(filter(lambda x: x==0,prediction)))\n",
        "  if number_of_entailments>number_of_other:\n",
        "      return \"entailment\"\n",
        "  else:\n",
        "      return \"other\"\n",
        "\n",
        "\n",
        "\n",
        "\n",
        "def evaluate():\n",
        "  tp = fp = fn = tn = 0\n",
        "  models = [model_SVM, model_MLP, model_Ada, model_DTC, model_NB]\n",
        "\n",
        "  for index in tqdm(range(len(test))):\n",
        "    sentence = [X_test[index]]\n",
        "    prediction = []\n",
        "    for model in models:\n",
        "      prediction.append(model.predict(sentence)[0])\n",
        "      if model is model_DTC:\n",
        "         prediction.append(model.predict(sentence)[0])\n",
        "         if model.predict(sentence)[0] == 1:\n",
        "          prediction.append(model.predict(sentence)[0])\n",
        "          prediction.append(model.predict(sentence)[0])\n",
        "          prediction.append(model.predict(sentence)[0])\n",
        "          \n",
        "\n",
        "    number_of_entailments = len(list(filter(lambda x: x==1,prediction)))\n",
        "    number_of_other = len(list(filter(lambda x: x==0,prediction)))\n",
        "    if number_of_entailments>number_of_other:\n",
        "        prediction = 1\n",
        "    else:\n",
        "        prediction = 0\n",
        "    actualLable = Y_test[index]\n",
        "    if actualLable == 1:\n",
        "      if prediction == 1:\n",
        "        tp +=1\n",
        "      else:\n",
        "        fn +=1\n",
        "    else:\n",
        "        if prediction == 0:\n",
        "          tn+=1\n",
        "        else:\n",
        "            fp+=1\n",
        "  return {\"Accuracy\":round( (tp+tn) / (tp+tn+fp+fn),2),\"Percision\":round(tp/(tp+fp),2),\"Recall\":round(tp/(tp+fn),2)}"
      ]
    },
    {
      "cell_type": "code",
      "execution_count": null,
      "metadata": {
        "colab": {
          "base_uri": "https://localhost:8080/",
          "height": 67,
          "referenced_widgets": [
            "ab686c106c5e40969f78ab92f380044d",
            "abb8ea2596f548eba2e53a0bd822b25c",
            "96a3c3904c2d43db8af709e11c9ead3b",
            "0a58f2b63bc1473ba1909aa3318f96ea",
            "6e47a6acca5741f6a474e0733f5dfa06",
            "e77feaf6b3c24697a931491b7f964665",
            "7dc8e7db14cd4ffa8e1bb9863d326a59",
            "c90d4ce4967148249296c7c45f805b26",
            "ff29aef8ee574db089a0df9b9a699c07",
            "4de10731b5e24fd9bd70d36934ade697",
            "758778f72bba4ab497715ded7e521141"
          ]
        },
        "id": "EgpjbbWiLLsZ",
        "outputId": "4251190b-c213-4eb2-8a23-a6983b882d9e"
      },
      "outputs": [
        {
          "output_type": "display_data",
          "data": {
            "text/plain": [
              "  0%|          | 0/3000 [00:00<?, ?it/s]"
            ],
            "application/vnd.jupyter.widget-view+json": {
              "version_major": 2,
              "version_minor": 0,
              "model_id": "ab686c106c5e40969f78ab92f380044d"
            }
          },
          "metadata": {}
        },
        {
          "output_type": "execute_result",
          "data": {
            "text/plain": [
              "{'Accuracy': 0.88, 'Percision': 0.84, 'Recall': 0.84}"
            ]
          },
          "metadata": {},
          "execution_count": 67
        }
      ],
      "source": [
        "evaluate()"
      ]
    },
    {
      "cell_type": "code",
      "execution_count": null,
      "metadata": {
        "colab": {
          "base_uri": "https://localhost:8080/"
        },
        "id": "UYJsngzVLadM",
        "outputId": "9e705b52-8881-4d32-9229-ff06a82ec313"
      },
      "outputs": [
        {
          "output_type": "stream",
          "name": "stdout",
          "text": [
            " T->H entailment correct:entrailment\n",
            " T->H1 other correct:entrailment\n",
            " T->H2 entailment correct:entrailment\n",
            " T->H3 entailment correct:other\n",
            " T->H4 other correct:entrailment\n",
            "\n",
            " T->H entailment correct:entrailment\n",
            " T->H1 other correct:entrailment\n",
            " T->H2 entailment correct:entrailment\n",
            " T->H3 other correct:other\n",
            " T->H4 other correct:entrailment\n",
            "\n"
          ]
        }
      ],
      "source": [
        "T = \"Tim managed to stop the car\"\n",
        "H = \"Tim stopped the car\"\n",
        "H1 = \"Tim tried to stop the car\"\n",
        "H2 = \"Tim did something to the car\"\n",
        "H3 = \"the color of the cor is blue\"\n",
        "H4 = \"car is not moving any more\"\n",
        "print(\" T->H\",predict (T,H),\"correct:entrailment\\n\",\"T->H1\",predict (T,H1),\"correct:entrailment\\n\",\"T->H2\",predict (T,H2),\"correct:entrailment\\n\",\n",
        "      \"T->H3\",predict (T,H3),\"correct:other\\n\",\"T->H4\",predict (T,H4),\"correct:entrailment\\n\",)\n",
        "\n",
        "\n",
        "\n",
        "T = \"Tim managed to stop the car\"\n",
        "H = \"Tim stopped the car\"\n",
        "H1 = \"Tim tried to stop the car\"\n",
        "H2 = \"Tim did something to the car\"\n",
        "H3 = \"the color of the car is blue\"\n",
        "H4 = \"car is not moving anymore\"\n",
        "print(\" T->H\",predict (expand(T),expand(H)),\"correct:entrailment\\n\",\"T->H1\",predict (expand(T),expand(H1)),\"correct:entrailment\\n\",\"T->H2\",predict (expand(T),expand(H2)),\"correct:entrailment\\n\",\n",
        "      \"T->H3\",predict (expand(T),expand(H3)),\"correct:other\\n\",\"T->H4\",predict (expand(T),expand(H4)),\"correct:entrailment\\n\",)"
      ]
    },
    {
      "cell_type": "code",
      "source": [
        "T = \"Rome is capital of Italy\"\n",
        "H = \"Rome is located in center of Italy\"\n",
        "print(\"Normal:  \\t\",predict(T,H))\n",
        "print(\"Expanded:\\t\",predict(expand(T),expand(H)))\n",
        "\n",
        "print(\"----------------------------------------------\")\n",
        "T = \"Rome is capital of Italy\"\n",
        "H = \"Rome is located in Italy\"\n",
        "print(\"Normal:  \\t\",predict(T,H))\n",
        "print(\"Expanded:\\t\",predict(expand(T),expand(H)))"
      ],
      "metadata": {
        "colab": {
          "base_uri": "https://localhost:8080/"
        },
        "id": "fRsoBAAORcOl",
        "outputId": "4f1276d6-9aa5-4124-f3ad-227ded7672c0"
      },
      "execution_count": null,
      "outputs": [
        {
          "output_type": "stream",
          "name": "stdout",
          "text": [
            "Normal:  \t other\n",
            "Expanded:\t other\n",
            "----------------------------------------------\n",
            "Normal:  \t other\n",
            "Expanded:\t entailment\n"
          ]
        }
      ]
    },
    {
      "cell_type": "code",
      "source": [
        "def analyze():\n",
        "  false_negative = []\n",
        "  false_positive = []\n",
        "\n",
        "  models = [model_SVM, model_MLP, model_Ada, model_DTC, model_NB]\n",
        "\n",
        "  for index in tqdm(range(len(test))):\n",
        "    \n",
        "    sentence = [X_test[index]]\n",
        "    \n",
        "    prediction = []\n",
        "    for model in models:\n",
        "      prediction.append(model.predict(sentence)[0])\n",
        "      if model is model_DTC:\n",
        "         prediction.append(model.predict(sentence)[0])\n",
        "         if model.predict(sentence)[0] == 1:\n",
        "          prediction.append(model.predict(sentence)[0])\n",
        "          prediction.append(model.predict(sentence)[0])\n",
        "          prediction.append(model.predict(sentence)[0])\n",
        "          \n",
        "\n",
        "    number_of_entailments = len(list(filter(lambda x: x==1,prediction)))\n",
        "    number_of_other = len(list(filter(lambda x: x==0,prediction)))\n",
        "    \n",
        "    if number_of_entailments>number_of_other:\n",
        "        prediction = 1\n",
        "    else:\n",
        "        prediction = 0\n",
        "    actualLable = Y_test[index]\n",
        "    \n",
        "    if actualLable == 1:\n",
        "      if prediction == 0:\n",
        "        false_negative.append(\"T:\\t{}\\nH:\\t{}\\nfeatures:{}\".format(test.sentence1[index],test.sentence2[index],X_test[index]))\n",
        "    else:\n",
        "        if prediction == 1:\n",
        "          false_positive.append(\"T:\\t{}\\nH:\\t{}\\nfeatures:{}\".format(test.sentence1[index],test.sentence2[index],X_test[index]))\n",
        "\n",
        "  return false_positive,false_negative"
      ],
      "metadata": {
        "id": "uUQtsa8TTjLn"
      },
      "execution_count": null,
      "outputs": []
    },
    {
      "cell_type": "code",
      "source": [
        "false_positive,false_negative = analyze()"
      ],
      "metadata": {
        "colab": {
          "base_uri": "https://localhost:8080/",
          "height": 49,
          "referenced_widgets": [
            "4edb266a7cfc45cc98f2f5323084824d",
            "4316817794e84d61beef233940f7214b",
            "1008f0a228bf41bfab203e161529b81b",
            "3ead4a552f2d4b2cb37eef84199dbfc4",
            "f150f268e956488d959354c22a164451",
            "33e3cf85c4b8494bb1c35b56dd930937",
            "159e4969f646411facc71d2d992bb0a7",
            "1455267c366f4ff6a3a41f64391230d0",
            "c948d0cec45f4da08193734018f4edee",
            "c359ba583cb441f1b300c2bf8d83134f",
            "0d8e6a4faed54d52a046bc6b454c72dd"
          ]
        },
        "id": "divvhS2Kaijq",
        "outputId": "57c92b68-ec9f-46b1-c082-5d0a017395de"
      },
      "execution_count": null,
      "outputs": [
        {
          "output_type": "display_data",
          "data": {
            "text/plain": [
              "  0%|          | 0/3000 [00:00<?, ?it/s]"
            ],
            "application/vnd.jupyter.widget-view+json": {
              "version_major": 2,
              "version_minor": 0,
              "model_id": "4edb266a7cfc45cc98f2f5323084824d"
            }
          },
          "metadata": {}
        }
      ]
    },
    {
      "cell_type": "code",
      "source": [
        "print(\"false_positive:\",len(false_positive))\n",
        "print(\"false_negative:\",len(false_negative))"
      ],
      "metadata": {
        "colab": {
          "base_uri": "https://localhost:8080/"
        },
        "id": "VRQkIU9TgKAz",
        "outputId": "ca354b8b-ba68-4db3-a48c-20921bce7c3e"
      },
      "execution_count": null,
      "outputs": [
        {
          "output_type": "stream",
          "name": "stdout",
          "text": [
            "false_positive: 191\n",
            "false_negative: 186\n"
          ]
        }
      ]
    },
    {
      "cell_type": "code",
      "source": [
        "print(\"\\nFalse Negative\")\n",
        "for item in false_negative:\n",
        "  print(item,\"\\n\")\n",
        "\n",
        "\n",
        "print(\"\\nFalse Positive\")\n",
        "for item in false_positive:\n",
        "  print(item,\"\\n\")"
      ],
      "metadata": {
        "id": "94piJ_XgaoOI"
      },
      "execution_count": null,
      "outputs": []
    },
    {
      "cell_type": "code",
      "source": [
        "with open('./drive/MyDrive/ColabData/X_test_expanded.data', 'rb') as f:\n",
        "        X_test = pickle.load(f)\n",
        "\n",
        "with open('./drive/MyDrive/ColabData/Y_test_expanded.data', 'rb') as f:\n",
        "        Y_test = pickle.load(f)"
      ],
      "metadata": {
        "id": "LxCM1xEukqEI"
      },
      "execution_count": null,
      "outputs": []
    },
    {
      "cell_type": "code",
      "source": [
        "false_positive,false_negative = analyze()"
      ],
      "metadata": {
        "colab": {
          "base_uri": "https://localhost:8080/",
          "height": 49,
          "referenced_widgets": [
            "43e451edfaf14596ae87e6cf41674629",
            "b60b142dba22411ab9a21effb206aca7",
            "e41cac82ab904bfdb71c99d172c18fea",
            "c8428aa5b03a42a4b9e925d3c3e7ccf1",
            "bbe62c4ab6a443ad8585583ca47f6dd5",
            "46ae1e156a5a44d3adf12acedb98d178",
            "c997d2735c7540ff8c4f7181d3c5f41e",
            "31f05d162d14440c8f9b2b6e495816c1",
            "183b1efd723b475d8e4c1666ea778ad2",
            "9e40673332ae436da7ea5da0f579e384",
            "698a85fd84fc422d98847c52c84d22ec"
          ]
        },
        "id": "ZsqpGfZu4vNx",
        "outputId": "36460b3b-1777-4cec-d2e9-288ced65c3c8"
      },
      "execution_count": null,
      "outputs": [
        {
          "output_type": "display_data",
          "data": {
            "text/plain": [
              "  0%|          | 0/3000 [00:00<?, ?it/s]"
            ],
            "application/vnd.jupyter.widget-view+json": {
              "version_major": 2,
              "version_minor": 0,
              "model_id": "43e451edfaf14596ae87e6cf41674629"
            }
          },
          "metadata": {}
        }
      ]
    },
    {
      "cell_type": "code",
      "source": [
        "print(\"expanded false_positive:\",len(false_positive))\n",
        "print(\"expanded false_negative:\",len(false_negative))"
      ],
      "metadata": {
        "colab": {
          "base_uri": "https://localhost:8080/"
        },
        "id": "b9DgAq3S4xZV",
        "outputId": "997b8fc3-5b72-43e6-adf0-0231c31577ae"
      },
      "execution_count": null,
      "outputs": [
        {
          "output_type": "stream",
          "name": "stdout",
          "text": [
            "expanded false_positive: 775\n",
            "expanded false_negative: 602\n"
          ]
        }
      ]
    },
    {
      "cell_type": "code",
      "source": [
        "print(\"\\nExpanded False Negative\")\n",
        "for item in false_negative:\n",
        "  print(item,\"\\n\")\n",
        "\n",
        "\n",
        "print(\"\\nExpanded False Positive\")\n",
        "for item in false_positive:\n",
        "  print(item,\"\\n\")"
      ],
      "metadata": {
        "id": "P9n2cDGi41Zp"
      },
      "execution_count": null,
      "outputs": []
    },
    {
      "cell_type": "code",
      "source": [
        "T = \"Ms. Minton left Australia in 1961 to pursue her studies in London.\"\n",
        "H = \"Ms. Minton was born in Australia.\"\n",
        "print(\"Normal:  \\t\",predict(T,H))\n",
        "print(\"Expanded:\\t\",predict(expand(T),expand(H)))"
      ],
      "metadata": {
        "colab": {
          "base_uri": "https://localhost:8080/"
        },
        "id": "b8VyGik25Owa",
        "outputId": "eaf45eaa-b3e3-40ba-d138-b0bfc9b06400"
      },
      "execution_count": null,
      "outputs": [
        {
          "output_type": "stream",
          "name": "stdout",
          "text": [
            "Normal:  \t entailment\n",
            "Expanded:\t entailment\n"
          ]
        }
      ]
    },
    {
      "cell_type": "code",
      "source": [
        ""
      ],
      "metadata": {
        "id": "7wkKzzSs5h4g"
      },
      "execution_count": null,
      "outputs": []
    }
  ],
  "metadata": {
    "colab": {
      "collapsed_sections": [],
      "name": "Information Retrieval Project.ipynb",
      "provenance": []
    },
    "kernelspec": {
      "display_name": "Python 3",
      "name": "python3"
    },
    "language_info": {
      "name": "python"
    },
    "widgets": {
      "application/vnd.jupyter.widget-state+json": {
        "50346688f9b041ad90785c195c7ab0a4": {
          "model_module": "@jupyter-widgets/controls",
          "model_name": "HBoxModel",
          "model_module_version": "1.5.0",
          "state": {
            "_dom_classes": [],
            "_model_module": "@jupyter-widgets/controls",
            "_model_module_version": "1.5.0",
            "_model_name": "HBoxModel",
            "_view_count": null,
            "_view_module": "@jupyter-widgets/controls",
            "_view_module_version": "1.5.0",
            "_view_name": "HBoxView",
            "box_style": "",
            "children": [
              "IPY_MODEL_f4718858371b4bb0ba607b19c40b0e5c",
              "IPY_MODEL_6fbbbff2e167470499623d4dbf6c3fee",
              "IPY_MODEL_4fbd180eb90b44ff84d44fc77b62fb57"
            ],
            "layout": "IPY_MODEL_559e3ed9b14d4208b8051f428c6a55c2"
          }
        },
        "f4718858371b4bb0ba607b19c40b0e5c": {
          "model_module": "@jupyter-widgets/controls",
          "model_name": "HTMLModel",
          "model_module_version": "1.5.0",
          "state": {
            "_dom_classes": [],
            "_model_module": "@jupyter-widgets/controls",
            "_model_module_version": "1.5.0",
            "_model_name": "HTMLModel",
            "_view_count": null,
            "_view_module": "@jupyter-widgets/controls",
            "_view_module_version": "1.5.0",
            "_view_name": "HTMLView",
            "description": "",
            "description_tooltip": null,
            "layout": "IPY_MODEL_18fd884b8dd84a41a5047491eb872c97",
            "placeholder": "​",
            "style": "IPY_MODEL_36848f4cc260431291ae11e43dd7c716",
            "value": "100%"
          }
        },
        "6fbbbff2e167470499623d4dbf6c3fee": {
          "model_module": "@jupyter-widgets/controls",
          "model_name": "FloatProgressModel",
          "model_module_version": "1.5.0",
          "state": {
            "_dom_classes": [],
            "_model_module": "@jupyter-widgets/controls",
            "_model_module_version": "1.5.0",
            "_model_name": "FloatProgressModel",
            "_view_count": null,
            "_view_module": "@jupyter-widgets/controls",
            "_view_module_version": "1.5.0",
            "_view_name": "ProgressView",
            "bar_style": "success",
            "description": "",
            "description_tooltip": null,
            "layout": "IPY_MODEL_3d9b5e0e330d47bb8464567fbce74eb0",
            "max": 100,
            "min": 0,
            "orientation": "horizontal",
            "style": "IPY_MODEL_611c49de445e40e3b92c6894162075db",
            "value": 100
          }
        },
        "4fbd180eb90b44ff84d44fc77b62fb57": {
          "model_module": "@jupyter-widgets/controls",
          "model_name": "HTMLModel",
          "model_module_version": "1.5.0",
          "state": {
            "_dom_classes": [],
            "_model_module": "@jupyter-widgets/controls",
            "_model_module_version": "1.5.0",
            "_model_name": "HTMLModel",
            "_view_count": null,
            "_view_module": "@jupyter-widgets/controls",
            "_view_module_version": "1.5.0",
            "_view_name": "HTMLView",
            "description": "",
            "description_tooltip": null,
            "layout": "IPY_MODEL_b9bffe0618ad44a696525e41462b93c2",
            "placeholder": "​",
            "style": "IPY_MODEL_ca20a2be2e0b46079ef1d2e044040a54",
            "value": " 100/100 [11:48&lt;00:00,  7.14s/it]"
          }
        },
        "559e3ed9b14d4208b8051f428c6a55c2": {
          "model_module": "@jupyter-widgets/base",
          "model_name": "LayoutModel",
          "model_module_version": "1.2.0",
          "state": {
            "_model_module": "@jupyter-widgets/base",
            "_model_module_version": "1.2.0",
            "_model_name": "LayoutModel",
            "_view_count": null,
            "_view_module": "@jupyter-widgets/base",
            "_view_module_version": "1.2.0",
            "_view_name": "LayoutView",
            "align_content": null,
            "align_items": null,
            "align_self": null,
            "border": null,
            "bottom": null,
            "display": null,
            "flex": null,
            "flex_flow": null,
            "grid_area": null,
            "grid_auto_columns": null,
            "grid_auto_flow": null,
            "grid_auto_rows": null,
            "grid_column": null,
            "grid_gap": null,
            "grid_row": null,
            "grid_template_areas": null,
            "grid_template_columns": null,
            "grid_template_rows": null,
            "height": null,
            "justify_content": null,
            "justify_items": null,
            "left": null,
            "margin": null,
            "max_height": null,
            "max_width": null,
            "min_height": null,
            "min_width": null,
            "object_fit": null,
            "object_position": null,
            "order": null,
            "overflow": null,
            "overflow_x": null,
            "overflow_y": null,
            "padding": null,
            "right": null,
            "top": null,
            "visibility": null,
            "width": null
          }
        },
        "18fd884b8dd84a41a5047491eb872c97": {
          "model_module": "@jupyter-widgets/base",
          "model_name": "LayoutModel",
          "model_module_version": "1.2.0",
          "state": {
            "_model_module": "@jupyter-widgets/base",
            "_model_module_version": "1.2.0",
            "_model_name": "LayoutModel",
            "_view_count": null,
            "_view_module": "@jupyter-widgets/base",
            "_view_module_version": "1.2.0",
            "_view_name": "LayoutView",
            "align_content": null,
            "align_items": null,
            "align_self": null,
            "border": null,
            "bottom": null,
            "display": null,
            "flex": null,
            "flex_flow": null,
            "grid_area": null,
            "grid_auto_columns": null,
            "grid_auto_flow": null,
            "grid_auto_rows": null,
            "grid_column": null,
            "grid_gap": null,
            "grid_row": null,
            "grid_template_areas": null,
            "grid_template_columns": null,
            "grid_template_rows": null,
            "height": null,
            "justify_content": null,
            "justify_items": null,
            "left": null,
            "margin": null,
            "max_height": null,
            "max_width": null,
            "min_height": null,
            "min_width": null,
            "object_fit": null,
            "object_position": null,
            "order": null,
            "overflow": null,
            "overflow_x": null,
            "overflow_y": null,
            "padding": null,
            "right": null,
            "top": null,
            "visibility": null,
            "width": null
          }
        },
        "36848f4cc260431291ae11e43dd7c716": {
          "model_module": "@jupyter-widgets/controls",
          "model_name": "DescriptionStyleModel",
          "model_module_version": "1.5.0",
          "state": {
            "_model_module": "@jupyter-widgets/controls",
            "_model_module_version": "1.5.0",
            "_model_name": "DescriptionStyleModel",
            "_view_count": null,
            "_view_module": "@jupyter-widgets/base",
            "_view_module_version": "1.2.0",
            "_view_name": "StyleView",
            "description_width": ""
          }
        },
        "3d9b5e0e330d47bb8464567fbce74eb0": {
          "model_module": "@jupyter-widgets/base",
          "model_name": "LayoutModel",
          "model_module_version": "1.2.0",
          "state": {
            "_model_module": "@jupyter-widgets/base",
            "_model_module_version": "1.2.0",
            "_model_name": "LayoutModel",
            "_view_count": null,
            "_view_module": "@jupyter-widgets/base",
            "_view_module_version": "1.2.0",
            "_view_name": "LayoutView",
            "align_content": null,
            "align_items": null,
            "align_self": null,
            "border": null,
            "bottom": null,
            "display": null,
            "flex": null,
            "flex_flow": null,
            "grid_area": null,
            "grid_auto_columns": null,
            "grid_auto_flow": null,
            "grid_auto_rows": null,
            "grid_column": null,
            "grid_gap": null,
            "grid_row": null,
            "grid_template_areas": null,
            "grid_template_columns": null,
            "grid_template_rows": null,
            "height": null,
            "justify_content": null,
            "justify_items": null,
            "left": null,
            "margin": null,
            "max_height": null,
            "max_width": null,
            "min_height": null,
            "min_width": null,
            "object_fit": null,
            "object_position": null,
            "order": null,
            "overflow": null,
            "overflow_x": null,
            "overflow_y": null,
            "padding": null,
            "right": null,
            "top": null,
            "visibility": null,
            "width": null
          }
        },
        "611c49de445e40e3b92c6894162075db": {
          "model_module": "@jupyter-widgets/controls",
          "model_name": "ProgressStyleModel",
          "model_module_version": "1.5.0",
          "state": {
            "_model_module": "@jupyter-widgets/controls",
            "_model_module_version": "1.5.0",
            "_model_name": "ProgressStyleModel",
            "_view_count": null,
            "_view_module": "@jupyter-widgets/base",
            "_view_module_version": "1.2.0",
            "_view_name": "StyleView",
            "bar_color": null,
            "description_width": ""
          }
        },
        "b9bffe0618ad44a696525e41462b93c2": {
          "model_module": "@jupyter-widgets/base",
          "model_name": "LayoutModel",
          "model_module_version": "1.2.0",
          "state": {
            "_model_module": "@jupyter-widgets/base",
            "_model_module_version": "1.2.0",
            "_model_name": "LayoutModel",
            "_view_count": null,
            "_view_module": "@jupyter-widgets/base",
            "_view_module_version": "1.2.0",
            "_view_name": "LayoutView",
            "align_content": null,
            "align_items": null,
            "align_self": null,
            "border": null,
            "bottom": null,
            "display": null,
            "flex": null,
            "flex_flow": null,
            "grid_area": null,
            "grid_auto_columns": null,
            "grid_auto_flow": null,
            "grid_auto_rows": null,
            "grid_column": null,
            "grid_gap": null,
            "grid_row": null,
            "grid_template_areas": null,
            "grid_template_columns": null,
            "grid_template_rows": null,
            "height": null,
            "justify_content": null,
            "justify_items": null,
            "left": null,
            "margin": null,
            "max_height": null,
            "max_width": null,
            "min_height": null,
            "min_width": null,
            "object_fit": null,
            "object_position": null,
            "order": null,
            "overflow": null,
            "overflow_x": null,
            "overflow_y": null,
            "padding": null,
            "right": null,
            "top": null,
            "visibility": null,
            "width": null
          }
        },
        "ca20a2be2e0b46079ef1d2e044040a54": {
          "model_module": "@jupyter-widgets/controls",
          "model_name": "DescriptionStyleModel",
          "model_module_version": "1.5.0",
          "state": {
            "_model_module": "@jupyter-widgets/controls",
            "_model_module_version": "1.5.0",
            "_model_name": "DescriptionStyleModel",
            "_view_count": null,
            "_view_module": "@jupyter-widgets/base",
            "_view_module_version": "1.2.0",
            "_view_name": "StyleView",
            "description_width": ""
          }
        },
        "b167a81a400c42b689dbba97a0741732": {
          "model_module": "@jupyter-widgets/controls",
          "model_name": "HBoxModel",
          "model_module_version": "1.5.0",
          "state": {
            "_dom_classes": [],
            "_model_module": "@jupyter-widgets/controls",
            "_model_module_version": "1.5.0",
            "_model_name": "HBoxModel",
            "_view_count": null,
            "_view_module": "@jupyter-widgets/controls",
            "_view_module_version": "1.5.0",
            "_view_name": "HBoxView",
            "box_style": "",
            "children": [
              "IPY_MODEL_0aaf96e93b404147a70d7607a4bffbdb",
              "IPY_MODEL_7c474e98e1a74338831d988aa79fc204",
              "IPY_MODEL_2905c7b0329e409ca1607d554d0cf190"
            ],
            "layout": "IPY_MODEL_44acd3d543e84950ba3ea7ac0c2fb760"
          }
        },
        "0aaf96e93b404147a70d7607a4bffbdb": {
          "model_module": "@jupyter-widgets/controls",
          "model_name": "HTMLModel",
          "model_module_version": "1.5.0",
          "state": {
            "_dom_classes": [],
            "_model_module": "@jupyter-widgets/controls",
            "_model_module_version": "1.5.0",
            "_model_name": "HTMLModel",
            "_view_count": null,
            "_view_module": "@jupyter-widgets/controls",
            "_view_module_version": "1.5.0",
            "_view_name": "HTMLView",
            "description": "",
            "description_tooltip": null,
            "layout": "IPY_MODEL_ee5a0b4286b94b78967f6cb138f83481",
            "placeholder": "​",
            "style": "IPY_MODEL_6c5426c357704a538d527bc65d40a323",
            "value": "100%"
          }
        },
        "7c474e98e1a74338831d988aa79fc204": {
          "model_module": "@jupyter-widgets/controls",
          "model_name": "FloatProgressModel",
          "model_module_version": "1.5.0",
          "state": {
            "_dom_classes": [],
            "_model_module": "@jupyter-widgets/controls",
            "_model_module_version": "1.5.0",
            "_model_name": "FloatProgressModel",
            "_view_count": null,
            "_view_module": "@jupyter-widgets/controls",
            "_view_module_version": "1.5.0",
            "_view_name": "ProgressView",
            "bar_style": "success",
            "description": "",
            "description_tooltip": null,
            "layout": "IPY_MODEL_aeef17cf9bde45bdad8af28347c5cd60",
            "max": 1000,
            "min": 0,
            "orientation": "horizontal",
            "style": "IPY_MODEL_469345e8d1c54f93b2eef1135c17e487",
            "value": 1000
          }
        },
        "2905c7b0329e409ca1607d554d0cf190": {
          "model_module": "@jupyter-widgets/controls",
          "model_name": "HTMLModel",
          "model_module_version": "1.5.0",
          "state": {
            "_dom_classes": [],
            "_model_module": "@jupyter-widgets/controls",
            "_model_module_version": "1.5.0",
            "_model_name": "HTMLModel",
            "_view_count": null,
            "_view_module": "@jupyter-widgets/controls",
            "_view_module_version": "1.5.0",
            "_view_name": "HTMLView",
            "description": "",
            "description_tooltip": null,
            "layout": "IPY_MODEL_d5697e379f6243d7b48c65fd6d4f4bea",
            "placeholder": "​",
            "style": "IPY_MODEL_f10fc4f1c0f04cf4b2b5a73491a80f5d",
            "value": " 1000/1000 [21:19&lt;00:00,  1.15s/it]"
          }
        },
        "44acd3d543e84950ba3ea7ac0c2fb760": {
          "model_module": "@jupyter-widgets/base",
          "model_name": "LayoutModel",
          "model_module_version": "1.2.0",
          "state": {
            "_model_module": "@jupyter-widgets/base",
            "_model_module_version": "1.2.0",
            "_model_name": "LayoutModel",
            "_view_count": null,
            "_view_module": "@jupyter-widgets/base",
            "_view_module_version": "1.2.0",
            "_view_name": "LayoutView",
            "align_content": null,
            "align_items": null,
            "align_self": null,
            "border": null,
            "bottom": null,
            "display": null,
            "flex": null,
            "flex_flow": null,
            "grid_area": null,
            "grid_auto_columns": null,
            "grid_auto_flow": null,
            "grid_auto_rows": null,
            "grid_column": null,
            "grid_gap": null,
            "grid_row": null,
            "grid_template_areas": null,
            "grid_template_columns": null,
            "grid_template_rows": null,
            "height": null,
            "justify_content": null,
            "justify_items": null,
            "left": null,
            "margin": null,
            "max_height": null,
            "max_width": null,
            "min_height": null,
            "min_width": null,
            "object_fit": null,
            "object_position": null,
            "order": null,
            "overflow": null,
            "overflow_x": null,
            "overflow_y": null,
            "padding": null,
            "right": null,
            "top": null,
            "visibility": null,
            "width": null
          }
        },
        "ee5a0b4286b94b78967f6cb138f83481": {
          "model_module": "@jupyter-widgets/base",
          "model_name": "LayoutModel",
          "model_module_version": "1.2.0",
          "state": {
            "_model_module": "@jupyter-widgets/base",
            "_model_module_version": "1.2.0",
            "_model_name": "LayoutModel",
            "_view_count": null,
            "_view_module": "@jupyter-widgets/base",
            "_view_module_version": "1.2.0",
            "_view_name": "LayoutView",
            "align_content": null,
            "align_items": null,
            "align_self": null,
            "border": null,
            "bottom": null,
            "display": null,
            "flex": null,
            "flex_flow": null,
            "grid_area": null,
            "grid_auto_columns": null,
            "grid_auto_flow": null,
            "grid_auto_rows": null,
            "grid_column": null,
            "grid_gap": null,
            "grid_row": null,
            "grid_template_areas": null,
            "grid_template_columns": null,
            "grid_template_rows": null,
            "height": null,
            "justify_content": null,
            "justify_items": null,
            "left": null,
            "margin": null,
            "max_height": null,
            "max_width": null,
            "min_height": null,
            "min_width": null,
            "object_fit": null,
            "object_position": null,
            "order": null,
            "overflow": null,
            "overflow_x": null,
            "overflow_y": null,
            "padding": null,
            "right": null,
            "top": null,
            "visibility": null,
            "width": null
          }
        },
        "6c5426c357704a538d527bc65d40a323": {
          "model_module": "@jupyter-widgets/controls",
          "model_name": "DescriptionStyleModel",
          "model_module_version": "1.5.0",
          "state": {
            "_model_module": "@jupyter-widgets/controls",
            "_model_module_version": "1.5.0",
            "_model_name": "DescriptionStyleModel",
            "_view_count": null,
            "_view_module": "@jupyter-widgets/base",
            "_view_module_version": "1.2.0",
            "_view_name": "StyleView",
            "description_width": ""
          }
        },
        "aeef17cf9bde45bdad8af28347c5cd60": {
          "model_module": "@jupyter-widgets/base",
          "model_name": "LayoutModel",
          "model_module_version": "1.2.0",
          "state": {
            "_model_module": "@jupyter-widgets/base",
            "_model_module_version": "1.2.0",
            "_model_name": "LayoutModel",
            "_view_count": null,
            "_view_module": "@jupyter-widgets/base",
            "_view_module_version": "1.2.0",
            "_view_name": "LayoutView",
            "align_content": null,
            "align_items": null,
            "align_self": null,
            "border": null,
            "bottom": null,
            "display": null,
            "flex": null,
            "flex_flow": null,
            "grid_area": null,
            "grid_auto_columns": null,
            "grid_auto_flow": null,
            "grid_auto_rows": null,
            "grid_column": null,
            "grid_gap": null,
            "grid_row": null,
            "grid_template_areas": null,
            "grid_template_columns": null,
            "grid_template_rows": null,
            "height": null,
            "justify_content": null,
            "justify_items": null,
            "left": null,
            "margin": null,
            "max_height": null,
            "max_width": null,
            "min_height": null,
            "min_width": null,
            "object_fit": null,
            "object_position": null,
            "order": null,
            "overflow": null,
            "overflow_x": null,
            "overflow_y": null,
            "padding": null,
            "right": null,
            "top": null,
            "visibility": null,
            "width": null
          }
        },
        "469345e8d1c54f93b2eef1135c17e487": {
          "model_module": "@jupyter-widgets/controls",
          "model_name": "ProgressStyleModel",
          "model_module_version": "1.5.0",
          "state": {
            "_model_module": "@jupyter-widgets/controls",
            "_model_module_version": "1.5.0",
            "_model_name": "ProgressStyleModel",
            "_view_count": null,
            "_view_module": "@jupyter-widgets/base",
            "_view_module_version": "1.2.0",
            "_view_name": "StyleView",
            "bar_color": null,
            "description_width": ""
          }
        },
        "d5697e379f6243d7b48c65fd6d4f4bea": {
          "model_module": "@jupyter-widgets/base",
          "model_name": "LayoutModel",
          "model_module_version": "1.2.0",
          "state": {
            "_model_module": "@jupyter-widgets/base",
            "_model_module_version": "1.2.0",
            "_model_name": "LayoutModel",
            "_view_count": null,
            "_view_module": "@jupyter-widgets/base",
            "_view_module_version": "1.2.0",
            "_view_name": "LayoutView",
            "align_content": null,
            "align_items": null,
            "align_self": null,
            "border": null,
            "bottom": null,
            "display": null,
            "flex": null,
            "flex_flow": null,
            "grid_area": null,
            "grid_auto_columns": null,
            "grid_auto_flow": null,
            "grid_auto_rows": null,
            "grid_column": null,
            "grid_gap": null,
            "grid_row": null,
            "grid_template_areas": null,
            "grid_template_columns": null,
            "grid_template_rows": null,
            "height": null,
            "justify_content": null,
            "justify_items": null,
            "left": null,
            "margin": null,
            "max_height": null,
            "max_width": null,
            "min_height": null,
            "min_width": null,
            "object_fit": null,
            "object_position": null,
            "order": null,
            "overflow": null,
            "overflow_x": null,
            "overflow_y": null,
            "padding": null,
            "right": null,
            "top": null,
            "visibility": null,
            "width": null
          }
        },
        "f10fc4f1c0f04cf4b2b5a73491a80f5d": {
          "model_module": "@jupyter-widgets/controls",
          "model_name": "DescriptionStyleModel",
          "model_module_version": "1.5.0",
          "state": {
            "_model_module": "@jupyter-widgets/controls",
            "_model_module_version": "1.5.0",
            "_model_name": "DescriptionStyleModel",
            "_view_count": null,
            "_view_module": "@jupyter-widgets/base",
            "_view_module_version": "1.2.0",
            "_view_name": "StyleView",
            "description_width": ""
          }
        },
        "97d12b30a8d04699b800beb8e625178b": {
          "model_module": "@jupyter-widgets/controls",
          "model_name": "HBoxModel",
          "model_module_version": "1.5.0",
          "state": {
            "_dom_classes": [],
            "_model_module": "@jupyter-widgets/controls",
            "_model_module_version": "1.5.0",
            "_model_name": "HBoxModel",
            "_view_count": null,
            "_view_module": "@jupyter-widgets/controls",
            "_view_module_version": "1.5.0",
            "_view_name": "HBoxView",
            "box_style": "",
            "children": [
              "IPY_MODEL_5bb99944bd344e91b7067990786b99c1",
              "IPY_MODEL_ab81fec010364e51966868bcb342beb6",
              "IPY_MODEL_554005528eec461c8b99963a52a18846"
            ],
            "layout": "IPY_MODEL_8863e657722340adbb23174118c2a678"
          }
        },
        "5bb99944bd344e91b7067990786b99c1": {
          "model_module": "@jupyter-widgets/controls",
          "model_name": "HTMLModel",
          "model_module_version": "1.5.0",
          "state": {
            "_dom_classes": [],
            "_model_module": "@jupyter-widgets/controls",
            "_model_module_version": "1.5.0",
            "_model_name": "HTMLModel",
            "_view_count": null,
            "_view_module": "@jupyter-widgets/controls",
            "_view_module_version": "1.5.0",
            "_view_name": "HTMLView",
            "description": "",
            "description_tooltip": null,
            "layout": "IPY_MODEL_aaeef74ce8fa4ce0a144b8af092e5000",
            "placeholder": "​",
            "style": "IPY_MODEL_eb58d430fae44f638aa4557f2ed919b1",
            "value": "100%"
          }
        },
        "ab81fec010364e51966868bcb342beb6": {
          "model_module": "@jupyter-widgets/controls",
          "model_name": "FloatProgressModel",
          "model_module_version": "1.5.0",
          "state": {
            "_dom_classes": [],
            "_model_module": "@jupyter-widgets/controls",
            "_model_module_version": "1.5.0",
            "_model_name": "FloatProgressModel",
            "_view_count": null,
            "_view_module": "@jupyter-widgets/controls",
            "_view_module_version": "1.5.0",
            "_view_name": "ProgressView",
            "bar_style": "success",
            "description": "",
            "description_tooltip": null,
            "layout": "IPY_MODEL_77bbd98bfee94c1f925cdeba2f83f1aa",
            "max": 100,
            "min": 0,
            "orientation": "horizontal",
            "style": "IPY_MODEL_e78b263a7f164fa48f8016ad7e4ffb95",
            "value": 100
          }
        },
        "554005528eec461c8b99963a52a18846": {
          "model_module": "@jupyter-widgets/controls",
          "model_name": "HTMLModel",
          "model_module_version": "1.5.0",
          "state": {
            "_dom_classes": [],
            "_model_module": "@jupyter-widgets/controls",
            "_model_module_version": "1.5.0",
            "_model_name": "HTMLModel",
            "_view_count": null,
            "_view_module": "@jupyter-widgets/controls",
            "_view_module_version": "1.5.0",
            "_view_name": "HTMLView",
            "description": "",
            "description_tooltip": null,
            "layout": "IPY_MODEL_eefe04ae0fa54719a521dcc278dbb02e",
            "placeholder": "​",
            "style": "IPY_MODEL_4037b56f5e454afcb7989f0c4c8498f1",
            "value": " 100/100 [01:52&lt;00:00,  1.73s/it]"
          }
        },
        "8863e657722340adbb23174118c2a678": {
          "model_module": "@jupyter-widgets/base",
          "model_name": "LayoutModel",
          "model_module_version": "1.2.0",
          "state": {
            "_model_module": "@jupyter-widgets/base",
            "_model_module_version": "1.2.0",
            "_model_name": "LayoutModel",
            "_view_count": null,
            "_view_module": "@jupyter-widgets/base",
            "_view_module_version": "1.2.0",
            "_view_name": "LayoutView",
            "align_content": null,
            "align_items": null,
            "align_self": null,
            "border": null,
            "bottom": null,
            "display": null,
            "flex": null,
            "flex_flow": null,
            "grid_area": null,
            "grid_auto_columns": null,
            "grid_auto_flow": null,
            "grid_auto_rows": null,
            "grid_column": null,
            "grid_gap": null,
            "grid_row": null,
            "grid_template_areas": null,
            "grid_template_columns": null,
            "grid_template_rows": null,
            "height": null,
            "justify_content": null,
            "justify_items": null,
            "left": null,
            "margin": null,
            "max_height": null,
            "max_width": null,
            "min_height": null,
            "min_width": null,
            "object_fit": null,
            "object_position": null,
            "order": null,
            "overflow": null,
            "overflow_x": null,
            "overflow_y": null,
            "padding": null,
            "right": null,
            "top": null,
            "visibility": null,
            "width": null
          }
        },
        "aaeef74ce8fa4ce0a144b8af092e5000": {
          "model_module": "@jupyter-widgets/base",
          "model_name": "LayoutModel",
          "model_module_version": "1.2.0",
          "state": {
            "_model_module": "@jupyter-widgets/base",
            "_model_module_version": "1.2.0",
            "_model_name": "LayoutModel",
            "_view_count": null,
            "_view_module": "@jupyter-widgets/base",
            "_view_module_version": "1.2.0",
            "_view_name": "LayoutView",
            "align_content": null,
            "align_items": null,
            "align_self": null,
            "border": null,
            "bottom": null,
            "display": null,
            "flex": null,
            "flex_flow": null,
            "grid_area": null,
            "grid_auto_columns": null,
            "grid_auto_flow": null,
            "grid_auto_rows": null,
            "grid_column": null,
            "grid_gap": null,
            "grid_row": null,
            "grid_template_areas": null,
            "grid_template_columns": null,
            "grid_template_rows": null,
            "height": null,
            "justify_content": null,
            "justify_items": null,
            "left": null,
            "margin": null,
            "max_height": null,
            "max_width": null,
            "min_height": null,
            "min_width": null,
            "object_fit": null,
            "object_position": null,
            "order": null,
            "overflow": null,
            "overflow_x": null,
            "overflow_y": null,
            "padding": null,
            "right": null,
            "top": null,
            "visibility": null,
            "width": null
          }
        },
        "eb58d430fae44f638aa4557f2ed919b1": {
          "model_module": "@jupyter-widgets/controls",
          "model_name": "DescriptionStyleModel",
          "model_module_version": "1.5.0",
          "state": {
            "_model_module": "@jupyter-widgets/controls",
            "_model_module_version": "1.5.0",
            "_model_name": "DescriptionStyleModel",
            "_view_count": null,
            "_view_module": "@jupyter-widgets/base",
            "_view_module_version": "1.2.0",
            "_view_name": "StyleView",
            "description_width": ""
          }
        },
        "77bbd98bfee94c1f925cdeba2f83f1aa": {
          "model_module": "@jupyter-widgets/base",
          "model_name": "LayoutModel",
          "model_module_version": "1.2.0",
          "state": {
            "_model_module": "@jupyter-widgets/base",
            "_model_module_version": "1.2.0",
            "_model_name": "LayoutModel",
            "_view_count": null,
            "_view_module": "@jupyter-widgets/base",
            "_view_module_version": "1.2.0",
            "_view_name": "LayoutView",
            "align_content": null,
            "align_items": null,
            "align_self": null,
            "border": null,
            "bottom": null,
            "display": null,
            "flex": null,
            "flex_flow": null,
            "grid_area": null,
            "grid_auto_columns": null,
            "grid_auto_flow": null,
            "grid_auto_rows": null,
            "grid_column": null,
            "grid_gap": null,
            "grid_row": null,
            "grid_template_areas": null,
            "grid_template_columns": null,
            "grid_template_rows": null,
            "height": null,
            "justify_content": null,
            "justify_items": null,
            "left": null,
            "margin": null,
            "max_height": null,
            "max_width": null,
            "min_height": null,
            "min_width": null,
            "object_fit": null,
            "object_position": null,
            "order": null,
            "overflow": null,
            "overflow_x": null,
            "overflow_y": null,
            "padding": null,
            "right": null,
            "top": null,
            "visibility": null,
            "width": null
          }
        },
        "e78b263a7f164fa48f8016ad7e4ffb95": {
          "model_module": "@jupyter-widgets/controls",
          "model_name": "ProgressStyleModel",
          "model_module_version": "1.5.0",
          "state": {
            "_model_module": "@jupyter-widgets/controls",
            "_model_module_version": "1.5.0",
            "_model_name": "ProgressStyleModel",
            "_view_count": null,
            "_view_module": "@jupyter-widgets/base",
            "_view_module_version": "1.2.0",
            "_view_name": "StyleView",
            "bar_color": null,
            "description_width": ""
          }
        },
        "eefe04ae0fa54719a521dcc278dbb02e": {
          "model_module": "@jupyter-widgets/base",
          "model_name": "LayoutModel",
          "model_module_version": "1.2.0",
          "state": {
            "_model_module": "@jupyter-widgets/base",
            "_model_module_version": "1.2.0",
            "_model_name": "LayoutModel",
            "_view_count": null,
            "_view_module": "@jupyter-widgets/base",
            "_view_module_version": "1.2.0",
            "_view_name": "LayoutView",
            "align_content": null,
            "align_items": null,
            "align_self": null,
            "border": null,
            "bottom": null,
            "display": null,
            "flex": null,
            "flex_flow": null,
            "grid_area": null,
            "grid_auto_columns": null,
            "grid_auto_flow": null,
            "grid_auto_rows": null,
            "grid_column": null,
            "grid_gap": null,
            "grid_row": null,
            "grid_template_areas": null,
            "grid_template_columns": null,
            "grid_template_rows": null,
            "height": null,
            "justify_content": null,
            "justify_items": null,
            "left": null,
            "margin": null,
            "max_height": null,
            "max_width": null,
            "min_height": null,
            "min_width": null,
            "object_fit": null,
            "object_position": null,
            "order": null,
            "overflow": null,
            "overflow_x": null,
            "overflow_y": null,
            "padding": null,
            "right": null,
            "top": null,
            "visibility": null,
            "width": null
          }
        },
        "4037b56f5e454afcb7989f0c4c8498f1": {
          "model_module": "@jupyter-widgets/controls",
          "model_name": "DescriptionStyleModel",
          "model_module_version": "1.5.0",
          "state": {
            "_model_module": "@jupyter-widgets/controls",
            "_model_module_version": "1.5.0",
            "_model_name": "DescriptionStyleModel",
            "_view_count": null,
            "_view_module": "@jupyter-widgets/base",
            "_view_module_version": "1.2.0",
            "_view_name": "StyleView",
            "description_width": ""
          }
        },
        "d513f47e735e465299e6518b998c0d39": {
          "model_module": "@jupyter-widgets/controls",
          "model_name": "HBoxModel",
          "model_module_version": "1.5.0",
          "state": {
            "_dom_classes": [],
            "_model_module": "@jupyter-widgets/controls",
            "_model_module_version": "1.5.0",
            "_model_name": "HBoxModel",
            "_view_count": null,
            "_view_module": "@jupyter-widgets/controls",
            "_view_module_version": "1.5.0",
            "_view_name": "HBoxView",
            "box_style": "",
            "children": [
              "IPY_MODEL_d208885a2b1444b6a91916d6e891506b",
              "IPY_MODEL_0cc16d20774945f59d48a7bd63e0c01d",
              "IPY_MODEL_510b22bfe87b45c3bbbb7ec81c35f8f2"
            ],
            "layout": "IPY_MODEL_f140af04721549afb2d6e62d3b01b569"
          }
        },
        "d208885a2b1444b6a91916d6e891506b": {
          "model_module": "@jupyter-widgets/controls",
          "model_name": "HTMLModel",
          "model_module_version": "1.5.0",
          "state": {
            "_dom_classes": [],
            "_model_module": "@jupyter-widgets/controls",
            "_model_module_version": "1.5.0",
            "_model_name": "HTMLModel",
            "_view_count": null,
            "_view_module": "@jupyter-widgets/controls",
            "_view_module_version": "1.5.0",
            "_view_name": "HTMLView",
            "description": "",
            "description_tooltip": null,
            "layout": "IPY_MODEL_b57658445025404da0db76f136d75ba2",
            "placeholder": "​",
            "style": "IPY_MODEL_641c79a545784ccfb427a9ff08964046",
            "value": "100%"
          }
        },
        "0cc16d20774945f59d48a7bd63e0c01d": {
          "model_module": "@jupyter-widgets/controls",
          "model_name": "FloatProgressModel",
          "model_module_version": "1.5.0",
          "state": {
            "_dom_classes": [],
            "_model_module": "@jupyter-widgets/controls",
            "_model_module_version": "1.5.0",
            "_model_name": "FloatProgressModel",
            "_view_count": null,
            "_view_module": "@jupyter-widgets/controls",
            "_view_module_version": "1.5.0",
            "_view_name": "ProgressView",
            "bar_style": "success",
            "description": "",
            "description_tooltip": null,
            "layout": "IPY_MODEL_5ddc684409ad4fa18ef2f8ace22cef32",
            "max": 3000,
            "min": 0,
            "orientation": "horizontal",
            "style": "IPY_MODEL_5bba7d28d3ce40d1b2c3e56b966f55ea",
            "value": 3000
          }
        },
        "510b22bfe87b45c3bbbb7ec81c35f8f2": {
          "model_module": "@jupyter-widgets/controls",
          "model_name": "HTMLModel",
          "model_module_version": "1.5.0",
          "state": {
            "_dom_classes": [],
            "_model_module": "@jupyter-widgets/controls",
            "_model_module_version": "1.5.0",
            "_model_name": "HTMLModel",
            "_view_count": null,
            "_view_module": "@jupyter-widgets/controls",
            "_view_module_version": "1.5.0",
            "_view_name": "HTMLView",
            "description": "",
            "description_tooltip": null,
            "layout": "IPY_MODEL_f064951370ab44d6b956459440e26772",
            "placeholder": "​",
            "style": "IPY_MODEL_966dde9705c04a858acbf99da881eb80",
            "value": " 3000/3000 [00:03&lt;00:00, 782.13it/s]"
          }
        },
        "f140af04721549afb2d6e62d3b01b569": {
          "model_module": "@jupyter-widgets/base",
          "model_name": "LayoutModel",
          "model_module_version": "1.2.0",
          "state": {
            "_model_module": "@jupyter-widgets/base",
            "_model_module_version": "1.2.0",
            "_model_name": "LayoutModel",
            "_view_count": null,
            "_view_module": "@jupyter-widgets/base",
            "_view_module_version": "1.2.0",
            "_view_name": "LayoutView",
            "align_content": null,
            "align_items": null,
            "align_self": null,
            "border": null,
            "bottom": null,
            "display": null,
            "flex": null,
            "flex_flow": null,
            "grid_area": null,
            "grid_auto_columns": null,
            "grid_auto_flow": null,
            "grid_auto_rows": null,
            "grid_column": null,
            "grid_gap": null,
            "grid_row": null,
            "grid_template_areas": null,
            "grid_template_columns": null,
            "grid_template_rows": null,
            "height": null,
            "justify_content": null,
            "justify_items": null,
            "left": null,
            "margin": null,
            "max_height": null,
            "max_width": null,
            "min_height": null,
            "min_width": null,
            "object_fit": null,
            "object_position": null,
            "order": null,
            "overflow": null,
            "overflow_x": null,
            "overflow_y": null,
            "padding": null,
            "right": null,
            "top": null,
            "visibility": null,
            "width": null
          }
        },
        "b57658445025404da0db76f136d75ba2": {
          "model_module": "@jupyter-widgets/base",
          "model_name": "LayoutModel",
          "model_module_version": "1.2.0",
          "state": {
            "_model_module": "@jupyter-widgets/base",
            "_model_module_version": "1.2.0",
            "_model_name": "LayoutModel",
            "_view_count": null,
            "_view_module": "@jupyter-widgets/base",
            "_view_module_version": "1.2.0",
            "_view_name": "LayoutView",
            "align_content": null,
            "align_items": null,
            "align_self": null,
            "border": null,
            "bottom": null,
            "display": null,
            "flex": null,
            "flex_flow": null,
            "grid_area": null,
            "grid_auto_columns": null,
            "grid_auto_flow": null,
            "grid_auto_rows": null,
            "grid_column": null,
            "grid_gap": null,
            "grid_row": null,
            "grid_template_areas": null,
            "grid_template_columns": null,
            "grid_template_rows": null,
            "height": null,
            "justify_content": null,
            "justify_items": null,
            "left": null,
            "margin": null,
            "max_height": null,
            "max_width": null,
            "min_height": null,
            "min_width": null,
            "object_fit": null,
            "object_position": null,
            "order": null,
            "overflow": null,
            "overflow_x": null,
            "overflow_y": null,
            "padding": null,
            "right": null,
            "top": null,
            "visibility": null,
            "width": null
          }
        },
        "641c79a545784ccfb427a9ff08964046": {
          "model_module": "@jupyter-widgets/controls",
          "model_name": "DescriptionStyleModel",
          "model_module_version": "1.5.0",
          "state": {
            "_model_module": "@jupyter-widgets/controls",
            "_model_module_version": "1.5.0",
            "_model_name": "DescriptionStyleModel",
            "_view_count": null,
            "_view_module": "@jupyter-widgets/base",
            "_view_module_version": "1.2.0",
            "_view_name": "StyleView",
            "description_width": ""
          }
        },
        "5ddc684409ad4fa18ef2f8ace22cef32": {
          "model_module": "@jupyter-widgets/base",
          "model_name": "LayoutModel",
          "model_module_version": "1.2.0",
          "state": {
            "_model_module": "@jupyter-widgets/base",
            "_model_module_version": "1.2.0",
            "_model_name": "LayoutModel",
            "_view_count": null,
            "_view_module": "@jupyter-widgets/base",
            "_view_module_version": "1.2.0",
            "_view_name": "LayoutView",
            "align_content": null,
            "align_items": null,
            "align_self": null,
            "border": null,
            "bottom": null,
            "display": null,
            "flex": null,
            "flex_flow": null,
            "grid_area": null,
            "grid_auto_columns": null,
            "grid_auto_flow": null,
            "grid_auto_rows": null,
            "grid_column": null,
            "grid_gap": null,
            "grid_row": null,
            "grid_template_areas": null,
            "grid_template_columns": null,
            "grid_template_rows": null,
            "height": null,
            "justify_content": null,
            "justify_items": null,
            "left": null,
            "margin": null,
            "max_height": null,
            "max_width": null,
            "min_height": null,
            "min_width": null,
            "object_fit": null,
            "object_position": null,
            "order": null,
            "overflow": null,
            "overflow_x": null,
            "overflow_y": null,
            "padding": null,
            "right": null,
            "top": null,
            "visibility": null,
            "width": null
          }
        },
        "5bba7d28d3ce40d1b2c3e56b966f55ea": {
          "model_module": "@jupyter-widgets/controls",
          "model_name": "ProgressStyleModel",
          "model_module_version": "1.5.0",
          "state": {
            "_model_module": "@jupyter-widgets/controls",
            "_model_module_version": "1.5.0",
            "_model_name": "ProgressStyleModel",
            "_view_count": null,
            "_view_module": "@jupyter-widgets/base",
            "_view_module_version": "1.2.0",
            "_view_name": "StyleView",
            "bar_color": null,
            "description_width": ""
          }
        },
        "f064951370ab44d6b956459440e26772": {
          "model_module": "@jupyter-widgets/base",
          "model_name": "LayoutModel",
          "model_module_version": "1.2.0",
          "state": {
            "_model_module": "@jupyter-widgets/base",
            "_model_module_version": "1.2.0",
            "_model_name": "LayoutModel",
            "_view_count": null,
            "_view_module": "@jupyter-widgets/base",
            "_view_module_version": "1.2.0",
            "_view_name": "LayoutView",
            "align_content": null,
            "align_items": null,
            "align_self": null,
            "border": null,
            "bottom": null,
            "display": null,
            "flex": null,
            "flex_flow": null,
            "grid_area": null,
            "grid_auto_columns": null,
            "grid_auto_flow": null,
            "grid_auto_rows": null,
            "grid_column": null,
            "grid_gap": null,
            "grid_row": null,
            "grid_template_areas": null,
            "grid_template_columns": null,
            "grid_template_rows": null,
            "height": null,
            "justify_content": null,
            "justify_items": null,
            "left": null,
            "margin": null,
            "max_height": null,
            "max_width": null,
            "min_height": null,
            "min_width": null,
            "object_fit": null,
            "object_position": null,
            "order": null,
            "overflow": null,
            "overflow_x": null,
            "overflow_y": null,
            "padding": null,
            "right": null,
            "top": null,
            "visibility": null,
            "width": null
          }
        },
        "966dde9705c04a858acbf99da881eb80": {
          "model_module": "@jupyter-widgets/controls",
          "model_name": "DescriptionStyleModel",
          "model_module_version": "1.5.0",
          "state": {
            "_model_module": "@jupyter-widgets/controls",
            "_model_module_version": "1.5.0",
            "_model_name": "DescriptionStyleModel",
            "_view_count": null,
            "_view_module": "@jupyter-widgets/base",
            "_view_module_version": "1.2.0",
            "_view_name": "StyleView",
            "description_width": ""
          }
        },
        "eb8babf53707450fba369799f9333ea6": {
          "model_module": "@jupyter-widgets/controls",
          "model_name": "HBoxModel",
          "model_module_version": "1.5.0",
          "state": {
            "_dom_classes": [],
            "_model_module": "@jupyter-widgets/controls",
            "_model_module_version": "1.5.0",
            "_model_name": "HBoxModel",
            "_view_count": null,
            "_view_module": "@jupyter-widgets/controls",
            "_view_module_version": "1.5.0",
            "_view_name": "HBoxView",
            "box_style": "",
            "children": [
              "IPY_MODEL_41dfcdba3c9d4e3eac939ca85e3f941f",
              "IPY_MODEL_68b9ee3a3b1d4f1690edfc1e0119054f",
              "IPY_MODEL_77e3c7a82e2045cd829d110ba2bcb186"
            ],
            "layout": "IPY_MODEL_cc291897234e4c24b06d49e4f6817c72"
          }
        },
        "41dfcdba3c9d4e3eac939ca85e3f941f": {
          "model_module": "@jupyter-widgets/controls",
          "model_name": "HTMLModel",
          "model_module_version": "1.5.0",
          "state": {
            "_dom_classes": [],
            "_model_module": "@jupyter-widgets/controls",
            "_model_module_version": "1.5.0",
            "_model_name": "HTMLModel",
            "_view_count": null,
            "_view_module": "@jupyter-widgets/controls",
            "_view_module_version": "1.5.0",
            "_view_name": "HTMLView",
            "description": "",
            "description_tooltip": null,
            "layout": "IPY_MODEL_02f2676e335244e68d1d25d3af480aef",
            "placeholder": "​",
            "style": "IPY_MODEL_a276c04fa9e948ca8894838500b57ccc",
            "value": "100%"
          }
        },
        "68b9ee3a3b1d4f1690edfc1e0119054f": {
          "model_module": "@jupyter-widgets/controls",
          "model_name": "FloatProgressModel",
          "model_module_version": "1.5.0",
          "state": {
            "_dom_classes": [],
            "_model_module": "@jupyter-widgets/controls",
            "_model_module_version": "1.5.0",
            "_model_name": "FloatProgressModel",
            "_view_count": null,
            "_view_module": "@jupyter-widgets/controls",
            "_view_module_version": "1.5.0",
            "_view_name": "ProgressView",
            "bar_style": "success",
            "description": "",
            "description_tooltip": null,
            "layout": "IPY_MODEL_ad93ca3fce5d4e72909cd5a79baa69bc",
            "max": 3000,
            "min": 0,
            "orientation": "horizontal",
            "style": "IPY_MODEL_9f57bd0a72344e739930acba0408cabe",
            "value": 3000
          }
        },
        "77e3c7a82e2045cd829d110ba2bcb186": {
          "model_module": "@jupyter-widgets/controls",
          "model_name": "HTMLModel",
          "model_module_version": "1.5.0",
          "state": {
            "_dom_classes": [],
            "_model_module": "@jupyter-widgets/controls",
            "_model_module_version": "1.5.0",
            "_model_name": "HTMLModel",
            "_view_count": null,
            "_view_module": "@jupyter-widgets/controls",
            "_view_module_version": "1.5.0",
            "_view_name": "HTMLView",
            "description": "",
            "description_tooltip": null,
            "layout": "IPY_MODEL_f623787ebf164b9ca2aa278f77876abb",
            "placeholder": "​",
            "style": "IPY_MODEL_c86c7f0f4eb84371b2cf130a885d8f50",
            "value": " 3000/3000 [00:00&lt;00:00, 5571.80it/s]"
          }
        },
        "cc291897234e4c24b06d49e4f6817c72": {
          "model_module": "@jupyter-widgets/base",
          "model_name": "LayoutModel",
          "model_module_version": "1.2.0",
          "state": {
            "_model_module": "@jupyter-widgets/base",
            "_model_module_version": "1.2.0",
            "_model_name": "LayoutModel",
            "_view_count": null,
            "_view_module": "@jupyter-widgets/base",
            "_view_module_version": "1.2.0",
            "_view_name": "LayoutView",
            "align_content": null,
            "align_items": null,
            "align_self": null,
            "border": null,
            "bottom": null,
            "display": null,
            "flex": null,
            "flex_flow": null,
            "grid_area": null,
            "grid_auto_columns": null,
            "grid_auto_flow": null,
            "grid_auto_rows": null,
            "grid_column": null,
            "grid_gap": null,
            "grid_row": null,
            "grid_template_areas": null,
            "grid_template_columns": null,
            "grid_template_rows": null,
            "height": null,
            "justify_content": null,
            "justify_items": null,
            "left": null,
            "margin": null,
            "max_height": null,
            "max_width": null,
            "min_height": null,
            "min_width": null,
            "object_fit": null,
            "object_position": null,
            "order": null,
            "overflow": null,
            "overflow_x": null,
            "overflow_y": null,
            "padding": null,
            "right": null,
            "top": null,
            "visibility": null,
            "width": null
          }
        },
        "02f2676e335244e68d1d25d3af480aef": {
          "model_module": "@jupyter-widgets/base",
          "model_name": "LayoutModel",
          "model_module_version": "1.2.0",
          "state": {
            "_model_module": "@jupyter-widgets/base",
            "_model_module_version": "1.2.0",
            "_model_name": "LayoutModel",
            "_view_count": null,
            "_view_module": "@jupyter-widgets/base",
            "_view_module_version": "1.2.0",
            "_view_name": "LayoutView",
            "align_content": null,
            "align_items": null,
            "align_self": null,
            "border": null,
            "bottom": null,
            "display": null,
            "flex": null,
            "flex_flow": null,
            "grid_area": null,
            "grid_auto_columns": null,
            "grid_auto_flow": null,
            "grid_auto_rows": null,
            "grid_column": null,
            "grid_gap": null,
            "grid_row": null,
            "grid_template_areas": null,
            "grid_template_columns": null,
            "grid_template_rows": null,
            "height": null,
            "justify_content": null,
            "justify_items": null,
            "left": null,
            "margin": null,
            "max_height": null,
            "max_width": null,
            "min_height": null,
            "min_width": null,
            "object_fit": null,
            "object_position": null,
            "order": null,
            "overflow": null,
            "overflow_x": null,
            "overflow_y": null,
            "padding": null,
            "right": null,
            "top": null,
            "visibility": null,
            "width": null
          }
        },
        "a276c04fa9e948ca8894838500b57ccc": {
          "model_module": "@jupyter-widgets/controls",
          "model_name": "DescriptionStyleModel",
          "model_module_version": "1.5.0",
          "state": {
            "_model_module": "@jupyter-widgets/controls",
            "_model_module_version": "1.5.0",
            "_model_name": "DescriptionStyleModel",
            "_view_count": null,
            "_view_module": "@jupyter-widgets/base",
            "_view_module_version": "1.2.0",
            "_view_name": "StyleView",
            "description_width": ""
          }
        },
        "ad93ca3fce5d4e72909cd5a79baa69bc": {
          "model_module": "@jupyter-widgets/base",
          "model_name": "LayoutModel",
          "model_module_version": "1.2.0",
          "state": {
            "_model_module": "@jupyter-widgets/base",
            "_model_module_version": "1.2.0",
            "_model_name": "LayoutModel",
            "_view_count": null,
            "_view_module": "@jupyter-widgets/base",
            "_view_module_version": "1.2.0",
            "_view_name": "LayoutView",
            "align_content": null,
            "align_items": null,
            "align_self": null,
            "border": null,
            "bottom": null,
            "display": null,
            "flex": null,
            "flex_flow": null,
            "grid_area": null,
            "grid_auto_columns": null,
            "grid_auto_flow": null,
            "grid_auto_rows": null,
            "grid_column": null,
            "grid_gap": null,
            "grid_row": null,
            "grid_template_areas": null,
            "grid_template_columns": null,
            "grid_template_rows": null,
            "height": null,
            "justify_content": null,
            "justify_items": null,
            "left": null,
            "margin": null,
            "max_height": null,
            "max_width": null,
            "min_height": null,
            "min_width": null,
            "object_fit": null,
            "object_position": null,
            "order": null,
            "overflow": null,
            "overflow_x": null,
            "overflow_y": null,
            "padding": null,
            "right": null,
            "top": null,
            "visibility": null,
            "width": null
          }
        },
        "9f57bd0a72344e739930acba0408cabe": {
          "model_module": "@jupyter-widgets/controls",
          "model_name": "ProgressStyleModel",
          "model_module_version": "1.5.0",
          "state": {
            "_model_module": "@jupyter-widgets/controls",
            "_model_module_version": "1.5.0",
            "_model_name": "ProgressStyleModel",
            "_view_count": null,
            "_view_module": "@jupyter-widgets/base",
            "_view_module_version": "1.2.0",
            "_view_name": "StyleView",
            "bar_color": null,
            "description_width": ""
          }
        },
        "f623787ebf164b9ca2aa278f77876abb": {
          "model_module": "@jupyter-widgets/base",
          "model_name": "LayoutModel",
          "model_module_version": "1.2.0",
          "state": {
            "_model_module": "@jupyter-widgets/base",
            "_model_module_version": "1.2.0",
            "_model_name": "LayoutModel",
            "_view_count": null,
            "_view_module": "@jupyter-widgets/base",
            "_view_module_version": "1.2.0",
            "_view_name": "LayoutView",
            "align_content": null,
            "align_items": null,
            "align_self": null,
            "border": null,
            "bottom": null,
            "display": null,
            "flex": null,
            "flex_flow": null,
            "grid_area": null,
            "grid_auto_columns": null,
            "grid_auto_flow": null,
            "grid_auto_rows": null,
            "grid_column": null,
            "grid_gap": null,
            "grid_row": null,
            "grid_template_areas": null,
            "grid_template_columns": null,
            "grid_template_rows": null,
            "height": null,
            "justify_content": null,
            "justify_items": null,
            "left": null,
            "margin": null,
            "max_height": null,
            "max_width": null,
            "min_height": null,
            "min_width": null,
            "object_fit": null,
            "object_position": null,
            "order": null,
            "overflow": null,
            "overflow_x": null,
            "overflow_y": null,
            "padding": null,
            "right": null,
            "top": null,
            "visibility": null,
            "width": null
          }
        },
        "c86c7f0f4eb84371b2cf130a885d8f50": {
          "model_module": "@jupyter-widgets/controls",
          "model_name": "DescriptionStyleModel",
          "model_module_version": "1.5.0",
          "state": {
            "_model_module": "@jupyter-widgets/controls",
            "_model_module_version": "1.5.0",
            "_model_name": "DescriptionStyleModel",
            "_view_count": null,
            "_view_module": "@jupyter-widgets/base",
            "_view_module_version": "1.2.0",
            "_view_name": "StyleView",
            "description_width": ""
          }
        },
        "2db27ce9f669485f80c38191d0a74cc7": {
          "model_module": "@jupyter-widgets/controls",
          "model_name": "HBoxModel",
          "model_module_version": "1.5.0",
          "state": {
            "_dom_classes": [],
            "_model_module": "@jupyter-widgets/controls",
            "_model_module_version": "1.5.0",
            "_model_name": "HBoxModel",
            "_view_count": null,
            "_view_module": "@jupyter-widgets/controls",
            "_view_module_version": "1.5.0",
            "_view_name": "HBoxView",
            "box_style": "",
            "children": [
              "IPY_MODEL_91019676f5bc4352a0bbf27653a4569d",
              "IPY_MODEL_d5da76c168c246d9a38b3dec936cfb92",
              "IPY_MODEL_03ca33c00b3d449ea6ef999c58671c81"
            ],
            "layout": "IPY_MODEL_e91fb43409444d3f9c84f56d3b6d9c50"
          }
        },
        "91019676f5bc4352a0bbf27653a4569d": {
          "model_module": "@jupyter-widgets/controls",
          "model_name": "HTMLModel",
          "model_module_version": "1.5.0",
          "state": {
            "_dom_classes": [],
            "_model_module": "@jupyter-widgets/controls",
            "_model_module_version": "1.5.0",
            "_model_name": "HTMLModel",
            "_view_count": null,
            "_view_module": "@jupyter-widgets/controls",
            "_view_module_version": "1.5.0",
            "_view_name": "HTMLView",
            "description": "",
            "description_tooltip": null,
            "layout": "IPY_MODEL_66451d2ad7bf4f62b2139c61b7ee3e9c",
            "placeholder": "​",
            "style": "IPY_MODEL_d0c2db5da01441c4bbed30f9f0015682",
            "value": "100%"
          }
        },
        "d5da76c168c246d9a38b3dec936cfb92": {
          "model_module": "@jupyter-widgets/controls",
          "model_name": "FloatProgressModel",
          "model_module_version": "1.5.0",
          "state": {
            "_dom_classes": [],
            "_model_module": "@jupyter-widgets/controls",
            "_model_module_version": "1.5.0",
            "_model_name": "FloatProgressModel",
            "_view_count": null,
            "_view_module": "@jupyter-widgets/controls",
            "_view_module_version": "1.5.0",
            "_view_name": "ProgressView",
            "bar_style": "success",
            "description": "",
            "description_tooltip": null,
            "layout": "IPY_MODEL_3f78670ea87c49b5b69eb4ff7c4ff192",
            "max": 3000,
            "min": 0,
            "orientation": "horizontal",
            "style": "IPY_MODEL_7ee6577834b748f5b64da20eaf70f1a4",
            "value": 3000
          }
        },
        "03ca33c00b3d449ea6ef999c58671c81": {
          "model_module": "@jupyter-widgets/controls",
          "model_name": "HTMLModel",
          "model_module_version": "1.5.0",
          "state": {
            "_dom_classes": [],
            "_model_module": "@jupyter-widgets/controls",
            "_model_module_version": "1.5.0",
            "_model_name": "HTMLModel",
            "_view_count": null,
            "_view_module": "@jupyter-widgets/controls",
            "_view_module_version": "1.5.0",
            "_view_name": "HTMLView",
            "description": "",
            "description_tooltip": null,
            "layout": "IPY_MODEL_d1bc0f91e15949e9a8a4fd42fc6473c2",
            "placeholder": "​",
            "style": "IPY_MODEL_ba6afb53fb294731ac1955352b8fb1df",
            "value": " 3000/3000 [00:00&lt;00:00, 9140.82it/s]"
          }
        },
        "e91fb43409444d3f9c84f56d3b6d9c50": {
          "model_module": "@jupyter-widgets/base",
          "model_name": "LayoutModel",
          "model_module_version": "1.2.0",
          "state": {
            "_model_module": "@jupyter-widgets/base",
            "_model_module_version": "1.2.0",
            "_model_name": "LayoutModel",
            "_view_count": null,
            "_view_module": "@jupyter-widgets/base",
            "_view_module_version": "1.2.0",
            "_view_name": "LayoutView",
            "align_content": null,
            "align_items": null,
            "align_self": null,
            "border": null,
            "bottom": null,
            "display": null,
            "flex": null,
            "flex_flow": null,
            "grid_area": null,
            "grid_auto_columns": null,
            "grid_auto_flow": null,
            "grid_auto_rows": null,
            "grid_column": null,
            "grid_gap": null,
            "grid_row": null,
            "grid_template_areas": null,
            "grid_template_columns": null,
            "grid_template_rows": null,
            "height": null,
            "justify_content": null,
            "justify_items": null,
            "left": null,
            "margin": null,
            "max_height": null,
            "max_width": null,
            "min_height": null,
            "min_width": null,
            "object_fit": null,
            "object_position": null,
            "order": null,
            "overflow": null,
            "overflow_x": null,
            "overflow_y": null,
            "padding": null,
            "right": null,
            "top": null,
            "visibility": null,
            "width": null
          }
        },
        "66451d2ad7bf4f62b2139c61b7ee3e9c": {
          "model_module": "@jupyter-widgets/base",
          "model_name": "LayoutModel",
          "model_module_version": "1.2.0",
          "state": {
            "_model_module": "@jupyter-widgets/base",
            "_model_module_version": "1.2.0",
            "_model_name": "LayoutModel",
            "_view_count": null,
            "_view_module": "@jupyter-widgets/base",
            "_view_module_version": "1.2.0",
            "_view_name": "LayoutView",
            "align_content": null,
            "align_items": null,
            "align_self": null,
            "border": null,
            "bottom": null,
            "display": null,
            "flex": null,
            "flex_flow": null,
            "grid_area": null,
            "grid_auto_columns": null,
            "grid_auto_flow": null,
            "grid_auto_rows": null,
            "grid_column": null,
            "grid_gap": null,
            "grid_row": null,
            "grid_template_areas": null,
            "grid_template_columns": null,
            "grid_template_rows": null,
            "height": null,
            "justify_content": null,
            "justify_items": null,
            "left": null,
            "margin": null,
            "max_height": null,
            "max_width": null,
            "min_height": null,
            "min_width": null,
            "object_fit": null,
            "object_position": null,
            "order": null,
            "overflow": null,
            "overflow_x": null,
            "overflow_y": null,
            "padding": null,
            "right": null,
            "top": null,
            "visibility": null,
            "width": null
          }
        },
        "d0c2db5da01441c4bbed30f9f0015682": {
          "model_module": "@jupyter-widgets/controls",
          "model_name": "DescriptionStyleModel",
          "model_module_version": "1.5.0",
          "state": {
            "_model_module": "@jupyter-widgets/controls",
            "_model_module_version": "1.5.0",
            "_model_name": "DescriptionStyleModel",
            "_view_count": null,
            "_view_module": "@jupyter-widgets/base",
            "_view_module_version": "1.2.0",
            "_view_name": "StyleView",
            "description_width": ""
          }
        },
        "3f78670ea87c49b5b69eb4ff7c4ff192": {
          "model_module": "@jupyter-widgets/base",
          "model_name": "LayoutModel",
          "model_module_version": "1.2.0",
          "state": {
            "_model_module": "@jupyter-widgets/base",
            "_model_module_version": "1.2.0",
            "_model_name": "LayoutModel",
            "_view_count": null,
            "_view_module": "@jupyter-widgets/base",
            "_view_module_version": "1.2.0",
            "_view_name": "LayoutView",
            "align_content": null,
            "align_items": null,
            "align_self": null,
            "border": null,
            "bottom": null,
            "display": null,
            "flex": null,
            "flex_flow": null,
            "grid_area": null,
            "grid_auto_columns": null,
            "grid_auto_flow": null,
            "grid_auto_rows": null,
            "grid_column": null,
            "grid_gap": null,
            "grid_row": null,
            "grid_template_areas": null,
            "grid_template_columns": null,
            "grid_template_rows": null,
            "height": null,
            "justify_content": null,
            "justify_items": null,
            "left": null,
            "margin": null,
            "max_height": null,
            "max_width": null,
            "min_height": null,
            "min_width": null,
            "object_fit": null,
            "object_position": null,
            "order": null,
            "overflow": null,
            "overflow_x": null,
            "overflow_y": null,
            "padding": null,
            "right": null,
            "top": null,
            "visibility": null,
            "width": null
          }
        },
        "7ee6577834b748f5b64da20eaf70f1a4": {
          "model_module": "@jupyter-widgets/controls",
          "model_name": "ProgressStyleModel",
          "model_module_version": "1.5.0",
          "state": {
            "_model_module": "@jupyter-widgets/controls",
            "_model_module_version": "1.5.0",
            "_model_name": "ProgressStyleModel",
            "_view_count": null,
            "_view_module": "@jupyter-widgets/base",
            "_view_module_version": "1.2.0",
            "_view_name": "StyleView",
            "bar_color": null,
            "description_width": ""
          }
        },
        "d1bc0f91e15949e9a8a4fd42fc6473c2": {
          "model_module": "@jupyter-widgets/base",
          "model_name": "LayoutModel",
          "model_module_version": "1.2.0",
          "state": {
            "_model_module": "@jupyter-widgets/base",
            "_model_module_version": "1.2.0",
            "_model_name": "LayoutModel",
            "_view_count": null,
            "_view_module": "@jupyter-widgets/base",
            "_view_module_version": "1.2.0",
            "_view_name": "LayoutView",
            "align_content": null,
            "align_items": null,
            "align_self": null,
            "border": null,
            "bottom": null,
            "display": null,
            "flex": null,
            "flex_flow": null,
            "grid_area": null,
            "grid_auto_columns": null,
            "grid_auto_flow": null,
            "grid_auto_rows": null,
            "grid_column": null,
            "grid_gap": null,
            "grid_row": null,
            "grid_template_areas": null,
            "grid_template_columns": null,
            "grid_template_rows": null,
            "height": null,
            "justify_content": null,
            "justify_items": null,
            "left": null,
            "margin": null,
            "max_height": null,
            "max_width": null,
            "min_height": null,
            "min_width": null,
            "object_fit": null,
            "object_position": null,
            "order": null,
            "overflow": null,
            "overflow_x": null,
            "overflow_y": null,
            "padding": null,
            "right": null,
            "top": null,
            "visibility": null,
            "width": null
          }
        },
        "ba6afb53fb294731ac1955352b8fb1df": {
          "model_module": "@jupyter-widgets/controls",
          "model_name": "DescriptionStyleModel",
          "model_module_version": "1.5.0",
          "state": {
            "_model_module": "@jupyter-widgets/controls",
            "_model_module_version": "1.5.0",
            "_model_name": "DescriptionStyleModel",
            "_view_count": null,
            "_view_module": "@jupyter-widgets/base",
            "_view_module_version": "1.2.0",
            "_view_name": "StyleView",
            "description_width": ""
          }
        },
        "13aba403f6a9427a90b357a2ee930a57": {
          "model_module": "@jupyter-widgets/controls",
          "model_name": "HBoxModel",
          "model_module_version": "1.5.0",
          "state": {
            "_dom_classes": [],
            "_model_module": "@jupyter-widgets/controls",
            "_model_module_version": "1.5.0",
            "_model_name": "HBoxModel",
            "_view_count": null,
            "_view_module": "@jupyter-widgets/controls",
            "_view_module_version": "1.5.0",
            "_view_name": "HBoxView",
            "box_style": "",
            "children": [
              "IPY_MODEL_8bce8827f8064c0d9342e55e53a3a51d",
              "IPY_MODEL_7776c4abf9bf4c1db75a6cdf838b8d45",
              "IPY_MODEL_da5e572c0a304cd6b971c6c216a3b3b4"
            ],
            "layout": "IPY_MODEL_7f6532bf677c4430aee7537447505d03"
          }
        },
        "8bce8827f8064c0d9342e55e53a3a51d": {
          "model_module": "@jupyter-widgets/controls",
          "model_name": "HTMLModel",
          "model_module_version": "1.5.0",
          "state": {
            "_dom_classes": [],
            "_model_module": "@jupyter-widgets/controls",
            "_model_module_version": "1.5.0",
            "_model_name": "HTMLModel",
            "_view_count": null,
            "_view_module": "@jupyter-widgets/controls",
            "_view_module_version": "1.5.0",
            "_view_name": "HTMLView",
            "description": "",
            "description_tooltip": null,
            "layout": "IPY_MODEL_2b660e77a2184ce2975bdb4c81ab3ce5",
            "placeholder": "​",
            "style": "IPY_MODEL_dc67ac10c062498dbb37914609dc289a",
            "value": "100%"
          }
        },
        "7776c4abf9bf4c1db75a6cdf838b8d45": {
          "model_module": "@jupyter-widgets/controls",
          "model_name": "FloatProgressModel",
          "model_module_version": "1.5.0",
          "state": {
            "_dom_classes": [],
            "_model_module": "@jupyter-widgets/controls",
            "_model_module_version": "1.5.0",
            "_model_name": "FloatProgressModel",
            "_view_count": null,
            "_view_module": "@jupyter-widgets/controls",
            "_view_module_version": "1.5.0",
            "_view_name": "ProgressView",
            "bar_style": "success",
            "description": "",
            "description_tooltip": null,
            "layout": "IPY_MODEL_96e712b04ac445c884e49c7e2bc89ad5",
            "max": 3000,
            "min": 0,
            "orientation": "horizontal",
            "style": "IPY_MODEL_a948dd35d81f46cb8972edb12f700a24",
            "value": 3000
          }
        },
        "da5e572c0a304cd6b971c6c216a3b3b4": {
          "model_module": "@jupyter-widgets/controls",
          "model_name": "HTMLModel",
          "model_module_version": "1.5.0",
          "state": {
            "_dom_classes": [],
            "_model_module": "@jupyter-widgets/controls",
            "_model_module_version": "1.5.0",
            "_model_name": "HTMLModel",
            "_view_count": null,
            "_view_module": "@jupyter-widgets/controls",
            "_view_module_version": "1.5.0",
            "_view_name": "HTMLView",
            "description": "",
            "description_tooltip": null,
            "layout": "IPY_MODEL_728b544f008347698a97b80608f0b6ee",
            "placeholder": "​",
            "style": "IPY_MODEL_db81a4c61f464e17be1ce47463511614",
            "value": " 3000/3000 [00:06&lt;00:00, 304.08it/s]"
          }
        },
        "7f6532bf677c4430aee7537447505d03": {
          "model_module": "@jupyter-widgets/base",
          "model_name": "LayoutModel",
          "model_module_version": "1.2.0",
          "state": {
            "_model_module": "@jupyter-widgets/base",
            "_model_module_version": "1.2.0",
            "_model_name": "LayoutModel",
            "_view_count": null,
            "_view_module": "@jupyter-widgets/base",
            "_view_module_version": "1.2.0",
            "_view_name": "LayoutView",
            "align_content": null,
            "align_items": null,
            "align_self": null,
            "border": null,
            "bottom": null,
            "display": null,
            "flex": null,
            "flex_flow": null,
            "grid_area": null,
            "grid_auto_columns": null,
            "grid_auto_flow": null,
            "grid_auto_rows": null,
            "grid_column": null,
            "grid_gap": null,
            "grid_row": null,
            "grid_template_areas": null,
            "grid_template_columns": null,
            "grid_template_rows": null,
            "height": null,
            "justify_content": null,
            "justify_items": null,
            "left": null,
            "margin": null,
            "max_height": null,
            "max_width": null,
            "min_height": null,
            "min_width": null,
            "object_fit": null,
            "object_position": null,
            "order": null,
            "overflow": null,
            "overflow_x": null,
            "overflow_y": null,
            "padding": null,
            "right": null,
            "top": null,
            "visibility": null,
            "width": null
          }
        },
        "2b660e77a2184ce2975bdb4c81ab3ce5": {
          "model_module": "@jupyter-widgets/base",
          "model_name": "LayoutModel",
          "model_module_version": "1.2.0",
          "state": {
            "_model_module": "@jupyter-widgets/base",
            "_model_module_version": "1.2.0",
            "_model_name": "LayoutModel",
            "_view_count": null,
            "_view_module": "@jupyter-widgets/base",
            "_view_module_version": "1.2.0",
            "_view_name": "LayoutView",
            "align_content": null,
            "align_items": null,
            "align_self": null,
            "border": null,
            "bottom": null,
            "display": null,
            "flex": null,
            "flex_flow": null,
            "grid_area": null,
            "grid_auto_columns": null,
            "grid_auto_flow": null,
            "grid_auto_rows": null,
            "grid_column": null,
            "grid_gap": null,
            "grid_row": null,
            "grid_template_areas": null,
            "grid_template_columns": null,
            "grid_template_rows": null,
            "height": null,
            "justify_content": null,
            "justify_items": null,
            "left": null,
            "margin": null,
            "max_height": null,
            "max_width": null,
            "min_height": null,
            "min_width": null,
            "object_fit": null,
            "object_position": null,
            "order": null,
            "overflow": null,
            "overflow_x": null,
            "overflow_y": null,
            "padding": null,
            "right": null,
            "top": null,
            "visibility": null,
            "width": null
          }
        },
        "dc67ac10c062498dbb37914609dc289a": {
          "model_module": "@jupyter-widgets/controls",
          "model_name": "DescriptionStyleModel",
          "model_module_version": "1.5.0",
          "state": {
            "_model_module": "@jupyter-widgets/controls",
            "_model_module_version": "1.5.0",
            "_model_name": "DescriptionStyleModel",
            "_view_count": null,
            "_view_module": "@jupyter-widgets/base",
            "_view_module_version": "1.2.0",
            "_view_name": "StyleView",
            "description_width": ""
          }
        },
        "96e712b04ac445c884e49c7e2bc89ad5": {
          "model_module": "@jupyter-widgets/base",
          "model_name": "LayoutModel",
          "model_module_version": "1.2.0",
          "state": {
            "_model_module": "@jupyter-widgets/base",
            "_model_module_version": "1.2.0",
            "_model_name": "LayoutModel",
            "_view_count": null,
            "_view_module": "@jupyter-widgets/base",
            "_view_module_version": "1.2.0",
            "_view_name": "LayoutView",
            "align_content": null,
            "align_items": null,
            "align_self": null,
            "border": null,
            "bottom": null,
            "display": null,
            "flex": null,
            "flex_flow": null,
            "grid_area": null,
            "grid_auto_columns": null,
            "grid_auto_flow": null,
            "grid_auto_rows": null,
            "grid_column": null,
            "grid_gap": null,
            "grid_row": null,
            "grid_template_areas": null,
            "grid_template_columns": null,
            "grid_template_rows": null,
            "height": null,
            "justify_content": null,
            "justify_items": null,
            "left": null,
            "margin": null,
            "max_height": null,
            "max_width": null,
            "min_height": null,
            "min_width": null,
            "object_fit": null,
            "object_position": null,
            "order": null,
            "overflow": null,
            "overflow_x": null,
            "overflow_y": null,
            "padding": null,
            "right": null,
            "top": null,
            "visibility": null,
            "width": null
          }
        },
        "a948dd35d81f46cb8972edb12f700a24": {
          "model_module": "@jupyter-widgets/controls",
          "model_name": "ProgressStyleModel",
          "model_module_version": "1.5.0",
          "state": {
            "_model_module": "@jupyter-widgets/controls",
            "_model_module_version": "1.5.0",
            "_model_name": "ProgressStyleModel",
            "_view_count": null,
            "_view_module": "@jupyter-widgets/base",
            "_view_module_version": "1.2.0",
            "_view_name": "StyleView",
            "bar_color": null,
            "description_width": ""
          }
        },
        "728b544f008347698a97b80608f0b6ee": {
          "model_module": "@jupyter-widgets/base",
          "model_name": "LayoutModel",
          "model_module_version": "1.2.0",
          "state": {
            "_model_module": "@jupyter-widgets/base",
            "_model_module_version": "1.2.0",
            "_model_name": "LayoutModel",
            "_view_count": null,
            "_view_module": "@jupyter-widgets/base",
            "_view_module_version": "1.2.0",
            "_view_name": "LayoutView",
            "align_content": null,
            "align_items": null,
            "align_self": null,
            "border": null,
            "bottom": null,
            "display": null,
            "flex": null,
            "flex_flow": null,
            "grid_area": null,
            "grid_auto_columns": null,
            "grid_auto_flow": null,
            "grid_auto_rows": null,
            "grid_column": null,
            "grid_gap": null,
            "grid_row": null,
            "grid_template_areas": null,
            "grid_template_columns": null,
            "grid_template_rows": null,
            "height": null,
            "justify_content": null,
            "justify_items": null,
            "left": null,
            "margin": null,
            "max_height": null,
            "max_width": null,
            "min_height": null,
            "min_width": null,
            "object_fit": null,
            "object_position": null,
            "order": null,
            "overflow": null,
            "overflow_x": null,
            "overflow_y": null,
            "padding": null,
            "right": null,
            "top": null,
            "visibility": null,
            "width": null
          }
        },
        "db81a4c61f464e17be1ce47463511614": {
          "model_module": "@jupyter-widgets/controls",
          "model_name": "DescriptionStyleModel",
          "model_module_version": "1.5.0",
          "state": {
            "_model_module": "@jupyter-widgets/controls",
            "_model_module_version": "1.5.0",
            "_model_name": "DescriptionStyleModel",
            "_view_count": null,
            "_view_module": "@jupyter-widgets/base",
            "_view_module_version": "1.2.0",
            "_view_name": "StyleView",
            "description_width": ""
          }
        },
        "0ca0690f3b334f4d9dc4250b64590db2": {
          "model_module": "@jupyter-widgets/controls",
          "model_name": "HBoxModel",
          "model_module_version": "1.5.0",
          "state": {
            "_dom_classes": [],
            "_model_module": "@jupyter-widgets/controls",
            "_model_module_version": "1.5.0",
            "_model_name": "HBoxModel",
            "_view_count": null,
            "_view_module": "@jupyter-widgets/controls",
            "_view_module_version": "1.5.0",
            "_view_name": "HBoxView",
            "box_style": "",
            "children": [
              "IPY_MODEL_1c106f9a0c664ef38ba886efde171ea2",
              "IPY_MODEL_b850f49c139941bb99e02e74dc2881df",
              "IPY_MODEL_19839bd1b0d44da1b3277914721e0d98"
            ],
            "layout": "IPY_MODEL_7fb27db94aad4f73b9219119e307aa4c"
          }
        },
        "1c106f9a0c664ef38ba886efde171ea2": {
          "model_module": "@jupyter-widgets/controls",
          "model_name": "HTMLModel",
          "model_module_version": "1.5.0",
          "state": {
            "_dom_classes": [],
            "_model_module": "@jupyter-widgets/controls",
            "_model_module_version": "1.5.0",
            "_model_name": "HTMLModel",
            "_view_count": null,
            "_view_module": "@jupyter-widgets/controls",
            "_view_module_version": "1.5.0",
            "_view_name": "HTMLView",
            "description": "",
            "description_tooltip": null,
            "layout": "IPY_MODEL_45d3975ef4704d3980b3cb5620fce384",
            "placeholder": "​",
            "style": "IPY_MODEL_3d04b6728b6a441f872dcd7b04fb7cad",
            "value": "100%"
          }
        },
        "b850f49c139941bb99e02e74dc2881df": {
          "model_module": "@jupyter-widgets/controls",
          "model_name": "FloatProgressModel",
          "model_module_version": "1.5.0",
          "state": {
            "_dom_classes": [],
            "_model_module": "@jupyter-widgets/controls",
            "_model_module_version": "1.5.0",
            "_model_name": "FloatProgressModel",
            "_view_count": null,
            "_view_module": "@jupyter-widgets/controls",
            "_view_module_version": "1.5.0",
            "_view_name": "ProgressView",
            "bar_style": "success",
            "description": "",
            "description_tooltip": null,
            "layout": "IPY_MODEL_c9fe22dca93549f4b6236f3b8594d5f7",
            "max": 3000,
            "min": 0,
            "orientation": "horizontal",
            "style": "IPY_MODEL_c07e09d382d6425c81e509622513c61f",
            "value": 3000
          }
        },
        "19839bd1b0d44da1b3277914721e0d98": {
          "model_module": "@jupyter-widgets/controls",
          "model_name": "HTMLModel",
          "model_module_version": "1.5.0",
          "state": {
            "_dom_classes": [],
            "_model_module": "@jupyter-widgets/controls",
            "_model_module_version": "1.5.0",
            "_model_name": "HTMLModel",
            "_view_count": null,
            "_view_module": "@jupyter-widgets/controls",
            "_view_module_version": "1.5.0",
            "_view_name": "HTMLView",
            "description": "",
            "description_tooltip": null,
            "layout": "IPY_MODEL_68bd2cb11f1f404f921b8258b812f206",
            "placeholder": "​",
            "style": "IPY_MODEL_0ffd3f4b3e1043f2a8fe0dd5345fc3ac",
            "value": " 3000/3000 [00:00&lt;00:00, 3475.18it/s]"
          }
        },
        "7fb27db94aad4f73b9219119e307aa4c": {
          "model_module": "@jupyter-widgets/base",
          "model_name": "LayoutModel",
          "model_module_version": "1.2.0",
          "state": {
            "_model_module": "@jupyter-widgets/base",
            "_model_module_version": "1.2.0",
            "_model_name": "LayoutModel",
            "_view_count": null,
            "_view_module": "@jupyter-widgets/base",
            "_view_module_version": "1.2.0",
            "_view_name": "LayoutView",
            "align_content": null,
            "align_items": null,
            "align_self": null,
            "border": null,
            "bottom": null,
            "display": null,
            "flex": null,
            "flex_flow": null,
            "grid_area": null,
            "grid_auto_columns": null,
            "grid_auto_flow": null,
            "grid_auto_rows": null,
            "grid_column": null,
            "grid_gap": null,
            "grid_row": null,
            "grid_template_areas": null,
            "grid_template_columns": null,
            "grid_template_rows": null,
            "height": null,
            "justify_content": null,
            "justify_items": null,
            "left": null,
            "margin": null,
            "max_height": null,
            "max_width": null,
            "min_height": null,
            "min_width": null,
            "object_fit": null,
            "object_position": null,
            "order": null,
            "overflow": null,
            "overflow_x": null,
            "overflow_y": null,
            "padding": null,
            "right": null,
            "top": null,
            "visibility": null,
            "width": null
          }
        },
        "45d3975ef4704d3980b3cb5620fce384": {
          "model_module": "@jupyter-widgets/base",
          "model_name": "LayoutModel",
          "model_module_version": "1.2.0",
          "state": {
            "_model_module": "@jupyter-widgets/base",
            "_model_module_version": "1.2.0",
            "_model_name": "LayoutModel",
            "_view_count": null,
            "_view_module": "@jupyter-widgets/base",
            "_view_module_version": "1.2.0",
            "_view_name": "LayoutView",
            "align_content": null,
            "align_items": null,
            "align_self": null,
            "border": null,
            "bottom": null,
            "display": null,
            "flex": null,
            "flex_flow": null,
            "grid_area": null,
            "grid_auto_columns": null,
            "grid_auto_flow": null,
            "grid_auto_rows": null,
            "grid_column": null,
            "grid_gap": null,
            "grid_row": null,
            "grid_template_areas": null,
            "grid_template_columns": null,
            "grid_template_rows": null,
            "height": null,
            "justify_content": null,
            "justify_items": null,
            "left": null,
            "margin": null,
            "max_height": null,
            "max_width": null,
            "min_height": null,
            "min_width": null,
            "object_fit": null,
            "object_position": null,
            "order": null,
            "overflow": null,
            "overflow_x": null,
            "overflow_y": null,
            "padding": null,
            "right": null,
            "top": null,
            "visibility": null,
            "width": null
          }
        },
        "3d04b6728b6a441f872dcd7b04fb7cad": {
          "model_module": "@jupyter-widgets/controls",
          "model_name": "DescriptionStyleModel",
          "model_module_version": "1.5.0",
          "state": {
            "_model_module": "@jupyter-widgets/controls",
            "_model_module_version": "1.5.0",
            "_model_name": "DescriptionStyleModel",
            "_view_count": null,
            "_view_module": "@jupyter-widgets/base",
            "_view_module_version": "1.2.0",
            "_view_name": "StyleView",
            "description_width": ""
          }
        },
        "c9fe22dca93549f4b6236f3b8594d5f7": {
          "model_module": "@jupyter-widgets/base",
          "model_name": "LayoutModel",
          "model_module_version": "1.2.0",
          "state": {
            "_model_module": "@jupyter-widgets/base",
            "_model_module_version": "1.2.0",
            "_model_name": "LayoutModel",
            "_view_count": null,
            "_view_module": "@jupyter-widgets/base",
            "_view_module_version": "1.2.0",
            "_view_name": "LayoutView",
            "align_content": null,
            "align_items": null,
            "align_self": null,
            "border": null,
            "bottom": null,
            "display": null,
            "flex": null,
            "flex_flow": null,
            "grid_area": null,
            "grid_auto_columns": null,
            "grid_auto_flow": null,
            "grid_auto_rows": null,
            "grid_column": null,
            "grid_gap": null,
            "grid_row": null,
            "grid_template_areas": null,
            "grid_template_columns": null,
            "grid_template_rows": null,
            "height": null,
            "justify_content": null,
            "justify_items": null,
            "left": null,
            "margin": null,
            "max_height": null,
            "max_width": null,
            "min_height": null,
            "min_width": null,
            "object_fit": null,
            "object_position": null,
            "order": null,
            "overflow": null,
            "overflow_x": null,
            "overflow_y": null,
            "padding": null,
            "right": null,
            "top": null,
            "visibility": null,
            "width": null
          }
        },
        "c07e09d382d6425c81e509622513c61f": {
          "model_module": "@jupyter-widgets/controls",
          "model_name": "ProgressStyleModel",
          "model_module_version": "1.5.0",
          "state": {
            "_model_module": "@jupyter-widgets/controls",
            "_model_module_version": "1.5.0",
            "_model_name": "ProgressStyleModel",
            "_view_count": null,
            "_view_module": "@jupyter-widgets/base",
            "_view_module_version": "1.2.0",
            "_view_name": "StyleView",
            "bar_color": null,
            "description_width": ""
          }
        },
        "68bd2cb11f1f404f921b8258b812f206": {
          "model_module": "@jupyter-widgets/base",
          "model_name": "LayoutModel",
          "model_module_version": "1.2.0",
          "state": {
            "_model_module": "@jupyter-widgets/base",
            "_model_module_version": "1.2.0",
            "_model_name": "LayoutModel",
            "_view_count": null,
            "_view_module": "@jupyter-widgets/base",
            "_view_module_version": "1.2.0",
            "_view_name": "LayoutView",
            "align_content": null,
            "align_items": null,
            "align_self": null,
            "border": null,
            "bottom": null,
            "display": null,
            "flex": null,
            "flex_flow": null,
            "grid_area": null,
            "grid_auto_columns": null,
            "grid_auto_flow": null,
            "grid_auto_rows": null,
            "grid_column": null,
            "grid_gap": null,
            "grid_row": null,
            "grid_template_areas": null,
            "grid_template_columns": null,
            "grid_template_rows": null,
            "height": null,
            "justify_content": null,
            "justify_items": null,
            "left": null,
            "margin": null,
            "max_height": null,
            "max_width": null,
            "min_height": null,
            "min_width": null,
            "object_fit": null,
            "object_position": null,
            "order": null,
            "overflow": null,
            "overflow_x": null,
            "overflow_y": null,
            "padding": null,
            "right": null,
            "top": null,
            "visibility": null,
            "width": null
          }
        },
        "0ffd3f4b3e1043f2a8fe0dd5345fc3ac": {
          "model_module": "@jupyter-widgets/controls",
          "model_name": "DescriptionStyleModel",
          "model_module_version": "1.5.0",
          "state": {
            "_model_module": "@jupyter-widgets/controls",
            "_model_module_version": "1.5.0",
            "_model_name": "DescriptionStyleModel",
            "_view_count": null,
            "_view_module": "@jupyter-widgets/base",
            "_view_module_version": "1.2.0",
            "_view_name": "StyleView",
            "description_width": ""
          }
        },
        "ab686c106c5e40969f78ab92f380044d": {
          "model_module": "@jupyter-widgets/controls",
          "model_name": "HBoxModel",
          "model_module_version": "1.5.0",
          "state": {
            "_dom_classes": [],
            "_model_module": "@jupyter-widgets/controls",
            "_model_module_version": "1.5.0",
            "_model_name": "HBoxModel",
            "_view_count": null,
            "_view_module": "@jupyter-widgets/controls",
            "_view_module_version": "1.5.0",
            "_view_name": "HBoxView",
            "box_style": "",
            "children": [
              "IPY_MODEL_abb8ea2596f548eba2e53a0bd822b25c",
              "IPY_MODEL_96a3c3904c2d43db8af709e11c9ead3b",
              "IPY_MODEL_0a58f2b63bc1473ba1909aa3318f96ea"
            ],
            "layout": "IPY_MODEL_6e47a6acca5741f6a474e0733f5dfa06"
          }
        },
        "abb8ea2596f548eba2e53a0bd822b25c": {
          "model_module": "@jupyter-widgets/controls",
          "model_name": "HTMLModel",
          "model_module_version": "1.5.0",
          "state": {
            "_dom_classes": [],
            "_model_module": "@jupyter-widgets/controls",
            "_model_module_version": "1.5.0",
            "_model_name": "HTMLModel",
            "_view_count": null,
            "_view_module": "@jupyter-widgets/controls",
            "_view_module_version": "1.5.0",
            "_view_name": "HTMLView",
            "description": "",
            "description_tooltip": null,
            "layout": "IPY_MODEL_e77feaf6b3c24697a931491b7f964665",
            "placeholder": "​",
            "style": "IPY_MODEL_7dc8e7db14cd4ffa8e1bb9863d326a59",
            "value": "100%"
          }
        },
        "96a3c3904c2d43db8af709e11c9ead3b": {
          "model_module": "@jupyter-widgets/controls",
          "model_name": "FloatProgressModel",
          "model_module_version": "1.5.0",
          "state": {
            "_dom_classes": [],
            "_model_module": "@jupyter-widgets/controls",
            "_model_module_version": "1.5.0",
            "_model_name": "FloatProgressModel",
            "_view_count": null,
            "_view_module": "@jupyter-widgets/controls",
            "_view_module_version": "1.5.0",
            "_view_name": "ProgressView",
            "bar_style": "success",
            "description": "",
            "description_tooltip": null,
            "layout": "IPY_MODEL_c90d4ce4967148249296c7c45f805b26",
            "max": 3000,
            "min": 0,
            "orientation": "horizontal",
            "style": "IPY_MODEL_ff29aef8ee574db089a0df9b9a699c07",
            "value": 3000
          }
        },
        "0a58f2b63bc1473ba1909aa3318f96ea": {
          "model_module": "@jupyter-widgets/controls",
          "model_name": "HTMLModel",
          "model_module_version": "1.5.0",
          "state": {
            "_dom_classes": [],
            "_model_module": "@jupyter-widgets/controls",
            "_model_module_version": "1.5.0",
            "_model_name": "HTMLModel",
            "_view_count": null,
            "_view_module": "@jupyter-widgets/controls",
            "_view_module_version": "1.5.0",
            "_view_name": "HTMLView",
            "description": "",
            "description_tooltip": null,
            "layout": "IPY_MODEL_4de10731b5e24fd9bd70d36934ade697",
            "placeholder": "​",
            "style": "IPY_MODEL_758778f72bba4ab497715ded7e521141",
            "value": " 3000/3000 [00:13&lt;00:00, 264.91it/s]"
          }
        },
        "6e47a6acca5741f6a474e0733f5dfa06": {
          "model_module": "@jupyter-widgets/base",
          "model_name": "LayoutModel",
          "model_module_version": "1.2.0",
          "state": {
            "_model_module": "@jupyter-widgets/base",
            "_model_module_version": "1.2.0",
            "_model_name": "LayoutModel",
            "_view_count": null,
            "_view_module": "@jupyter-widgets/base",
            "_view_module_version": "1.2.0",
            "_view_name": "LayoutView",
            "align_content": null,
            "align_items": null,
            "align_self": null,
            "border": null,
            "bottom": null,
            "display": null,
            "flex": null,
            "flex_flow": null,
            "grid_area": null,
            "grid_auto_columns": null,
            "grid_auto_flow": null,
            "grid_auto_rows": null,
            "grid_column": null,
            "grid_gap": null,
            "grid_row": null,
            "grid_template_areas": null,
            "grid_template_columns": null,
            "grid_template_rows": null,
            "height": null,
            "justify_content": null,
            "justify_items": null,
            "left": null,
            "margin": null,
            "max_height": null,
            "max_width": null,
            "min_height": null,
            "min_width": null,
            "object_fit": null,
            "object_position": null,
            "order": null,
            "overflow": null,
            "overflow_x": null,
            "overflow_y": null,
            "padding": null,
            "right": null,
            "top": null,
            "visibility": null,
            "width": null
          }
        },
        "e77feaf6b3c24697a931491b7f964665": {
          "model_module": "@jupyter-widgets/base",
          "model_name": "LayoutModel",
          "model_module_version": "1.2.0",
          "state": {
            "_model_module": "@jupyter-widgets/base",
            "_model_module_version": "1.2.0",
            "_model_name": "LayoutModel",
            "_view_count": null,
            "_view_module": "@jupyter-widgets/base",
            "_view_module_version": "1.2.0",
            "_view_name": "LayoutView",
            "align_content": null,
            "align_items": null,
            "align_self": null,
            "border": null,
            "bottom": null,
            "display": null,
            "flex": null,
            "flex_flow": null,
            "grid_area": null,
            "grid_auto_columns": null,
            "grid_auto_flow": null,
            "grid_auto_rows": null,
            "grid_column": null,
            "grid_gap": null,
            "grid_row": null,
            "grid_template_areas": null,
            "grid_template_columns": null,
            "grid_template_rows": null,
            "height": null,
            "justify_content": null,
            "justify_items": null,
            "left": null,
            "margin": null,
            "max_height": null,
            "max_width": null,
            "min_height": null,
            "min_width": null,
            "object_fit": null,
            "object_position": null,
            "order": null,
            "overflow": null,
            "overflow_x": null,
            "overflow_y": null,
            "padding": null,
            "right": null,
            "top": null,
            "visibility": null,
            "width": null
          }
        },
        "7dc8e7db14cd4ffa8e1bb9863d326a59": {
          "model_module": "@jupyter-widgets/controls",
          "model_name": "DescriptionStyleModel",
          "model_module_version": "1.5.0",
          "state": {
            "_model_module": "@jupyter-widgets/controls",
            "_model_module_version": "1.5.0",
            "_model_name": "DescriptionStyleModel",
            "_view_count": null,
            "_view_module": "@jupyter-widgets/base",
            "_view_module_version": "1.2.0",
            "_view_name": "StyleView",
            "description_width": ""
          }
        },
        "c90d4ce4967148249296c7c45f805b26": {
          "model_module": "@jupyter-widgets/base",
          "model_name": "LayoutModel",
          "model_module_version": "1.2.0",
          "state": {
            "_model_module": "@jupyter-widgets/base",
            "_model_module_version": "1.2.0",
            "_model_name": "LayoutModel",
            "_view_count": null,
            "_view_module": "@jupyter-widgets/base",
            "_view_module_version": "1.2.0",
            "_view_name": "LayoutView",
            "align_content": null,
            "align_items": null,
            "align_self": null,
            "border": null,
            "bottom": null,
            "display": null,
            "flex": null,
            "flex_flow": null,
            "grid_area": null,
            "grid_auto_columns": null,
            "grid_auto_flow": null,
            "grid_auto_rows": null,
            "grid_column": null,
            "grid_gap": null,
            "grid_row": null,
            "grid_template_areas": null,
            "grid_template_columns": null,
            "grid_template_rows": null,
            "height": null,
            "justify_content": null,
            "justify_items": null,
            "left": null,
            "margin": null,
            "max_height": null,
            "max_width": null,
            "min_height": null,
            "min_width": null,
            "object_fit": null,
            "object_position": null,
            "order": null,
            "overflow": null,
            "overflow_x": null,
            "overflow_y": null,
            "padding": null,
            "right": null,
            "top": null,
            "visibility": null,
            "width": null
          }
        },
        "ff29aef8ee574db089a0df9b9a699c07": {
          "model_module": "@jupyter-widgets/controls",
          "model_name": "ProgressStyleModel",
          "model_module_version": "1.5.0",
          "state": {
            "_model_module": "@jupyter-widgets/controls",
            "_model_module_version": "1.5.0",
            "_model_name": "ProgressStyleModel",
            "_view_count": null,
            "_view_module": "@jupyter-widgets/base",
            "_view_module_version": "1.2.0",
            "_view_name": "StyleView",
            "bar_color": null,
            "description_width": ""
          }
        },
        "4de10731b5e24fd9bd70d36934ade697": {
          "model_module": "@jupyter-widgets/base",
          "model_name": "LayoutModel",
          "model_module_version": "1.2.0",
          "state": {
            "_model_module": "@jupyter-widgets/base",
            "_model_module_version": "1.2.0",
            "_model_name": "LayoutModel",
            "_view_count": null,
            "_view_module": "@jupyter-widgets/base",
            "_view_module_version": "1.2.0",
            "_view_name": "LayoutView",
            "align_content": null,
            "align_items": null,
            "align_self": null,
            "border": null,
            "bottom": null,
            "display": null,
            "flex": null,
            "flex_flow": null,
            "grid_area": null,
            "grid_auto_columns": null,
            "grid_auto_flow": null,
            "grid_auto_rows": null,
            "grid_column": null,
            "grid_gap": null,
            "grid_row": null,
            "grid_template_areas": null,
            "grid_template_columns": null,
            "grid_template_rows": null,
            "height": null,
            "justify_content": null,
            "justify_items": null,
            "left": null,
            "margin": null,
            "max_height": null,
            "max_width": null,
            "min_height": null,
            "min_width": null,
            "object_fit": null,
            "object_position": null,
            "order": null,
            "overflow": null,
            "overflow_x": null,
            "overflow_y": null,
            "padding": null,
            "right": null,
            "top": null,
            "visibility": null,
            "width": null
          }
        },
        "758778f72bba4ab497715ded7e521141": {
          "model_module": "@jupyter-widgets/controls",
          "model_name": "DescriptionStyleModel",
          "model_module_version": "1.5.0",
          "state": {
            "_model_module": "@jupyter-widgets/controls",
            "_model_module_version": "1.5.0",
            "_model_name": "DescriptionStyleModel",
            "_view_count": null,
            "_view_module": "@jupyter-widgets/base",
            "_view_module_version": "1.2.0",
            "_view_name": "StyleView",
            "description_width": ""
          }
        },
        "b7de603a3b564b35ac2f542b854f02c2": {
          "model_module": "@jupyter-widgets/controls",
          "model_name": "HBoxModel",
          "model_module_version": "1.5.0",
          "state": {
            "_dom_classes": [],
            "_model_module": "@jupyter-widgets/controls",
            "_model_module_version": "1.5.0",
            "_model_name": "HBoxModel",
            "_view_count": null,
            "_view_module": "@jupyter-widgets/controls",
            "_view_module_version": "1.5.0",
            "_view_name": "HBoxView",
            "box_style": "",
            "children": [
              "IPY_MODEL_6997a578c79c44b5a77f69f74e2126e4",
              "IPY_MODEL_877f02135a394947b0a13f72751a853b",
              "IPY_MODEL_efa586d4caf74eee9d74b036aff10ae4"
            ],
            "layout": "IPY_MODEL_9214c1aeccdd4fa6b0dfd2dba46cf07b"
          }
        },
        "6997a578c79c44b5a77f69f74e2126e4": {
          "model_module": "@jupyter-widgets/controls",
          "model_name": "HTMLModel",
          "model_module_version": "1.5.0",
          "state": {
            "_dom_classes": [],
            "_model_module": "@jupyter-widgets/controls",
            "_model_module_version": "1.5.0",
            "_model_name": "HTMLModel",
            "_view_count": null,
            "_view_module": "@jupyter-widgets/controls",
            "_view_module_version": "1.5.0",
            "_view_name": "HTMLView",
            "description": "",
            "description_tooltip": null,
            "layout": "IPY_MODEL_4517e383fd4847598dec5f9e6aeb2cf1",
            "placeholder": "​",
            "style": "IPY_MODEL_f85c79ad258548cf93126750c1700325",
            "value": "100%"
          }
        },
        "877f02135a394947b0a13f72751a853b": {
          "model_module": "@jupyter-widgets/controls",
          "model_name": "FloatProgressModel",
          "model_module_version": "1.5.0",
          "state": {
            "_dom_classes": [],
            "_model_module": "@jupyter-widgets/controls",
            "_model_module_version": "1.5.0",
            "_model_name": "FloatProgressModel",
            "_view_count": null,
            "_view_module": "@jupyter-widgets/controls",
            "_view_module_version": "1.5.0",
            "_view_name": "ProgressView",
            "bar_style": "success",
            "description": "",
            "description_tooltip": null,
            "layout": "IPY_MODEL_c799c75d3e564cc8900e706c57f8fda2",
            "max": 3000,
            "min": 0,
            "orientation": "horizontal",
            "style": "IPY_MODEL_5a2bfe9cfe9848ad81867e95b95f0999",
            "value": 3000
          }
        },
        "efa586d4caf74eee9d74b036aff10ae4": {
          "model_module": "@jupyter-widgets/controls",
          "model_name": "HTMLModel",
          "model_module_version": "1.5.0",
          "state": {
            "_dom_classes": [],
            "_model_module": "@jupyter-widgets/controls",
            "_model_module_version": "1.5.0",
            "_model_name": "HTMLModel",
            "_view_count": null,
            "_view_module": "@jupyter-widgets/controls",
            "_view_module_version": "1.5.0",
            "_view_name": "HTMLView",
            "description": "",
            "description_tooltip": null,
            "layout": "IPY_MODEL_5fb269bd5608457abf93f1d8184d1da8",
            "placeholder": "​",
            "style": "IPY_MODEL_9f07f4459cec4748b96e1b08aa48faa6",
            "value": " 3000/3000 [1:25:40&lt;00:00,  1.46s/it]"
          }
        },
        "9214c1aeccdd4fa6b0dfd2dba46cf07b": {
          "model_module": "@jupyter-widgets/base",
          "model_name": "LayoutModel",
          "model_module_version": "1.2.0",
          "state": {
            "_model_module": "@jupyter-widgets/base",
            "_model_module_version": "1.2.0",
            "_model_name": "LayoutModel",
            "_view_count": null,
            "_view_module": "@jupyter-widgets/base",
            "_view_module_version": "1.2.0",
            "_view_name": "LayoutView",
            "align_content": null,
            "align_items": null,
            "align_self": null,
            "border": null,
            "bottom": null,
            "display": null,
            "flex": null,
            "flex_flow": null,
            "grid_area": null,
            "grid_auto_columns": null,
            "grid_auto_flow": null,
            "grid_auto_rows": null,
            "grid_column": null,
            "grid_gap": null,
            "grid_row": null,
            "grid_template_areas": null,
            "grid_template_columns": null,
            "grid_template_rows": null,
            "height": null,
            "justify_content": null,
            "justify_items": null,
            "left": null,
            "margin": null,
            "max_height": null,
            "max_width": null,
            "min_height": null,
            "min_width": null,
            "object_fit": null,
            "object_position": null,
            "order": null,
            "overflow": null,
            "overflow_x": null,
            "overflow_y": null,
            "padding": null,
            "right": null,
            "top": null,
            "visibility": null,
            "width": null
          }
        },
        "4517e383fd4847598dec5f9e6aeb2cf1": {
          "model_module": "@jupyter-widgets/base",
          "model_name": "LayoutModel",
          "model_module_version": "1.2.0",
          "state": {
            "_model_module": "@jupyter-widgets/base",
            "_model_module_version": "1.2.0",
            "_model_name": "LayoutModel",
            "_view_count": null,
            "_view_module": "@jupyter-widgets/base",
            "_view_module_version": "1.2.0",
            "_view_name": "LayoutView",
            "align_content": null,
            "align_items": null,
            "align_self": null,
            "border": null,
            "bottom": null,
            "display": null,
            "flex": null,
            "flex_flow": null,
            "grid_area": null,
            "grid_auto_columns": null,
            "grid_auto_flow": null,
            "grid_auto_rows": null,
            "grid_column": null,
            "grid_gap": null,
            "grid_row": null,
            "grid_template_areas": null,
            "grid_template_columns": null,
            "grid_template_rows": null,
            "height": null,
            "justify_content": null,
            "justify_items": null,
            "left": null,
            "margin": null,
            "max_height": null,
            "max_width": null,
            "min_height": null,
            "min_width": null,
            "object_fit": null,
            "object_position": null,
            "order": null,
            "overflow": null,
            "overflow_x": null,
            "overflow_y": null,
            "padding": null,
            "right": null,
            "top": null,
            "visibility": null,
            "width": null
          }
        },
        "f85c79ad258548cf93126750c1700325": {
          "model_module": "@jupyter-widgets/controls",
          "model_name": "DescriptionStyleModel",
          "model_module_version": "1.5.0",
          "state": {
            "_model_module": "@jupyter-widgets/controls",
            "_model_module_version": "1.5.0",
            "_model_name": "DescriptionStyleModel",
            "_view_count": null,
            "_view_module": "@jupyter-widgets/base",
            "_view_module_version": "1.2.0",
            "_view_name": "StyleView",
            "description_width": ""
          }
        },
        "c799c75d3e564cc8900e706c57f8fda2": {
          "model_module": "@jupyter-widgets/base",
          "model_name": "LayoutModel",
          "model_module_version": "1.2.0",
          "state": {
            "_model_module": "@jupyter-widgets/base",
            "_model_module_version": "1.2.0",
            "_model_name": "LayoutModel",
            "_view_count": null,
            "_view_module": "@jupyter-widgets/base",
            "_view_module_version": "1.2.0",
            "_view_name": "LayoutView",
            "align_content": null,
            "align_items": null,
            "align_self": null,
            "border": null,
            "bottom": null,
            "display": null,
            "flex": null,
            "flex_flow": null,
            "grid_area": null,
            "grid_auto_columns": null,
            "grid_auto_flow": null,
            "grid_auto_rows": null,
            "grid_column": null,
            "grid_gap": null,
            "grid_row": null,
            "grid_template_areas": null,
            "grid_template_columns": null,
            "grid_template_rows": null,
            "height": null,
            "justify_content": null,
            "justify_items": null,
            "left": null,
            "margin": null,
            "max_height": null,
            "max_width": null,
            "min_height": null,
            "min_width": null,
            "object_fit": null,
            "object_position": null,
            "order": null,
            "overflow": null,
            "overflow_x": null,
            "overflow_y": null,
            "padding": null,
            "right": null,
            "top": null,
            "visibility": null,
            "width": null
          }
        },
        "5a2bfe9cfe9848ad81867e95b95f0999": {
          "model_module": "@jupyter-widgets/controls",
          "model_name": "ProgressStyleModel",
          "model_module_version": "1.5.0",
          "state": {
            "_model_module": "@jupyter-widgets/controls",
            "_model_module_version": "1.5.0",
            "_model_name": "ProgressStyleModel",
            "_view_count": null,
            "_view_module": "@jupyter-widgets/base",
            "_view_module_version": "1.2.0",
            "_view_name": "StyleView",
            "bar_color": null,
            "description_width": ""
          }
        },
        "5fb269bd5608457abf93f1d8184d1da8": {
          "model_module": "@jupyter-widgets/base",
          "model_name": "LayoutModel",
          "model_module_version": "1.2.0",
          "state": {
            "_model_module": "@jupyter-widgets/base",
            "_model_module_version": "1.2.0",
            "_model_name": "LayoutModel",
            "_view_count": null,
            "_view_module": "@jupyter-widgets/base",
            "_view_module_version": "1.2.0",
            "_view_name": "LayoutView",
            "align_content": null,
            "align_items": null,
            "align_self": null,
            "border": null,
            "bottom": null,
            "display": null,
            "flex": null,
            "flex_flow": null,
            "grid_area": null,
            "grid_auto_columns": null,
            "grid_auto_flow": null,
            "grid_auto_rows": null,
            "grid_column": null,
            "grid_gap": null,
            "grid_row": null,
            "grid_template_areas": null,
            "grid_template_columns": null,
            "grid_template_rows": null,
            "height": null,
            "justify_content": null,
            "justify_items": null,
            "left": null,
            "margin": null,
            "max_height": null,
            "max_width": null,
            "min_height": null,
            "min_width": null,
            "object_fit": null,
            "object_position": null,
            "order": null,
            "overflow": null,
            "overflow_x": null,
            "overflow_y": null,
            "padding": null,
            "right": null,
            "top": null,
            "visibility": null,
            "width": null
          }
        },
        "9f07f4459cec4748b96e1b08aa48faa6": {
          "model_module": "@jupyter-widgets/controls",
          "model_name": "DescriptionStyleModel",
          "model_module_version": "1.5.0",
          "state": {
            "_model_module": "@jupyter-widgets/controls",
            "_model_module_version": "1.5.0",
            "_model_name": "DescriptionStyleModel",
            "_view_count": null,
            "_view_module": "@jupyter-widgets/base",
            "_view_module_version": "1.2.0",
            "_view_name": "StyleView",
            "description_width": ""
          }
        },
        "4edb266a7cfc45cc98f2f5323084824d": {
          "model_module": "@jupyter-widgets/controls",
          "model_name": "HBoxModel",
          "model_module_version": "1.5.0",
          "state": {
            "_dom_classes": [],
            "_model_module": "@jupyter-widgets/controls",
            "_model_module_version": "1.5.0",
            "_model_name": "HBoxModel",
            "_view_count": null,
            "_view_module": "@jupyter-widgets/controls",
            "_view_module_version": "1.5.0",
            "_view_name": "HBoxView",
            "box_style": "",
            "children": [
              "IPY_MODEL_4316817794e84d61beef233940f7214b",
              "IPY_MODEL_1008f0a228bf41bfab203e161529b81b",
              "IPY_MODEL_3ead4a552f2d4b2cb37eef84199dbfc4"
            ],
            "layout": "IPY_MODEL_f150f268e956488d959354c22a164451"
          }
        },
        "4316817794e84d61beef233940f7214b": {
          "model_module": "@jupyter-widgets/controls",
          "model_name": "HTMLModel",
          "model_module_version": "1.5.0",
          "state": {
            "_dom_classes": [],
            "_model_module": "@jupyter-widgets/controls",
            "_model_module_version": "1.5.0",
            "_model_name": "HTMLModel",
            "_view_count": null,
            "_view_module": "@jupyter-widgets/controls",
            "_view_module_version": "1.5.0",
            "_view_name": "HTMLView",
            "description": "",
            "description_tooltip": null,
            "layout": "IPY_MODEL_33e3cf85c4b8494bb1c35b56dd930937",
            "placeholder": "​",
            "style": "IPY_MODEL_159e4969f646411facc71d2d992bb0a7",
            "value": "100%"
          }
        },
        "1008f0a228bf41bfab203e161529b81b": {
          "model_module": "@jupyter-widgets/controls",
          "model_name": "FloatProgressModel",
          "model_module_version": "1.5.0",
          "state": {
            "_dom_classes": [],
            "_model_module": "@jupyter-widgets/controls",
            "_model_module_version": "1.5.0",
            "_model_name": "FloatProgressModel",
            "_view_count": null,
            "_view_module": "@jupyter-widgets/controls",
            "_view_module_version": "1.5.0",
            "_view_name": "ProgressView",
            "bar_style": "success",
            "description": "",
            "description_tooltip": null,
            "layout": "IPY_MODEL_1455267c366f4ff6a3a41f64391230d0",
            "max": 3000,
            "min": 0,
            "orientation": "horizontal",
            "style": "IPY_MODEL_c948d0cec45f4da08193734018f4edee",
            "value": 3000
          }
        },
        "3ead4a552f2d4b2cb37eef84199dbfc4": {
          "model_module": "@jupyter-widgets/controls",
          "model_name": "HTMLModel",
          "model_module_version": "1.5.0",
          "state": {
            "_dom_classes": [],
            "_model_module": "@jupyter-widgets/controls",
            "_model_module_version": "1.5.0",
            "_model_name": "HTMLModel",
            "_view_count": null,
            "_view_module": "@jupyter-widgets/controls",
            "_view_module_version": "1.5.0",
            "_view_name": "HTMLView",
            "description": "",
            "description_tooltip": null,
            "layout": "IPY_MODEL_c359ba583cb441f1b300c2bf8d83134f",
            "placeholder": "​",
            "style": "IPY_MODEL_0d8e6a4faed54d52a046bc6b454c72dd",
            "value": " 3000/3000 [00:11&lt;00:00, 265.65it/s]"
          }
        },
        "f150f268e956488d959354c22a164451": {
          "model_module": "@jupyter-widgets/base",
          "model_name": "LayoutModel",
          "model_module_version": "1.2.0",
          "state": {
            "_model_module": "@jupyter-widgets/base",
            "_model_module_version": "1.2.0",
            "_model_name": "LayoutModel",
            "_view_count": null,
            "_view_module": "@jupyter-widgets/base",
            "_view_module_version": "1.2.0",
            "_view_name": "LayoutView",
            "align_content": null,
            "align_items": null,
            "align_self": null,
            "border": null,
            "bottom": null,
            "display": null,
            "flex": null,
            "flex_flow": null,
            "grid_area": null,
            "grid_auto_columns": null,
            "grid_auto_flow": null,
            "grid_auto_rows": null,
            "grid_column": null,
            "grid_gap": null,
            "grid_row": null,
            "grid_template_areas": null,
            "grid_template_columns": null,
            "grid_template_rows": null,
            "height": null,
            "justify_content": null,
            "justify_items": null,
            "left": null,
            "margin": null,
            "max_height": null,
            "max_width": null,
            "min_height": null,
            "min_width": null,
            "object_fit": null,
            "object_position": null,
            "order": null,
            "overflow": null,
            "overflow_x": null,
            "overflow_y": null,
            "padding": null,
            "right": null,
            "top": null,
            "visibility": null,
            "width": null
          }
        },
        "33e3cf85c4b8494bb1c35b56dd930937": {
          "model_module": "@jupyter-widgets/base",
          "model_name": "LayoutModel",
          "model_module_version": "1.2.0",
          "state": {
            "_model_module": "@jupyter-widgets/base",
            "_model_module_version": "1.2.0",
            "_model_name": "LayoutModel",
            "_view_count": null,
            "_view_module": "@jupyter-widgets/base",
            "_view_module_version": "1.2.0",
            "_view_name": "LayoutView",
            "align_content": null,
            "align_items": null,
            "align_self": null,
            "border": null,
            "bottom": null,
            "display": null,
            "flex": null,
            "flex_flow": null,
            "grid_area": null,
            "grid_auto_columns": null,
            "grid_auto_flow": null,
            "grid_auto_rows": null,
            "grid_column": null,
            "grid_gap": null,
            "grid_row": null,
            "grid_template_areas": null,
            "grid_template_columns": null,
            "grid_template_rows": null,
            "height": null,
            "justify_content": null,
            "justify_items": null,
            "left": null,
            "margin": null,
            "max_height": null,
            "max_width": null,
            "min_height": null,
            "min_width": null,
            "object_fit": null,
            "object_position": null,
            "order": null,
            "overflow": null,
            "overflow_x": null,
            "overflow_y": null,
            "padding": null,
            "right": null,
            "top": null,
            "visibility": null,
            "width": null
          }
        },
        "159e4969f646411facc71d2d992bb0a7": {
          "model_module": "@jupyter-widgets/controls",
          "model_name": "DescriptionStyleModel",
          "model_module_version": "1.5.0",
          "state": {
            "_model_module": "@jupyter-widgets/controls",
            "_model_module_version": "1.5.0",
            "_model_name": "DescriptionStyleModel",
            "_view_count": null,
            "_view_module": "@jupyter-widgets/base",
            "_view_module_version": "1.2.0",
            "_view_name": "StyleView",
            "description_width": ""
          }
        },
        "1455267c366f4ff6a3a41f64391230d0": {
          "model_module": "@jupyter-widgets/base",
          "model_name": "LayoutModel",
          "model_module_version": "1.2.0",
          "state": {
            "_model_module": "@jupyter-widgets/base",
            "_model_module_version": "1.2.0",
            "_model_name": "LayoutModel",
            "_view_count": null,
            "_view_module": "@jupyter-widgets/base",
            "_view_module_version": "1.2.0",
            "_view_name": "LayoutView",
            "align_content": null,
            "align_items": null,
            "align_self": null,
            "border": null,
            "bottom": null,
            "display": null,
            "flex": null,
            "flex_flow": null,
            "grid_area": null,
            "grid_auto_columns": null,
            "grid_auto_flow": null,
            "grid_auto_rows": null,
            "grid_column": null,
            "grid_gap": null,
            "grid_row": null,
            "grid_template_areas": null,
            "grid_template_columns": null,
            "grid_template_rows": null,
            "height": null,
            "justify_content": null,
            "justify_items": null,
            "left": null,
            "margin": null,
            "max_height": null,
            "max_width": null,
            "min_height": null,
            "min_width": null,
            "object_fit": null,
            "object_position": null,
            "order": null,
            "overflow": null,
            "overflow_x": null,
            "overflow_y": null,
            "padding": null,
            "right": null,
            "top": null,
            "visibility": null,
            "width": null
          }
        },
        "c948d0cec45f4da08193734018f4edee": {
          "model_module": "@jupyter-widgets/controls",
          "model_name": "ProgressStyleModel",
          "model_module_version": "1.5.0",
          "state": {
            "_model_module": "@jupyter-widgets/controls",
            "_model_module_version": "1.5.0",
            "_model_name": "ProgressStyleModel",
            "_view_count": null,
            "_view_module": "@jupyter-widgets/base",
            "_view_module_version": "1.2.0",
            "_view_name": "StyleView",
            "bar_color": null,
            "description_width": ""
          }
        },
        "c359ba583cb441f1b300c2bf8d83134f": {
          "model_module": "@jupyter-widgets/base",
          "model_name": "LayoutModel",
          "model_module_version": "1.2.0",
          "state": {
            "_model_module": "@jupyter-widgets/base",
            "_model_module_version": "1.2.0",
            "_model_name": "LayoutModel",
            "_view_count": null,
            "_view_module": "@jupyter-widgets/base",
            "_view_module_version": "1.2.0",
            "_view_name": "LayoutView",
            "align_content": null,
            "align_items": null,
            "align_self": null,
            "border": null,
            "bottom": null,
            "display": null,
            "flex": null,
            "flex_flow": null,
            "grid_area": null,
            "grid_auto_columns": null,
            "grid_auto_flow": null,
            "grid_auto_rows": null,
            "grid_column": null,
            "grid_gap": null,
            "grid_row": null,
            "grid_template_areas": null,
            "grid_template_columns": null,
            "grid_template_rows": null,
            "height": null,
            "justify_content": null,
            "justify_items": null,
            "left": null,
            "margin": null,
            "max_height": null,
            "max_width": null,
            "min_height": null,
            "min_width": null,
            "object_fit": null,
            "object_position": null,
            "order": null,
            "overflow": null,
            "overflow_x": null,
            "overflow_y": null,
            "padding": null,
            "right": null,
            "top": null,
            "visibility": null,
            "width": null
          }
        },
        "0d8e6a4faed54d52a046bc6b454c72dd": {
          "model_module": "@jupyter-widgets/controls",
          "model_name": "DescriptionStyleModel",
          "model_module_version": "1.5.0",
          "state": {
            "_model_module": "@jupyter-widgets/controls",
            "_model_module_version": "1.5.0",
            "_model_name": "DescriptionStyleModel",
            "_view_count": null,
            "_view_module": "@jupyter-widgets/base",
            "_view_module_version": "1.2.0",
            "_view_name": "StyleView",
            "description_width": ""
          }
        },
        "43e451edfaf14596ae87e6cf41674629": {
          "model_module": "@jupyter-widgets/controls",
          "model_name": "HBoxModel",
          "model_module_version": "1.5.0",
          "state": {
            "_dom_classes": [],
            "_model_module": "@jupyter-widgets/controls",
            "_model_module_version": "1.5.0",
            "_model_name": "HBoxModel",
            "_view_count": null,
            "_view_module": "@jupyter-widgets/controls",
            "_view_module_version": "1.5.0",
            "_view_name": "HBoxView",
            "box_style": "",
            "children": [
              "IPY_MODEL_b60b142dba22411ab9a21effb206aca7",
              "IPY_MODEL_e41cac82ab904bfdb71c99d172c18fea",
              "IPY_MODEL_c8428aa5b03a42a4b9e925d3c3e7ccf1"
            ],
            "layout": "IPY_MODEL_bbe62c4ab6a443ad8585583ca47f6dd5"
          }
        },
        "b60b142dba22411ab9a21effb206aca7": {
          "model_module": "@jupyter-widgets/controls",
          "model_name": "HTMLModel",
          "model_module_version": "1.5.0",
          "state": {
            "_dom_classes": [],
            "_model_module": "@jupyter-widgets/controls",
            "_model_module_version": "1.5.0",
            "_model_name": "HTMLModel",
            "_view_count": null,
            "_view_module": "@jupyter-widgets/controls",
            "_view_module_version": "1.5.0",
            "_view_name": "HTMLView",
            "description": "",
            "description_tooltip": null,
            "layout": "IPY_MODEL_46ae1e156a5a44d3adf12acedb98d178",
            "placeholder": "​",
            "style": "IPY_MODEL_c997d2735c7540ff8c4f7181d3c5f41e",
            "value": "100%"
          }
        },
        "e41cac82ab904bfdb71c99d172c18fea": {
          "model_module": "@jupyter-widgets/controls",
          "model_name": "FloatProgressModel",
          "model_module_version": "1.5.0",
          "state": {
            "_dom_classes": [],
            "_model_module": "@jupyter-widgets/controls",
            "_model_module_version": "1.5.0",
            "_model_name": "FloatProgressModel",
            "_view_count": null,
            "_view_module": "@jupyter-widgets/controls",
            "_view_module_version": "1.5.0",
            "_view_name": "ProgressView",
            "bar_style": "success",
            "description": "",
            "description_tooltip": null,
            "layout": "IPY_MODEL_31f05d162d14440c8f9b2b6e495816c1",
            "max": 3000,
            "min": 0,
            "orientation": "horizontal",
            "style": "IPY_MODEL_183b1efd723b475d8e4c1666ea778ad2",
            "value": 3000
          }
        },
        "c8428aa5b03a42a4b9e925d3c3e7ccf1": {
          "model_module": "@jupyter-widgets/controls",
          "model_name": "HTMLModel",
          "model_module_version": "1.5.0",
          "state": {
            "_dom_classes": [],
            "_model_module": "@jupyter-widgets/controls",
            "_model_module_version": "1.5.0",
            "_model_name": "HTMLModel",
            "_view_count": null,
            "_view_module": "@jupyter-widgets/controls",
            "_view_module_version": "1.5.0",
            "_view_name": "HTMLView",
            "description": "",
            "description_tooltip": null,
            "layout": "IPY_MODEL_9e40673332ae436da7ea5da0f579e384",
            "placeholder": "​",
            "style": "IPY_MODEL_698a85fd84fc422d98847c52c84d22ec",
            "value": " 3000/3000 [00:11&lt;00:00, 266.95it/s]"
          }
        },
        "bbe62c4ab6a443ad8585583ca47f6dd5": {
          "model_module": "@jupyter-widgets/base",
          "model_name": "LayoutModel",
          "model_module_version": "1.2.0",
          "state": {
            "_model_module": "@jupyter-widgets/base",
            "_model_module_version": "1.2.0",
            "_model_name": "LayoutModel",
            "_view_count": null,
            "_view_module": "@jupyter-widgets/base",
            "_view_module_version": "1.2.0",
            "_view_name": "LayoutView",
            "align_content": null,
            "align_items": null,
            "align_self": null,
            "border": null,
            "bottom": null,
            "display": null,
            "flex": null,
            "flex_flow": null,
            "grid_area": null,
            "grid_auto_columns": null,
            "grid_auto_flow": null,
            "grid_auto_rows": null,
            "grid_column": null,
            "grid_gap": null,
            "grid_row": null,
            "grid_template_areas": null,
            "grid_template_columns": null,
            "grid_template_rows": null,
            "height": null,
            "justify_content": null,
            "justify_items": null,
            "left": null,
            "margin": null,
            "max_height": null,
            "max_width": null,
            "min_height": null,
            "min_width": null,
            "object_fit": null,
            "object_position": null,
            "order": null,
            "overflow": null,
            "overflow_x": null,
            "overflow_y": null,
            "padding": null,
            "right": null,
            "top": null,
            "visibility": null,
            "width": null
          }
        },
        "46ae1e156a5a44d3adf12acedb98d178": {
          "model_module": "@jupyter-widgets/base",
          "model_name": "LayoutModel",
          "model_module_version": "1.2.0",
          "state": {
            "_model_module": "@jupyter-widgets/base",
            "_model_module_version": "1.2.0",
            "_model_name": "LayoutModel",
            "_view_count": null,
            "_view_module": "@jupyter-widgets/base",
            "_view_module_version": "1.2.0",
            "_view_name": "LayoutView",
            "align_content": null,
            "align_items": null,
            "align_self": null,
            "border": null,
            "bottom": null,
            "display": null,
            "flex": null,
            "flex_flow": null,
            "grid_area": null,
            "grid_auto_columns": null,
            "grid_auto_flow": null,
            "grid_auto_rows": null,
            "grid_column": null,
            "grid_gap": null,
            "grid_row": null,
            "grid_template_areas": null,
            "grid_template_columns": null,
            "grid_template_rows": null,
            "height": null,
            "justify_content": null,
            "justify_items": null,
            "left": null,
            "margin": null,
            "max_height": null,
            "max_width": null,
            "min_height": null,
            "min_width": null,
            "object_fit": null,
            "object_position": null,
            "order": null,
            "overflow": null,
            "overflow_x": null,
            "overflow_y": null,
            "padding": null,
            "right": null,
            "top": null,
            "visibility": null,
            "width": null
          }
        },
        "c997d2735c7540ff8c4f7181d3c5f41e": {
          "model_module": "@jupyter-widgets/controls",
          "model_name": "DescriptionStyleModel",
          "model_module_version": "1.5.0",
          "state": {
            "_model_module": "@jupyter-widgets/controls",
            "_model_module_version": "1.5.0",
            "_model_name": "DescriptionStyleModel",
            "_view_count": null,
            "_view_module": "@jupyter-widgets/base",
            "_view_module_version": "1.2.0",
            "_view_name": "StyleView",
            "description_width": ""
          }
        },
        "31f05d162d14440c8f9b2b6e495816c1": {
          "model_module": "@jupyter-widgets/base",
          "model_name": "LayoutModel",
          "model_module_version": "1.2.0",
          "state": {
            "_model_module": "@jupyter-widgets/base",
            "_model_module_version": "1.2.0",
            "_model_name": "LayoutModel",
            "_view_count": null,
            "_view_module": "@jupyter-widgets/base",
            "_view_module_version": "1.2.0",
            "_view_name": "LayoutView",
            "align_content": null,
            "align_items": null,
            "align_self": null,
            "border": null,
            "bottom": null,
            "display": null,
            "flex": null,
            "flex_flow": null,
            "grid_area": null,
            "grid_auto_columns": null,
            "grid_auto_flow": null,
            "grid_auto_rows": null,
            "grid_column": null,
            "grid_gap": null,
            "grid_row": null,
            "grid_template_areas": null,
            "grid_template_columns": null,
            "grid_template_rows": null,
            "height": null,
            "justify_content": null,
            "justify_items": null,
            "left": null,
            "margin": null,
            "max_height": null,
            "max_width": null,
            "min_height": null,
            "min_width": null,
            "object_fit": null,
            "object_position": null,
            "order": null,
            "overflow": null,
            "overflow_x": null,
            "overflow_y": null,
            "padding": null,
            "right": null,
            "top": null,
            "visibility": null,
            "width": null
          }
        },
        "183b1efd723b475d8e4c1666ea778ad2": {
          "model_module": "@jupyter-widgets/controls",
          "model_name": "ProgressStyleModel",
          "model_module_version": "1.5.0",
          "state": {
            "_model_module": "@jupyter-widgets/controls",
            "_model_module_version": "1.5.0",
            "_model_name": "ProgressStyleModel",
            "_view_count": null,
            "_view_module": "@jupyter-widgets/base",
            "_view_module_version": "1.2.0",
            "_view_name": "StyleView",
            "bar_color": null,
            "description_width": ""
          }
        },
        "9e40673332ae436da7ea5da0f579e384": {
          "model_module": "@jupyter-widgets/base",
          "model_name": "LayoutModel",
          "model_module_version": "1.2.0",
          "state": {
            "_model_module": "@jupyter-widgets/base",
            "_model_module_version": "1.2.0",
            "_model_name": "LayoutModel",
            "_view_count": null,
            "_view_module": "@jupyter-widgets/base",
            "_view_module_version": "1.2.0",
            "_view_name": "LayoutView",
            "align_content": null,
            "align_items": null,
            "align_self": null,
            "border": null,
            "bottom": null,
            "display": null,
            "flex": null,
            "flex_flow": null,
            "grid_area": null,
            "grid_auto_columns": null,
            "grid_auto_flow": null,
            "grid_auto_rows": null,
            "grid_column": null,
            "grid_gap": null,
            "grid_row": null,
            "grid_template_areas": null,
            "grid_template_columns": null,
            "grid_template_rows": null,
            "height": null,
            "justify_content": null,
            "justify_items": null,
            "left": null,
            "margin": null,
            "max_height": null,
            "max_width": null,
            "min_height": null,
            "min_width": null,
            "object_fit": null,
            "object_position": null,
            "order": null,
            "overflow": null,
            "overflow_x": null,
            "overflow_y": null,
            "padding": null,
            "right": null,
            "top": null,
            "visibility": null,
            "width": null
          }
        },
        "698a85fd84fc422d98847c52c84d22ec": {
          "model_module": "@jupyter-widgets/controls",
          "model_name": "DescriptionStyleModel",
          "model_module_version": "1.5.0",
          "state": {
            "_model_module": "@jupyter-widgets/controls",
            "_model_module_version": "1.5.0",
            "_model_name": "DescriptionStyleModel",
            "_view_count": null,
            "_view_module": "@jupyter-widgets/base",
            "_view_module_version": "1.2.0",
            "_view_name": "StyleView",
            "description_width": ""
          }
        }
      }
    }
  },
  "nbformat": 4,
  "nbformat_minor": 0
}